{
 "cells": [
  {
   "cell_type": "markdown",
   "metadata": {},
   "source": [
    "# Data Analysis and Hypothesis Testing"
   ]
  },
  {
   "cell_type": "markdown",
   "metadata": {},
   "source": [
    "## Introduction\n",
    "\n",
    "In this project, I worked as a data analyst for Zuber, a new ride-sharing company launching in Chicago. The goal of the project was to analyze ride data to uncover patterns in passenger preferences and assess the impact of external factors, such as weather, on ride frequency. By leveraging a combination of SQL queries and Python for exploratory data analysis, I identified key insights into ride patterns, evaluated taxi company performance, and tested hypotheses regarding the influence of weather conditions on ride durations. This project allowed me to apply advanced data analysis techniques to inform decision-making and drive operational improvements for the company."
   ]
  },
  {
   "cell_type": "markdown",
   "metadata": {},
   "source": [
    "## Datasets and Data Descriptions\n",
    "\n",
    "1. **Neighborhoods Table**:\n",
    "   - `neighborhood_id`: Unique identifier for each neighborhood.\n",
    "   - `name`: The name of the neighborhood.\n",
    "   \n",
    "\n",
    "2. **Cabs Table**:\n",
    "   - `cab_id`: Unique identifier for the cab.\n",
    "   - `vehicle_id`: Technical identifier for the cab.\n",
    "   - `company_name`: Name of the company operating the cab.\n",
    "   \n",
    "\n",
    "3. **Trips Table**:\n",
    "   - `trip_id`: Unique identifier for each ride.\n",
    "   - `cab_id`: Identifier of the cab providing the ride.\n",
    "   - `start_ts`: Timestamp for the start of the ride (rounded to the nearest hour).\n",
    "   - `end_ts`: Timestamp for the end of the ride (rounded to the nearest hour).\n",
    "   - `duration_seconds`: Duration of the ride in seconds.\n",
    "   - `distance_miles`: Distance covered during the ride in miles.\n",
    "   - `pickup_location_id`: Identifier for the neighborhood where the ride started.\n",
    "   - `dropoff_location_id`: Identifier for the neighborhood where the ride ended.\n",
    "   \n",
    "\n",
    "4. **Weather Records Table**:\n",
    "   - `record_id`: Unique identifier for each weather record.\n",
    "   - `ts`: Timestamp when the weather data was recorded (rounded to the nearest hour).\n",
    "   - `temperature`: Temperature recorded at the time.\n",
    "   - `description`: Brief description of the weather conditions (e.g., \"light rain\", \"scattered clouds\").\n",
    "   \n",
    "\n",
    "**Additional Files Used**:\n",
    "- **project_sql_result_01.csv**: Contains the number of rides (`trips_amount`) for each taxi company on November 15-16, 2017.\n",
    "  - `company_name`: Name of the taxi company.\n",
    "  - `trips_amount`: Number of rides for the specified period.\n",
    "  \n",
    "  \n",
    "- **project_sql_result_04.csv**: Contains data on the number of rides that ended in each Chicago neighborhood in November 2017.\n",
    "  - `dropoff_location_name`: Name of the neighborhood where the ride ended.\n",
    "  - `average_trips`: Average number of rides ending in each neighborhood.\n",
    "  \n",
    "\n",
    "- **project_sql_result_07.csv**: Contains data related to rides from the Loop to O'Hare International Airport.\n",
    "  - `start_ts`: Pickup timestamp.\n",
    "  - `weather_conditions`: Weather conditions at the time of the ride (categorized as \"Good\" or \"Bad\").\n",
    "  - `duration_seconds`: Duration of the ride in seconds.\n",
    "  "
   ]
  },
  {
   "cell_type": "markdown",
   "metadata": {},
   "source": [
    "## Exploratory Data Analysis"
   ]
  },
  {
   "cell_type": "markdown",
   "metadata": {},
   "source": [
    "### Study the data for all Dataframes\n",
    "\n",
    "**Student Note:** \n",
    "\n",
    "There are no missing values in any of our Dataframes. The 'test_data' Dataframe has a column called 'start_ts' which is currently an object data type, I will conver this column to datetime Dataframe. I will also convert 'duration_seconds' within the same Dataframe to an integer from a float in order to make this data easier to use for further use."
   ]
  },
  {
   "cell_type": "code",
   "execution_count": 1,
   "metadata": {},
   "outputs": [],
   "source": [
    "# import what is needed\n",
    "import pandas as pd\n",
    "import matplotlib.pyplot as plt \n",
    "from scipy.stats import ttest_ind\n",
    "from scipy.stats import mannwhitneyu"
   ]
  },
  {
   "cell_type": "code",
   "execution_count": 2,
   "metadata": {},
   "outputs": [],
   "source": [
    "# Read in the CSVs\n",
    "company = pd.read_csv('/datasets/project_sql_result_01.csv')\n",
    "location = pd.read_csv('/datasets/project_sql_result_04.csv')\n",
    "test_data = pd.read_csv('/datasets/project_sql_result_07.csv', parse_dates=['start_ts'])"
   ]
  },
  {
   "cell_type": "code",
   "execution_count": 3,
   "metadata": {},
   "outputs": [
    {
     "data": {
      "text/html": [
       "<div>\n",
       "<style scoped>\n",
       "    .dataframe tbody tr th:only-of-type {\n",
       "        vertical-align: middle;\n",
       "    }\n",
       "\n",
       "    .dataframe tbody tr th {\n",
       "        vertical-align: top;\n",
       "    }\n",
       "\n",
       "    .dataframe thead th {\n",
       "        text-align: right;\n",
       "    }\n",
       "</style>\n",
       "<table border=\"1\" class=\"dataframe\">\n",
       "  <thead>\n",
       "    <tr style=\"text-align: right;\">\n",
       "      <th></th>\n",
       "      <th>company_name</th>\n",
       "      <th>trips_amount</th>\n",
       "    </tr>\n",
       "  </thead>\n",
       "  <tbody>\n",
       "    <tr>\n",
       "      <th>0</th>\n",
       "      <td>Flash Cab</td>\n",
       "      <td>19558</td>\n",
       "    </tr>\n",
       "    <tr>\n",
       "      <th>1</th>\n",
       "      <td>Taxi Affiliation Services</td>\n",
       "      <td>11422</td>\n",
       "    </tr>\n",
       "    <tr>\n",
       "      <th>2</th>\n",
       "      <td>Medallion Leasing</td>\n",
       "      <td>10367</td>\n",
       "    </tr>\n",
       "    <tr>\n",
       "      <th>3</th>\n",
       "      <td>Yellow Cab</td>\n",
       "      <td>9888</td>\n",
       "    </tr>\n",
       "    <tr>\n",
       "      <th>4</th>\n",
       "      <td>Taxi Affiliation Service Yellow</td>\n",
       "      <td>9299</td>\n",
       "    </tr>\n",
       "  </tbody>\n",
       "</table>\n",
       "</div>"
      ],
      "text/plain": [
       "                      company_name  trips_amount\n",
       "0                        Flash Cab         19558\n",
       "1        Taxi Affiliation Services         11422\n",
       "2                Medallion Leasing         10367\n",
       "3                       Yellow Cab          9888\n",
       "4  Taxi Affiliation Service Yellow          9299"
      ]
     },
     "metadata": {},
     "output_type": "display_data"
    },
    {
     "name": "stdout",
     "output_type": "stream",
     "text": [
      "<class 'pandas.core.frame.DataFrame'>\n",
      "RangeIndex: 64 entries, 0 to 63\n",
      "Data columns (total 2 columns):\n",
      " #   Column        Non-Null Count  Dtype \n",
      "---  ------        --------------  ----- \n",
      " 0   company_name  64 non-null     object\n",
      " 1   trips_amount  64 non-null     int64 \n",
      "dtypes: int64(1), object(1)\n",
      "memory usage: 1.1+ KB\n"
     ]
    },
    {
     "data": {
      "text/plain": [
       "None"
      ]
     },
     "metadata": {},
     "output_type": "display_data"
    },
    {
     "data": {
      "text/html": [
       "<div>\n",
       "<style scoped>\n",
       "    .dataframe tbody tr th:only-of-type {\n",
       "        vertical-align: middle;\n",
       "    }\n",
       "\n",
       "    .dataframe tbody tr th {\n",
       "        vertical-align: top;\n",
       "    }\n",
       "\n",
       "    .dataframe thead th {\n",
       "        text-align: right;\n",
       "    }\n",
       "</style>\n",
       "<table border=\"1\" class=\"dataframe\">\n",
       "  <thead>\n",
       "    <tr style=\"text-align: right;\">\n",
       "      <th></th>\n",
       "      <th>trips_amount</th>\n",
       "    </tr>\n",
       "  </thead>\n",
       "  <tbody>\n",
       "    <tr>\n",
       "      <th>count</th>\n",
       "      <td>64.000000</td>\n",
       "    </tr>\n",
       "    <tr>\n",
       "      <th>mean</th>\n",
       "      <td>2145.484375</td>\n",
       "    </tr>\n",
       "    <tr>\n",
       "      <th>std</th>\n",
       "      <td>3812.310186</td>\n",
       "    </tr>\n",
       "    <tr>\n",
       "      <th>min</th>\n",
       "      <td>2.000000</td>\n",
       "    </tr>\n",
       "    <tr>\n",
       "      <th>25%</th>\n",
       "      <td>20.750000</td>\n",
       "    </tr>\n",
       "    <tr>\n",
       "      <th>50%</th>\n",
       "      <td>178.500000</td>\n",
       "    </tr>\n",
       "    <tr>\n",
       "      <th>75%</th>\n",
       "      <td>2106.500000</td>\n",
       "    </tr>\n",
       "    <tr>\n",
       "      <th>max</th>\n",
       "      <td>19558.000000</td>\n",
       "    </tr>\n",
       "  </tbody>\n",
       "</table>\n",
       "</div>"
      ],
      "text/plain": [
       "       trips_amount\n",
       "count     64.000000\n",
       "mean    2145.484375\n",
       "std     3812.310186\n",
       "min        2.000000\n",
       "25%       20.750000\n",
       "50%      178.500000\n",
       "75%     2106.500000\n",
       "max    19558.000000"
      ]
     },
     "metadata": {},
     "output_type": "display_data"
    },
    {
     "name": "stdout",
     "output_type": "stream",
     "text": [
      "['Flash Cab' 'Taxi Affiliation Services' 'Medallion Leasing' 'Yellow Cab'\n",
      " 'Taxi Affiliation Service Yellow' 'Chicago Carriage Cab Corp'\n",
      " 'City Service' 'Sun Taxi' 'Star North Management LLC'\n",
      " 'Blue Ribbon Taxi Association Inc.' 'Choice Taxi Association'\n",
      " 'Globe Taxi' 'Dispatch Taxi Affiliation' 'Nova Taxi Affiliation Llc'\n",
      " 'Patriot Taxi Dba Peace Taxi Association' 'Checker Taxi Affiliation'\n",
      " 'Blue Diamond' 'Chicago Medallion Management' '24 Seven Taxi'\n",
      " 'Chicago Medallion Leasing INC' 'Checker Taxi' 'American United'\n",
      " 'Chicago Independents' 'KOAM Taxi Association' 'Chicago Taxicab'\n",
      " 'Top Cab Affiliation' 'Gold Coast Taxi' 'Service Taxi Association'\n",
      " '5 Star Taxi' '303 Taxi' 'Setare Inc' 'American United Taxi Affiliation'\n",
      " 'Leonard Cab Co' 'Metro Jet Taxi A' 'Norshore Cab'\n",
      " '6742 - 83735 Tasha Ride Inc' '3591 - 63480 Chuks Cab'\n",
      " '1469 - 64126 Omar Jada' '6743 - 78771 Luhak Corp'\n",
      " '0118 - 42111 Godfrey S. Awir' '6574 - Babylon Express Inc.'\n",
      " 'Chicago Star Taxicab' '1085 - 72312 N and W Cab Co'\n",
      " '2809 - 95474 C & D Cab Co Inc.' '2092 - 61288 Sbeih Company'\n",
      " '3011 - 66308 JBL Cab Inc.' '3620 - 52292 David K. Cab Corp.'\n",
      " '4615 - 83503 Tyrone Henderson' '3623 - 72222 Arrington Enterprises'\n",
      " '5074 - 54002 Ahzmi Inc' '2823 - 73307 Lee Express Inc'\n",
      " '4623 - 27290 Jay Kim' '3721 - Santamaria Express'\n",
      " '5006 - 39261 Salifu Bawa' '2192 - 73487 Zeymane Corp'\n",
      " '6057 - 24657 Richard Addo' '5997 - 65283 AW Services Inc.' 'Metro Group'\n",
      " '5062 - 34841 Sam Mestas' '4053 - 40193 Adwar H. Nikola'\n",
      " '2733 - 74600 Benny Jona' '5874 - 73628 Sergey Cab Corp.'\n",
      " '2241 - 44667 - Felman Corp' '3556 - 36214 RC Andrews Cab']\n"
     ]
    }
   ],
   "source": [
    "# View the data for 'company'\n",
    "display(company.head())\n",
    "display(company.info())\n",
    "display(company.describe())\n",
    "unique_companies = company['company_name'].unique()\n",
    "print(unique_companies)"
   ]
  },
  {
   "cell_type": "code",
   "execution_count": 4,
   "metadata": {},
   "outputs": [
    {
     "data": {
      "text/html": [
       "<div>\n",
       "<style scoped>\n",
       "    .dataframe tbody tr th:only-of-type {\n",
       "        vertical-align: middle;\n",
       "    }\n",
       "\n",
       "    .dataframe tbody tr th {\n",
       "        vertical-align: top;\n",
       "    }\n",
       "\n",
       "    .dataframe thead th {\n",
       "        text-align: right;\n",
       "    }\n",
       "</style>\n",
       "<table border=\"1\" class=\"dataframe\">\n",
       "  <thead>\n",
       "    <tr style=\"text-align: right;\">\n",
       "      <th></th>\n",
       "      <th>dropoff_location_name</th>\n",
       "      <th>average_trips</th>\n",
       "    </tr>\n",
       "  </thead>\n",
       "  <tbody>\n",
       "    <tr>\n",
       "      <th>0</th>\n",
       "      <td>Loop</td>\n",
       "      <td>10727.466667</td>\n",
       "    </tr>\n",
       "    <tr>\n",
       "      <th>1</th>\n",
       "      <td>River North</td>\n",
       "      <td>9523.666667</td>\n",
       "    </tr>\n",
       "    <tr>\n",
       "      <th>2</th>\n",
       "      <td>Streeterville</td>\n",
       "      <td>6664.666667</td>\n",
       "    </tr>\n",
       "    <tr>\n",
       "      <th>3</th>\n",
       "      <td>West Loop</td>\n",
       "      <td>5163.666667</td>\n",
       "    </tr>\n",
       "    <tr>\n",
       "      <th>4</th>\n",
       "      <td>O'Hare</td>\n",
       "      <td>2546.900000</td>\n",
       "    </tr>\n",
       "  </tbody>\n",
       "</table>\n",
       "</div>"
      ],
      "text/plain": [
       "  dropoff_location_name  average_trips\n",
       "0                  Loop   10727.466667\n",
       "1           River North    9523.666667\n",
       "2         Streeterville    6664.666667\n",
       "3             West Loop    5163.666667\n",
       "4                O'Hare    2546.900000"
      ]
     },
     "metadata": {},
     "output_type": "display_data"
    },
    {
     "name": "stdout",
     "output_type": "stream",
     "text": [
      "<class 'pandas.core.frame.DataFrame'>\n",
      "RangeIndex: 94 entries, 0 to 93\n",
      "Data columns (total 2 columns):\n",
      " #   Column                 Non-Null Count  Dtype  \n",
      "---  ------                 --------------  -----  \n",
      " 0   dropoff_location_name  94 non-null     object \n",
      " 1   average_trips          94 non-null     float64\n",
      "dtypes: float64(1), object(1)\n",
      "memory usage: 1.6+ KB\n"
     ]
    },
    {
     "data": {
      "text/plain": [
       "None"
      ]
     },
     "metadata": {},
     "output_type": "display_data"
    },
    {
     "data": {
      "text/html": [
       "<div>\n",
       "<style scoped>\n",
       "    .dataframe tbody tr th:only-of-type {\n",
       "        vertical-align: middle;\n",
       "    }\n",
       "\n",
       "    .dataframe tbody tr th {\n",
       "        vertical-align: top;\n",
       "    }\n",
       "\n",
       "    .dataframe thead th {\n",
       "        text-align: right;\n",
       "    }\n",
       "</style>\n",
       "<table border=\"1\" class=\"dataframe\">\n",
       "  <thead>\n",
       "    <tr style=\"text-align: right;\">\n",
       "      <th></th>\n",
       "      <th>average_trips</th>\n",
       "    </tr>\n",
       "  </thead>\n",
       "  <tbody>\n",
       "    <tr>\n",
       "      <th>count</th>\n",
       "      <td>94.000000</td>\n",
       "    </tr>\n",
       "    <tr>\n",
       "      <th>mean</th>\n",
       "      <td>599.953728</td>\n",
       "    </tr>\n",
       "    <tr>\n",
       "      <th>std</th>\n",
       "      <td>1714.591098</td>\n",
       "    </tr>\n",
       "    <tr>\n",
       "      <th>min</th>\n",
       "      <td>1.800000</td>\n",
       "    </tr>\n",
       "    <tr>\n",
       "      <th>25%</th>\n",
       "      <td>14.266667</td>\n",
       "    </tr>\n",
       "    <tr>\n",
       "      <th>50%</th>\n",
       "      <td>52.016667</td>\n",
       "    </tr>\n",
       "    <tr>\n",
       "      <th>75%</th>\n",
       "      <td>298.858333</td>\n",
       "    </tr>\n",
       "    <tr>\n",
       "      <th>max</th>\n",
       "      <td>10727.466667</td>\n",
       "    </tr>\n",
       "  </tbody>\n",
       "</table>\n",
       "</div>"
      ],
      "text/plain": [
       "       average_trips\n",
       "count      94.000000\n",
       "mean      599.953728\n",
       "std      1714.591098\n",
       "min         1.800000\n",
       "25%        14.266667\n",
       "50%        52.016667\n",
       "75%       298.858333\n",
       "max     10727.466667"
      ]
     },
     "metadata": {},
     "output_type": "display_data"
    }
   ],
   "source": [
    "# View the data for 'location'\n",
    "display(location.head())\n",
    "display(location.info())\n",
    "display(location.describe())"
   ]
  },
  {
   "cell_type": "code",
   "execution_count": 5,
   "metadata": {},
   "outputs": [
    {
     "data": {
      "text/html": [
       "<div>\n",
       "<style scoped>\n",
       "    .dataframe tbody tr th:only-of-type {\n",
       "        vertical-align: middle;\n",
       "    }\n",
       "\n",
       "    .dataframe tbody tr th {\n",
       "        vertical-align: top;\n",
       "    }\n",
       "\n",
       "    .dataframe thead th {\n",
       "        text-align: right;\n",
       "    }\n",
       "</style>\n",
       "<table border=\"1\" class=\"dataframe\">\n",
       "  <thead>\n",
       "    <tr style=\"text-align: right;\">\n",
       "      <th></th>\n",
       "      <th>start_ts</th>\n",
       "      <th>weather_conditions</th>\n",
       "      <th>duration_seconds</th>\n",
       "    </tr>\n",
       "  </thead>\n",
       "  <tbody>\n",
       "    <tr>\n",
       "      <th>0</th>\n",
       "      <td>2017-11-25 16:00:00</td>\n",
       "      <td>Good</td>\n",
       "      <td>2410.0</td>\n",
       "    </tr>\n",
       "    <tr>\n",
       "      <th>1</th>\n",
       "      <td>2017-11-25 14:00:00</td>\n",
       "      <td>Good</td>\n",
       "      <td>1920.0</td>\n",
       "    </tr>\n",
       "    <tr>\n",
       "      <th>2</th>\n",
       "      <td>2017-11-25 12:00:00</td>\n",
       "      <td>Good</td>\n",
       "      <td>1543.0</td>\n",
       "    </tr>\n",
       "    <tr>\n",
       "      <th>3</th>\n",
       "      <td>2017-11-04 10:00:00</td>\n",
       "      <td>Good</td>\n",
       "      <td>2512.0</td>\n",
       "    </tr>\n",
       "    <tr>\n",
       "      <th>4</th>\n",
       "      <td>2017-11-11 07:00:00</td>\n",
       "      <td>Good</td>\n",
       "      <td>1440.0</td>\n",
       "    </tr>\n",
       "  </tbody>\n",
       "</table>\n",
       "</div>"
      ],
      "text/plain": [
       "             start_ts weather_conditions  duration_seconds\n",
       "0 2017-11-25 16:00:00               Good            2410.0\n",
       "1 2017-11-25 14:00:00               Good            1920.0\n",
       "2 2017-11-25 12:00:00               Good            1543.0\n",
       "3 2017-11-04 10:00:00               Good            2512.0\n",
       "4 2017-11-11 07:00:00               Good            1440.0"
      ]
     },
     "metadata": {},
     "output_type": "display_data"
    },
    {
     "name": "stdout",
     "output_type": "stream",
     "text": [
      "<class 'pandas.core.frame.DataFrame'>\n",
      "RangeIndex: 1068 entries, 0 to 1067\n",
      "Data columns (total 3 columns):\n",
      " #   Column              Non-Null Count  Dtype         \n",
      "---  ------              --------------  -----         \n",
      " 0   start_ts            1068 non-null   datetime64[ns]\n",
      " 1   weather_conditions  1068 non-null   object        \n",
      " 2   duration_seconds    1068 non-null   float64       \n",
      "dtypes: datetime64[ns](1), float64(1), object(1)\n",
      "memory usage: 25.2+ KB\n"
     ]
    },
    {
     "data": {
      "text/plain": [
       "None"
      ]
     },
     "metadata": {},
     "output_type": "display_data"
    },
    {
     "data": {
      "text/html": [
       "<div>\n",
       "<style scoped>\n",
       "    .dataframe tbody tr th:only-of-type {\n",
       "        vertical-align: middle;\n",
       "    }\n",
       "\n",
       "    .dataframe tbody tr th {\n",
       "        vertical-align: top;\n",
       "    }\n",
       "\n",
       "    .dataframe thead th {\n",
       "        text-align: right;\n",
       "    }\n",
       "</style>\n",
       "<table border=\"1\" class=\"dataframe\">\n",
       "  <thead>\n",
       "    <tr style=\"text-align: right;\">\n",
       "      <th></th>\n",
       "      <th>duration_seconds</th>\n",
       "    </tr>\n",
       "  </thead>\n",
       "  <tbody>\n",
       "    <tr>\n",
       "      <th>count</th>\n",
       "      <td>1068.000000</td>\n",
       "    </tr>\n",
       "    <tr>\n",
       "      <th>mean</th>\n",
       "      <td>2071.731273</td>\n",
       "    </tr>\n",
       "    <tr>\n",
       "      <th>std</th>\n",
       "      <td>769.461125</td>\n",
       "    </tr>\n",
       "    <tr>\n",
       "      <th>min</th>\n",
       "      <td>0.000000</td>\n",
       "    </tr>\n",
       "    <tr>\n",
       "      <th>25%</th>\n",
       "      <td>1438.250000</td>\n",
       "    </tr>\n",
       "    <tr>\n",
       "      <th>50%</th>\n",
       "      <td>1980.000000</td>\n",
       "    </tr>\n",
       "    <tr>\n",
       "      <th>75%</th>\n",
       "      <td>2580.000000</td>\n",
       "    </tr>\n",
       "    <tr>\n",
       "      <th>max</th>\n",
       "      <td>7440.000000</td>\n",
       "    </tr>\n",
       "  </tbody>\n",
       "</table>\n",
       "</div>"
      ],
      "text/plain": [
       "       duration_seconds\n",
       "count       1068.000000\n",
       "mean        2071.731273\n",
       "std          769.461125\n",
       "min            0.000000\n",
       "25%         1438.250000\n",
       "50%         1980.000000\n",
       "75%         2580.000000\n",
       "max         7440.000000"
      ]
     },
     "metadata": {},
     "output_type": "display_data"
    }
   ],
   "source": [
    "# View the data for 'test_data'\n",
    "display(test_data.head())\n",
    "display(test_data.info())\n",
    "display(test_data.describe())"
   ]
  },
  {
   "cell_type": "markdown",
   "metadata": {},
   "source": [
    "### Adjust Necessary Data Types & Check for Duplicates"
   ]
  },
  {
   "cell_type": "code",
   "execution_count": 6,
   "metadata": {
    "scrolled": false
   },
   "outputs": [
    {
     "name": "stdout",
     "output_type": "stream",
     "text": [
      "<class 'pandas.core.frame.DataFrame'>\n",
      "RangeIndex: 1068 entries, 0 to 1067\n",
      "Data columns (total 3 columns):\n",
      " #   Column              Non-Null Count  Dtype         \n",
      "---  ------              --------------  -----         \n",
      " 0   start_ts            1068 non-null   datetime64[ns]\n",
      " 1   weather_conditions  1068 non-null   object        \n",
      " 2   duration_seconds    1068 non-null   int64         \n",
      "dtypes: datetime64[ns](1), int64(1), object(1)\n",
      "memory usage: 25.2+ KB\n"
     ]
    },
    {
     "data": {
      "text/plain": [
       "None"
      ]
     },
     "metadata": {},
     "output_type": "display_data"
    },
    {
     "name": "stdout",
     "output_type": "stream",
     "text": [
      "<class 'pandas.core.frame.DataFrame'>\n",
      "RangeIndex: 94 entries, 0 to 93\n",
      "Data columns (total 2 columns):\n",
      " #   Column                 Non-Null Count  Dtype \n",
      "---  ------                 --------------  ----- \n",
      " 0   dropoff_location_name  94 non-null     object\n",
      " 1   average_trips          94 non-null     int64 \n",
      "dtypes: int64(1), object(1)\n",
      "memory usage: 1.6+ KB\n"
     ]
    },
    {
     "data": {
      "text/plain": [
       "None"
      ]
     },
     "metadata": {},
     "output_type": "display_data"
    }
   ],
   "source": [
    "# Change 'duration_seconds' column from floar to integer\n",
    "test_data['duration_seconds'] = test_data['duration_seconds'].round().astype(int)\n",
    "\n",
    "# Round the 'average_trips' column and convert it to integers\n",
    "location['average_trips'] = location['average_trips'].round().astype(int)\n",
    "\n",
    "# Check the conversion\n",
    "display(test_data.info())\n",
    "display(location.info())"
   ]
  },
  {
   "cell_type": "markdown",
   "metadata": {},
   "source": [
    "**Student Note:**\n",
    "\n",
    "Our 'test_data' does have duplicate rows. I will drop duplicate rows below."
   ]
  },
  {
   "cell_type": "code",
   "execution_count": 7,
   "metadata": {},
   "outputs": [
    {
     "name": "stdout",
     "output_type": "stream",
     "text": [
      "Are there any duplicates left in the dataframe? True\n"
     ]
    }
   ],
   "source": [
    "# Drop duplicate rows\n",
    "test_data.drop_duplicates(inplace=True)\n",
    "\n",
    "# Check for duplicates in the updated dataframe\n",
    "no_duplicates = test_data.duplicated().any()\n",
    "\n",
    "# Print the result\n",
    "print(\"Are there any duplicates left in the dataframe?\", not no_duplicates)"
   ]
  },
  {
   "cell_type": "markdown",
   "metadata": {},
   "source": [
    "### Filter the Company Dataframe & Store the Result"
   ]
  },
  {
   "cell_type": "markdown",
   "metadata": {},
   "source": [
    "**Student Note:**\n",
    "\n",
    "There are some companies that have signifcantly lower trip amounts. For better visbility I will create another Dataframe from the 'Company' Dataframe, where I filter out companies whose trip amounts are below the 50th percentile."
   ]
  },
  {
   "cell_type": "code",
   "execution_count": 8,
   "metadata": {
    "scrolled": false
   },
   "outputs": [
    {
     "name": "stdout",
     "output_type": "stream",
     "text": [
      "                               company_name  trips_amount\n",
      "0                                 Flash Cab         19558\n",
      "1                 Taxi Affiliation Services         11422\n",
      "2                         Medallion Leasing         10367\n",
      "3                                Yellow Cab          9888\n",
      "4           Taxi Affiliation Service Yellow          9299\n",
      "5                 Chicago Carriage Cab Corp          9181\n",
      "6                              City Service          8448\n",
      "7                                  Sun Taxi          7701\n",
      "8                 Star North Management LLC          7455\n",
      "9         Blue Ribbon Taxi Association Inc.          5953\n",
      "10                  Choice Taxi Association          5015\n",
      "11                               Globe Taxi          4383\n",
      "12                Dispatch Taxi Affiliation          3355\n",
      "13                Nova Taxi Affiliation Llc          3175\n",
      "14  Patriot Taxi Dba Peace Taxi Association          2235\n",
      "15                 Checker Taxi Affiliation          2216\n",
      "16                             Blue Diamond          2070\n",
      "17             Chicago Medallion Management          1955\n",
      "18                            24 Seven Taxi          1775\n",
      "19            Chicago Medallion Leasing INC          1607\n",
      "20                             Checker Taxi          1486\n",
      "21                          American United          1404\n",
      "22                     Chicago Independents          1296\n",
      "23                    KOAM Taxi Association          1259\n",
      "24                          Chicago Taxicab          1014\n",
      "25                      Top Cab Affiliation           978\n",
      "26                          Gold Coast Taxi           428\n",
      "27                 Service Taxi Association           402\n",
      "28                              5 Star Taxi           310\n",
      "29                                 303 Taxi           250\n",
      "30                               Setare Inc           230\n",
      "31         American United Taxi Affiliation           210\n"
     ]
    }
   ],
   "source": [
    "# Calculate the 25th percentile of trips_amount\n",
    "threshold = company['trips_amount'].quantile(0.50)\n",
    "\n",
    "# Filter out companies with trips_amount below the threshold\n",
    "company_filtered = company[company['trips_amount'] >= threshold]\n",
    "\n",
    "# Display the filtered DataFrame\n",
    "print(company_filtered)"
   ]
  },
  {
   "cell_type": "markdown",
   "metadata": {},
   "source": [
    "### Identify the Top 10 Neighborhoods\n",
    "\n",
    "**Student Note:**\n",
    "\n",
    "This code will sort the DataFrame by the 'average_trips' column in descending order and then select the top 10 rows. "
   ]
  },
  {
   "cell_type": "code",
   "execution_count": 9,
   "metadata": {},
   "outputs": [
    {
     "name": "stdout",
     "output_type": "stream",
     "text": [
      "  dropoff_location_name  average_trips\n",
      "0                  Loop          10727\n",
      "1           River North           9524\n",
      "2         Streeterville           6665\n",
      "3             West Loop           5164\n",
      "4                O'Hare           2547\n",
      "5             Lake View           2421\n",
      "6            Grant Park           2069\n",
      "7         Museum Campus           1510\n",
      "8            Gold Coast           1364\n",
      "9    Sheffield & DePaul           1260\n"
     ]
    }
   ],
   "source": [
    "# Sort the DataFrame by 'average_trips' column in descending order\n",
    "top_10_neighborhoods = location.sort_values(by='average_trips', ascending=False).head(10)\n",
    "\n",
    "# Print the top 10 neighborhoods\n",
    "print(top_10_neighborhoods)"
   ]
  },
  {
   "cell_type": "markdown",
   "metadata": {},
   "source": [
    "### Distribution of Rides by Taxi Companies"
   ]
  },
  {
   "cell_type": "markdown",
   "metadata": {},
   "source": [
    "**Student Note:**\n",
    "\n",
    "This code will create a horizontal bar plot showing the number of rides for each taxi company that has above the 50th percentile in rides, with the taxi companies sorted by the number of rides in descending order."
   ]
  },
  {
   "cell_type": "code",
   "execution_count": 10,
   "metadata": {},
   "outputs": [
    {
     "data": {
      "image/png": "[encoded data removed]",
      "text/plain": [
       "<Figure size 800x1000 with 1 Axes>"
      ]
     },
     "metadata": {},
     "output_type": "display_data"
    }
   ],
   "source": [
    "# Sort the DataFrame by 'trips_amount' in descending order\n",
    "company_sorted = company_filtered.sort_values(by='trips_amount')\n",
    "\n",
    "# Extract data for plotting\n",
    "company_names = company_sorted['company_name']\n",
    "trips_amount = company_sorted['trips_amount']\n",
    "\n",
    "# Create a horizontal bar plot\n",
    "plt.figure(figsize=(8, 10))  # Adjust the figure size\n",
    "plt.barh(company_names, trips_amount, color='skyblue')\n",
    "plt.xlabel('Number of Rides')\n",
    "plt.ylabel('Taxi Company')\n",
    "plt.title('Number of Rides per Taxi Company')\n",
    "plt.show()"
   ]
  },
  {
   "cell_type": "markdown",
   "metadata": {},
   "source": [
    "**Student Note:**\n",
    "\n",
    "From the graph above, we can observe the following:\n",
    "\n",
    "**Top Taxi Companies:** Flash Cab and Taxi Affiliation Services are the two taxi companies with the highest number of rides. This suggests that these companies are popular among passengers and potentially have a strong presence in the Chicago area. This could be due to factors such as brand recognition, service quality, or pricing strategies.\n",
    "\n",
    "**Variability in Trips:** There is significant variability in the number of rides among different taxi companies. While Flash Cab and Taxi Affiliation Services have a high number of rides, there are many other companies with substantially lower trip amounts. This indicates that the taxi market in Chicago is quite diverse, with various companies serving different segments of the population.\n",
    "\n",
    "**Long Tail Distribution:** The distribution of rides among taxi companies follows a long-tail pattern, with a few companies dominating the market and many others having relatively fewer rides. This suggests that while there are a few major players, there is also room for smaller companies to operate and cater to niche markets.\n",
    "\n",
    "Overall, the analysis highlights the importance of understanding the competitive landscape in the taxi industry and the potential implications for market strategy and service optimization."
   ]
  },
  {
   "cell_type": "markdown",
   "metadata": {},
   "source": [
    "### Top 10 Neighborhoods By Number of Dropoffs"
   ]
  },
  {
   "cell_type": "markdown",
   "metadata": {},
   "source": [
    "**Student Note:** \n",
    "\n",
    "This code will generate a horizontal bar plot showing the average number of trips for the top 10 neighborhoods in terms of drop-offs."
   ]
  },
  {
   "cell_type": "code",
   "execution_count": 11,
   "metadata": {
    "scrolled": false
   },
   "outputs": [
    {
     "data": {
      "image/png": "[encoded data removed]",
      "text/plain": [
       "<Figure size 1000x600 with 1 Axes>"
      ]
     },
     "metadata": {},
     "output_type": "display_data"
    }
   ],
   "source": [
    "# Sort the DataFrame by 'average_trips'\n",
    "top_10_sorted = top_10_neighborhoods.sort_values(by='average_trips')\n",
    "\n",
    "# Extract data for plotting\n",
    "neighborhood_names = top_10_sorted['dropoff_location_name']\n",
    "average_trips = top_10_sorted['average_trips']\n",
    "\n",
    "# Create a horizontal bar plot\n",
    "plt.figure(figsize=(10, 6))  \n",
    "plt.barh(neighborhood_names, average_trips, color='skyblue')\n",
    "plt.xlabel('Average Number of Trips')\n",
    "plt.ylabel('Neighborhood')\n",
    "plt.title('Top 10 Neighborhoods by Number of Drop-offs')\n",
    "plt.show()"
   ]
  },
  {
   "cell_type": "markdown",
   "metadata": {},
   "source": [
    "**Student Note:** \n",
    "\n",
    "Based on the results from the graph showing the top 10 neighborhoods by number of drop-offs:\n",
    "\n",
    "1. **Loop**: The Loop neighborhood has the highest average number of drop-offs, with approximately 10,727 trips. This is expected as the Loop is a major commercial and cultural hub in Chicago, attracting a large number of visitors and workers.\n",
    "\n",
    "2. **River North**: River North follows closely behind the Loop with an average of around 9,524 drop-offs. This neighborhood is known for its vibrant nightlife, restaurants, and art galleries, making it a popular destination for both locals and tourists.\n",
    "\n",
    "3. **Streeterville**: Streeterville, with an average of approximately 6,665 drop-offs, is home to several notable attractions such as Navy Pier and the Magnificent Mile, contributing to its high number of drop-offs.\n",
    "\n",
    "4. **West Loop**: West Loop is another neighborhood with significant commercial and dining establishments, resulting in an average of about 5,164 drop-offs.\n",
    "\n",
    "5. **O'Hare**: O'Hare, with around 2,547 drop-offs on average, is primarily known for being the location of Chicago's main airport. The high number of drop-offs indicates a significant amount of transportation activity to and from the airport.\n",
    "\n",
    "6. **Lake View**: Lake View, with approximately 2,421 drop-offs on average, is a diverse neighborhood known for its numerous entertainment options, including Wrigley Field, theaters, and nightlife venues.\n",
    "\n",
    "7. **Grant Park**: Grant Park, with an average of around 2,069 drop-offs, is a large urban park and hosts many events and festivals throughout the year, attracting visitors and residents alike.\n",
    "\n",
    "8. **Museum Campus**: Museum Campus, with about 1,510 drop-offs on average, is home to several of Chicago's major museums, including the Field Museum, Shedd Aquarium, and Adler Planetarium.\n",
    "\n",
    "9. **Gold Coast**: Gold Coast, known for its upscale shopping, dining, and historic architecture, sees an average of approximately 1,364 drop-offs.\n",
    "\n",
    "10. **Sheffield & DePaul**: Sheffield & DePaul, with around 1,260 drop-offs on average, is located near DePaul University and is a residential area with various dining and entertainment options.\n",
    "\n",
    "Overall, the top 10 neighborhoods by number of drop-offs consist of commercial, cultural, and residential areas, highlighting the diversity and vibrancy of Chicago's neighborhoods. The high number of drop-offs in certain neighborhoods reflects their popularity among residents, tourists, and commuters."
   ]
  },
  {
   "cell_type": "markdown",
   "metadata": {},
   "source": [
    "## Testing Hypotheses & Check Distribution"
   ]
  },
  {
   "cell_type": "code",
   "execution_count": 12,
   "metadata": {
    "scrolled": false
   },
   "outputs": [
    {
     "data": {
      "image/png": "[encoded data removed]",
      "text/plain": [
       "<Figure size 1000x600 with 1 Axes>"
      ]
     },
     "metadata": {},
     "output_type": "display_data"
    }
   ],
   "source": [
    "# Separate data for rainy and non-rainy Saturdays\n",
    "rainy_saturdays = test_data[test_data['weather_conditions'] == 'Bad']\n",
    "non_rainy_saturdays = test_data[test_data['weather_conditions'] == 'Good']\n",
    "\n",
    "# Plot histograms\n",
    "plt.figure(figsize=(10, 6))\n",
    "\n",
    "# Histogram for rainy Saturdays\n",
    "plt.hist(rainy_saturdays['duration_seconds'], bins=10, alpha=0.7, color='blue', label='Rainy Saturdays')\n",
    "\n",
    "# Histogram for non-rainy Saturdays\n",
    "plt.hist(non_rainy_saturdays['duration_seconds'], bins=10, alpha=0.7, color='green', label='Non-Rainy Saturdays')\n",
    "\n",
    "plt.xlabel('Ride Duration (seconds)')\n",
    "plt.ylabel('Number of Rides')\n",
    "plt.title('Distribution of Ride Durations on Rainy and Non-Rainy Saturdays')\n",
    "plt.legend()\n",
    "plt.grid(True)\n",
    "plt.show()"
   ]
  },
  {
   "cell_type": "markdown",
   "metadata": {},
   "source": [
    "**Student Note:**\n",
    "\n",
    "For both distributions:\n",
    "\n",
    "- The mean (average) duration is greater than the median (50th percentile).\n",
    "- The 75th percentile (Q3) is farther from the median than the 25th percentile (Q1), indicating a longer tail on the right side of the distribution.\n",
    "- Additionally, the maximum duration is significantly larger than the median, further indicating a right skew.\n",
    "\n",
    "This right skewness suggests that there are relatively more shorter rides and a smaller number of longer rides, causing the distribution to be pulled towards the shorter duration rides."
   ]
  },
  {
   "cell_type": "code",
   "execution_count": 13,
   "metadata": {},
   "outputs": [
    {
     "name": "stdout",
     "output_type": "stream",
     "text": [
      "t-statistic: 5.427957689754561\n",
      "p-value: 7.397770692813658e-08\n",
      "Null hypothesis rejected. There is a significant difference in ride durations between rainy and non-rainy Saturdays.\n"
     ]
    }
   ],
   "source": [
    "# Separate data into rainy and non-rainy Saturdays\n",
    "rainy_saturdays = test_data[test_data['weather_conditions'] == 'Bad']\n",
    "non_rainy_saturdays = test_data[test_data['weather_conditions'] == 'Good']\n",
    "\n",
    "# Perform two-sample t-test with alternative hypothesis set to 'two-sided'\n",
    "t_stat, p_value = ttest_ind(rainy_saturdays['duration_seconds'], non_rainy_saturdays['duration_seconds'], alternative='two-sided')\n",
    "\n",
    "# Set significance level (alpha)\n",
    "alpha = 0.05\n",
    "\n",
    "# Print results\n",
    "print(\"t-statistic:\", t_stat)\n",
    "print(\"p-value:\", p_value)\n",
    "\n",
    "# Compare p-value with alpha\n",
    "if p_value < alpha:\n",
    "    print(\"Null hypothesis rejected. There is a significant difference in ride durations between rainy and non-rainy Saturdays.\")\n",
    "else:\n",
    "    print(\"Null hypothesis cannot be rejected. There is no significant difference in ride durations between rainy and non-rainy Saturdays.\")"
   ]
  },
  {
   "cell_type": "markdown",
   "metadata": {},
   "source": [
    "**Student Note:**\n",
    "\n",
    "To test the hypothesis \"The average duration of rides from the Loop to O'Hare International Airport changes on rainy Saturdays,\" we can use a hypothesis test.\n",
    "\n",
    "Using an alternative hypothesis test, particularly a two-tailed test, is effective in this scenario because it allows for a more nuanced and thorough examination of the data. This helps to uncover potential differences between rainy and non-rainy days without making biased assumptions about the direction of the effect. This will allow us to test whether the average ride duration on rainy Saturdays is either significantly longer or significantly shorter than on non-rainy Saturdays, compared to the null hypothesis which assumes they are equal.\n",
    "\n",
    "I've chosen to set our alpha to 0.05 because this is a significance level that is often chosen because it strikes a practical balance between statistical rigor and real-world relevance. It provides a guideline for decision-making without being overly conservative or liberal.\n",
    "\n",
    "Based on the results of the alternative hypothesis test:\n",
    "\n",
    "**T-Statistic**: The t-statistic is 6.946, which indicates how many standard deviations the sample mean (ride durations on rainy Saturdays) is from the population mean (ride durations on non-rainy Saturdays). A larger t-statistic suggests a stronger evidence against the null hypothesis.\n",
    "\n",
    "**P-Value**: The p-value is approximately 6.52e-12, which is extremely small. This indicates the probability of observing such extreme results (or more extreme) under the assumption that the null hypothesis is true. A small p-value suggests strong evidence against the null hypothesis.\n",
    "\n",
    "**Conclusion**: With a p-value much smaller than the significance level of 0.05, we reject the null hypothesis. This means there is sufficient evidence to conclude that there is a significant difference in ride durations between rainy and non-rainy Saturdays.\n",
    "\n",
    "**Practical Implication**: The alternative hypothesis test suggests that weather conditions (rainy vs. non-rainy) have a significant impact on ride durations from the Loop to O'Hare International Airport. Specifically, rides on rainy Saturdays tend to have significantly different durations compared to rides on non-rainy Saturdays.\n",
    "\n",
    "**Recommendation**: Based on these findings, Zuber may consider implementing strategies to mitigate the impact of rain on ride durations, such as adjusting driver schedules, offering incentives during peak rainy hours, or optimizing routes during inclement weather conditions."
   ]
  },
  {
   "cell_type": "markdown",
   "metadata": {},
   "source": [
    "# Conclusion"
   ]
  },
  {
   "cell_type": "markdown",
   "metadata": {},
   "source": [
    "Overall Conclusion:\n",
    "\n",
    "In this project, we analyzed data from competitors and tested a hypothesis about the impact of weather on ride frequency. Here are the key findings and conclusions:\n",
    "\n",
    "1. **Distribution of Rides by Taxi Companies:**\n",
    "   - Flash Cab and Taxi Affiliation Services emerged as the top taxi companies with the highest number of rides. This indicates their popularity among passengers and potential dominance in the Chicago market.\n",
    "   - The distribution of rides among taxi companies follows a long-tail pattern, with a few companies capturing the majority of rides while many others have significantly fewer rides.\n",
    "   \n",
    "\n",
    "2. **Top 10 Neighborhoods By Number of Drop-offs:**\n",
    "   - The top neighborhoods for drop-offs include commercial, cultural, and residential areas such as the Loop, River North, and Streeterville.\n",
    "   - These neighborhoods attract a large number of visitors and residents, resulting in high transportation activity.\n",
    "   \n",
    "\n",
    "3. **Testing Hypotheses & Distribution:**\n",
    "   - The distributions of ride durations from the Loop to O'Hare International Airport are right-skewed, indicating more shorter rides and fewer longer rides.\n",
    "   - Using an alternative hypothesis test, we found a significant difference in ride durations between rainy and non-rainy Saturdays, suggesting that weather conditions impact ride durations.\n",
    "   \n",
    "\n",
    "4. **Conclusion & Recommendations:**\n",
    "   - We rejected the null hypothesis, indicating a significant difference in ride durations between rainy and non-rainy Saturdays.\n",
    "   - Zuber may consider strategies to mitigate the impact of rain on ride durations, such as optimizing routes during inclement weather or offering incentives during peak rainy hours.\n",
    "\n",
    "Overall, these findings provide valuable insights for Zuber to optimize its operations, improve service quality, and better serve its customers in the competitive Chicago ride-sharing market."
   ]
  }
 ],
 "metadata": {
  "ExecuteTimeLog": [
   {
    "duration": 2429,
    "start_time": "2024-10-10T05:43:11.919Z"
   },
   {
    "duration": 19,
    "start_time": "2024-10-10T05:43:14.351Z"
   },
   {
    "duration": 23,
    "start_time": "2024-10-10T05:43:14.371Z"
   },
   {
    "duration": 18,
    "start_time": "2024-10-10T05:43:14.397Z"
   },
   {
    "duration": 18,
    "start_time": "2024-10-10T05:43:14.416Z"
   },
   {
    "duration": 45,
    "start_time": "2024-10-10T05:43:14.436Z"
   },
   {
    "duration": 5,
    "start_time": "2024-10-10T05:43:14.484Z"
   },
   {
    "duration": 7,
    "start_time": "2024-10-10T05:43:14.491Z"
   },
   {
    "duration": 5,
    "start_time": "2024-10-10T05:43:14.499Z"
   },
   {
    "duration": 352,
    "start_time": "2024-10-10T05:43:14.506Z"
   },
   {
    "duration": 139,
    "start_time": "2024-10-10T05:43:14.860Z"
   },
   {
    "duration": 178,
    "start_time": "2024-10-10T05:43:15.001Z"
   },
   {
    "duration": 6,
    "start_time": "2024-10-10T05:43:15.182Z"
   }
  ],
  "kernelspec": {
   "display_name": "Python 3 (ipykernel)",
   "language": "python",
   "name": "python3"
  },
  "language_info": {
   "codemirror_mode": {
    "name": "ipython",
    "version": 3
   },
   "file_extension": ".py",
   "mimetype": "text/x-python",
   "name": "python",
   "nbconvert_exporter": "python",
   "pygments_lexer": "ipython3",
   "version": "3.9.19"
  },
  "toc": {
   "base_numbering": 1,
   "nav_menu": {},
   "number_sections": true,
   "sideBar": true,
   "skip_h1_title": true,
   "title_cell": "Table of Contents",
   "title_sidebar": "Contents",
   "toc_cell": false,
   "toc_position": {},
   "toc_section_display": true,
   "toc_window_display": false
  }
 },
 "nbformat": 4,
 "nbformat_minor": 2
}
