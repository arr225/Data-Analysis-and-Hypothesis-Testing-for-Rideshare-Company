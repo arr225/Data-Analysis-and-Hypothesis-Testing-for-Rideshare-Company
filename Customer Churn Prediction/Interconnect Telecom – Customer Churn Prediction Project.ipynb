{
 "cells": [
  {
   "cell_type": "markdown",
   "metadata": {},
   "source": [
    "# Interconnect Telecom – Customer Churn Prediction Project"
   ]
  },
  {
   "cell_type": "markdown",
   "metadata": {},
   "source": [
    "## Introduction\n",
    "\n",
    "Interconnect, a telecom operator, seeks to forecast customer churn to proactively offer promotions and special plans to at-risk clients. The company provides landline, internet, and additional services like internet security, tech support, and streaming. Customers can choose between monthly or long-term contracts with various payment methods.\n",
    "\n",
    "The project uses data on contracts, personal info, internet, and phone services to predict churn. The target is customers with an `EndDate` marked as `\"No\"` (active clients), and the model will be evaluated using the **AUC-ROC** metric, aiming for a score of 0.88 or higher to maximize points. \n",
    "\n",
    "This initiative will help Interconnect reduce churn and improve customer retention through targeted offers."
   ]
  },
  {
   "cell_type": "markdown",
   "metadata": {},
   "source": [
    "## Datasets & data descriptions:\n",
    "\n",
    "1. **Contract Data** (`contract.csv`):\n",
    "   - Contains contract details such as `customerID`, `BeginDate`, `EndDate`, `Type`, `PaperlessBilling`, `PaymentMethod`, `MonthlyCharges`, and `TotalCharges`.\n",
    "   \n",
    "\n",
    "2. **Personal Data** (`personal.csv`):\n",
    "   - Includes personal information like `customerID`, `gender`, `SeniorCitizen`, `Partner`, and `Dependents`.\n",
    "   \n",
    "\n",
    "3. **Internet Data** (`internet.csv`):\n",
    "   - Provides details about internet services such as `customerID`, `InternetService`, `OnlineSecurity`, `OnlineBackup`, `DeviceProtection`, `TechSupport`, `StreamingTV`, and `StreamingMovies`.\n",
    "   \n",
    "\n",
    "4. **Phone Data** (`phone.csv`):\n",
    "   - Contains information on phone services like `customerID` and `MultipleLines`."
   ]
  },
  {
   "cell_type": "markdown",
   "metadata": {},
   "source": [
    "## Load & Review Data"
   ]
  },
  {
   "cell_type": "code",
   "execution_count": 1,
   "metadata": {},
   "outputs": [],
   "source": [
    "import pandas as pd\n",
    "import numpy as np\n",
    "from tqdm import tqdm\n",
    "\n",
    "import matplotlib.pyplot as plt\n",
    "import seaborn as sns\n",
    "import xgboost as xgb\n",
    "import lightgbm as lgb\n",
    "\n",
    "from sklearn.model_selection import train_test_split, GridSearchCV, RandomizedSearchCV\n",
    "from sklearn.preprocessing import StandardScaler, LabelEncoder\n",
    "from sklearn.ensemble import RandomForestClassifier\n",
    "from sklearn.ensemble import GradientBoostingClassifier\n",
    "from sklearn.linear_model import LogisticRegression\n",
    "from sklearn.metrics import roc_auc_score, accuracy_score, classification_report\n",
    "from xgboost import XGBClassifier\n",
    "from lightgbm import LGBMClassifier\n",
    "from sklearn.model_selection import StratifiedKFold"
   ]
  },
  {
   "cell_type": "code",
   "execution_count": 2,
   "metadata": {},
   "outputs": [
    {
     "name": "stdout",
     "output_type": "stream",
     "text": [
      "Contract Data Info:\n",
      "<class 'pandas.core.frame.DataFrame'>\n",
      "RangeIndex: 7043 entries, 0 to 7042\n",
      "Data columns (total 8 columns):\n",
      " #   Column            Non-Null Count  Dtype  \n",
      "---  ------            --------------  -----  \n",
      " 0   customerID        7043 non-null   object \n",
      " 1   BeginDate         7043 non-null   object \n",
      " 2   EndDate           7043 non-null   object \n",
      " 3   Type              7043 non-null   object \n",
      " 4   PaperlessBilling  7043 non-null   object \n",
      " 5   PaymentMethod     7043 non-null   object \n",
      " 6   MonthlyCharges    7043 non-null   float64\n",
      " 7   TotalCharges      7043 non-null   object \n",
      "dtypes: float64(1), object(7)\n",
      "memory usage: 440.3+ KB\n"
     ]
    },
    {
     "data": {
      "text/html": [
       "<div>\n",
       "<style scoped>\n",
       "    .dataframe tbody tr th:only-of-type {\n",
       "        vertical-align: middle;\n",
       "    }\n",
       "\n",
       "    .dataframe tbody tr th {\n",
       "        vertical-align: top;\n",
       "    }\n",
       "\n",
       "    .dataframe thead th {\n",
       "        text-align: right;\n",
       "    }\n",
       "</style>\n",
       "<table border=\"1\" class=\"dataframe\">\n",
       "  <thead>\n",
       "    <tr style=\"text-align: right;\">\n",
       "      <th></th>\n",
       "      <th>customerID</th>\n",
       "      <th>BeginDate</th>\n",
       "      <th>EndDate</th>\n",
       "      <th>Type</th>\n",
       "      <th>PaperlessBilling</th>\n",
       "      <th>PaymentMethod</th>\n",
       "      <th>MonthlyCharges</th>\n",
       "      <th>TotalCharges</th>\n",
       "    </tr>\n",
       "  </thead>\n",
       "  <tbody>\n",
       "    <tr>\n",
       "      <th>0</th>\n",
       "      <td>7590-VHVEG</td>\n",
       "      <td>2020-01-01</td>\n",
       "      <td>No</td>\n",
       "      <td>Month-to-month</td>\n",
       "      <td>Yes</td>\n",
       "      <td>Electronic check</td>\n",
       "      <td>29.85</td>\n",
       "      <td>29.85</td>\n",
       "    </tr>\n",
       "    <tr>\n",
       "      <th>1</th>\n",
       "      <td>5575-GNVDE</td>\n",
       "      <td>2017-04-01</td>\n",
       "      <td>No</td>\n",
       "      <td>One year</td>\n",
       "      <td>No</td>\n",
       "      <td>Mailed check</td>\n",
       "      <td>56.95</td>\n",
       "      <td>1889.5</td>\n",
       "    </tr>\n",
       "    <tr>\n",
       "      <th>2</th>\n",
       "      <td>3668-QPYBK</td>\n",
       "      <td>2019-10-01</td>\n",
       "      <td>2019-12-01 00:00:00</td>\n",
       "      <td>Month-to-month</td>\n",
       "      <td>Yes</td>\n",
       "      <td>Mailed check</td>\n",
       "      <td>53.85</td>\n",
       "      <td>108.15</td>\n",
       "    </tr>\n",
       "    <tr>\n",
       "      <th>3</th>\n",
       "      <td>7795-CFOCW</td>\n",
       "      <td>2016-05-01</td>\n",
       "      <td>No</td>\n",
       "      <td>One year</td>\n",
       "      <td>No</td>\n",
       "      <td>Bank transfer (automatic)</td>\n",
       "      <td>42.30</td>\n",
       "      <td>1840.75</td>\n",
       "    </tr>\n",
       "    <tr>\n",
       "      <th>4</th>\n",
       "      <td>9237-HQITU</td>\n",
       "      <td>2019-09-01</td>\n",
       "      <td>2019-11-01 00:00:00</td>\n",
       "      <td>Month-to-month</td>\n",
       "      <td>Yes</td>\n",
       "      <td>Electronic check</td>\n",
       "      <td>70.70</td>\n",
       "      <td>151.65</td>\n",
       "    </tr>\n",
       "  </tbody>\n",
       "</table>\n",
       "</div>"
      ],
      "text/plain": [
       "   customerID   BeginDate              EndDate            Type  \\\n",
       "0  7590-VHVEG  2020-01-01                   No  Month-to-month   \n",
       "1  5575-GNVDE  2017-04-01                   No        One year   \n",
       "2  3668-QPYBK  2019-10-01  2019-12-01 00:00:00  Month-to-month   \n",
       "3  7795-CFOCW  2016-05-01                   No        One year   \n",
       "4  9237-HQITU  2019-09-01  2019-11-01 00:00:00  Month-to-month   \n",
       "\n",
       "  PaperlessBilling              PaymentMethod  MonthlyCharges TotalCharges  \n",
       "0              Yes           Electronic check           29.85        29.85  \n",
       "1               No               Mailed check           56.95       1889.5  \n",
       "2              Yes               Mailed check           53.85       108.15  \n",
       "3               No  Bank transfer (automatic)           42.30      1840.75  \n",
       "4              Yes           Electronic check           70.70       151.65  "
      ]
     },
     "metadata": {},
     "output_type": "display_data"
    },
    {
     "name": "stdout",
     "output_type": "stream",
     "text": [
      "\n",
      "Personal Data Info:\n",
      "<class 'pandas.core.frame.DataFrame'>\n",
      "RangeIndex: 7043 entries, 0 to 7042\n",
      "Data columns (total 5 columns):\n",
      " #   Column         Non-Null Count  Dtype \n",
      "---  ------         --------------  ----- \n",
      " 0   customerID     7043 non-null   object\n",
      " 1   gender         7043 non-null   object\n",
      " 2   SeniorCitizen  7043 non-null   int64 \n",
      " 3   Partner        7043 non-null   object\n",
      " 4   Dependents     7043 non-null   object\n",
      "dtypes: int64(1), object(4)\n",
      "memory usage: 275.2+ KB\n"
     ]
    },
    {
     "data": {
      "text/html": [
       "<div>\n",
       "<style scoped>\n",
       "    .dataframe tbody tr th:only-of-type {\n",
       "        vertical-align: middle;\n",
       "    }\n",
       "\n",
       "    .dataframe tbody tr th {\n",
       "        vertical-align: top;\n",
       "    }\n",
       "\n",
       "    .dataframe thead th {\n",
       "        text-align: right;\n",
       "    }\n",
       "</style>\n",
       "<table border=\"1\" class=\"dataframe\">\n",
       "  <thead>\n",
       "    <tr style=\"text-align: right;\">\n",
       "      <th></th>\n",
       "      <th>customerID</th>\n",
       "      <th>gender</th>\n",
       "      <th>SeniorCitizen</th>\n",
       "      <th>Partner</th>\n",
       "      <th>Dependents</th>\n",
       "    </tr>\n",
       "  </thead>\n",
       "  <tbody>\n",
       "    <tr>\n",
       "      <th>0</th>\n",
       "      <td>7590-VHVEG</td>\n",
       "      <td>Female</td>\n",
       "      <td>0</td>\n",
       "      <td>Yes</td>\n",
       "      <td>No</td>\n",
       "    </tr>\n",
       "    <tr>\n",
       "      <th>1</th>\n",
       "      <td>5575-GNVDE</td>\n",
       "      <td>Male</td>\n",
       "      <td>0</td>\n",
       "      <td>No</td>\n",
       "      <td>No</td>\n",
       "    </tr>\n",
       "    <tr>\n",
       "      <th>2</th>\n",
       "      <td>3668-QPYBK</td>\n",
       "      <td>Male</td>\n",
       "      <td>0</td>\n",
       "      <td>No</td>\n",
       "      <td>No</td>\n",
       "    </tr>\n",
       "    <tr>\n",
       "      <th>3</th>\n",
       "      <td>7795-CFOCW</td>\n",
       "      <td>Male</td>\n",
       "      <td>0</td>\n",
       "      <td>No</td>\n",
       "      <td>No</td>\n",
       "    </tr>\n",
       "    <tr>\n",
       "      <th>4</th>\n",
       "      <td>9237-HQITU</td>\n",
       "      <td>Female</td>\n",
       "      <td>0</td>\n",
       "      <td>No</td>\n",
       "      <td>No</td>\n",
       "    </tr>\n",
       "  </tbody>\n",
       "</table>\n",
       "</div>"
      ],
      "text/plain": [
       "   customerID  gender  SeniorCitizen Partner Dependents\n",
       "0  7590-VHVEG  Female              0     Yes         No\n",
       "1  5575-GNVDE    Male              0      No         No\n",
       "2  3668-QPYBK    Male              0      No         No\n",
       "3  7795-CFOCW    Male              0      No         No\n",
       "4  9237-HQITU  Female              0      No         No"
      ]
     },
     "metadata": {},
     "output_type": "display_data"
    },
    {
     "name": "stdout",
     "output_type": "stream",
     "text": [
      "\n",
      "Internet Data Info:\n",
      "<class 'pandas.core.frame.DataFrame'>\n",
      "RangeIndex: 5517 entries, 0 to 5516\n",
      "Data columns (total 8 columns):\n",
      " #   Column            Non-Null Count  Dtype \n",
      "---  ------            --------------  ----- \n",
      " 0   customerID        5517 non-null   object\n",
      " 1   InternetService   5517 non-null   object\n",
      " 2   OnlineSecurity    5517 non-null   object\n",
      " 3   OnlineBackup      5517 non-null   object\n",
      " 4   DeviceProtection  5517 non-null   object\n",
      " 5   TechSupport       5517 non-null   object\n",
      " 6   StreamingTV       5517 non-null   object\n",
      " 7   StreamingMovies   5517 non-null   object\n",
      "dtypes: object(8)\n",
      "memory usage: 344.9+ KB\n"
     ]
    },
    {
     "data": {
      "text/html": [
       "<div>\n",
       "<style scoped>\n",
       "    .dataframe tbody tr th:only-of-type {\n",
       "        vertical-align: middle;\n",
       "    }\n",
       "\n",
       "    .dataframe tbody tr th {\n",
       "        vertical-align: top;\n",
       "    }\n",
       "\n",
       "    .dataframe thead th {\n",
       "        text-align: right;\n",
       "    }\n",
       "</style>\n",
       "<table border=\"1\" class=\"dataframe\">\n",
       "  <thead>\n",
       "    <tr style=\"text-align: right;\">\n",
       "      <th></th>\n",
       "      <th>customerID</th>\n",
       "      <th>InternetService</th>\n",
       "      <th>OnlineSecurity</th>\n",
       "      <th>OnlineBackup</th>\n",
       "      <th>DeviceProtection</th>\n",
       "      <th>TechSupport</th>\n",
       "      <th>StreamingTV</th>\n",
       "      <th>StreamingMovies</th>\n",
       "    </tr>\n",
       "  </thead>\n",
       "  <tbody>\n",
       "    <tr>\n",
       "      <th>0</th>\n",
       "      <td>7590-VHVEG</td>\n",
       "      <td>DSL</td>\n",
       "      <td>No</td>\n",
       "      <td>Yes</td>\n",
       "      <td>No</td>\n",
       "      <td>No</td>\n",
       "      <td>No</td>\n",
       "      <td>No</td>\n",
       "    </tr>\n",
       "    <tr>\n",
       "      <th>1</th>\n",
       "      <td>5575-GNVDE</td>\n",
       "      <td>DSL</td>\n",
       "      <td>Yes</td>\n",
       "      <td>No</td>\n",
       "      <td>Yes</td>\n",
       "      <td>No</td>\n",
       "      <td>No</td>\n",
       "      <td>No</td>\n",
       "    </tr>\n",
       "    <tr>\n",
       "      <th>2</th>\n",
       "      <td>3668-QPYBK</td>\n",
       "      <td>DSL</td>\n",
       "      <td>Yes</td>\n",
       "      <td>Yes</td>\n",
       "      <td>No</td>\n",
       "      <td>No</td>\n",
       "      <td>No</td>\n",
       "      <td>No</td>\n",
       "    </tr>\n",
       "    <tr>\n",
       "      <th>3</th>\n",
       "      <td>7795-CFOCW</td>\n",
       "      <td>DSL</td>\n",
       "      <td>Yes</td>\n",
       "      <td>No</td>\n",
       "      <td>Yes</td>\n",
       "      <td>Yes</td>\n",
       "      <td>No</td>\n",
       "      <td>No</td>\n",
       "    </tr>\n",
       "    <tr>\n",
       "      <th>4</th>\n",
       "      <td>9237-HQITU</td>\n",
       "      <td>Fiber optic</td>\n",
       "      <td>No</td>\n",
       "      <td>No</td>\n",
       "      <td>No</td>\n",
       "      <td>No</td>\n",
       "      <td>No</td>\n",
       "      <td>No</td>\n",
       "    </tr>\n",
       "  </tbody>\n",
       "</table>\n",
       "</div>"
      ],
      "text/plain": [
       "   customerID InternetService OnlineSecurity OnlineBackup DeviceProtection  \\\n",
       "0  7590-VHVEG             DSL             No          Yes               No   \n",
       "1  5575-GNVDE             DSL            Yes           No              Yes   \n",
       "2  3668-QPYBK             DSL            Yes          Yes               No   \n",
       "3  7795-CFOCW             DSL            Yes           No              Yes   \n",
       "4  9237-HQITU     Fiber optic             No           No               No   \n",
       "\n",
       "  TechSupport StreamingTV StreamingMovies  \n",
       "0          No          No              No  \n",
       "1          No          No              No  \n",
       "2          No          No              No  \n",
       "3         Yes          No              No  \n",
       "4          No          No              No  "
      ]
     },
     "metadata": {},
     "output_type": "display_data"
    },
    {
     "name": "stdout",
     "output_type": "stream",
     "text": [
      "\n",
      "Phone Data Info:\n",
      "<class 'pandas.core.frame.DataFrame'>\n",
      "RangeIndex: 6361 entries, 0 to 6360\n",
      "Data columns (total 2 columns):\n",
      " #   Column         Non-Null Count  Dtype \n",
      "---  ------         --------------  ----- \n",
      " 0   customerID     6361 non-null   object\n",
      " 1   MultipleLines  6361 non-null   object\n",
      "dtypes: object(2)\n",
      "memory usage: 99.5+ KB\n"
     ]
    },
    {
     "data": {
      "text/html": [
       "<div>\n",
       "<style scoped>\n",
       "    .dataframe tbody tr th:only-of-type {\n",
       "        vertical-align: middle;\n",
       "    }\n",
       "\n",
       "    .dataframe tbody tr th {\n",
       "        vertical-align: top;\n",
       "    }\n",
       "\n",
       "    .dataframe thead th {\n",
       "        text-align: right;\n",
       "    }\n",
       "</style>\n",
       "<table border=\"1\" class=\"dataframe\">\n",
       "  <thead>\n",
       "    <tr style=\"text-align: right;\">\n",
       "      <th></th>\n",
       "      <th>customerID</th>\n",
       "      <th>MultipleLines</th>\n",
       "    </tr>\n",
       "  </thead>\n",
       "  <tbody>\n",
       "    <tr>\n",
       "      <th>0</th>\n",
       "      <td>5575-GNVDE</td>\n",
       "      <td>No</td>\n",
       "    </tr>\n",
       "    <tr>\n",
       "      <th>1</th>\n",
       "      <td>3668-QPYBK</td>\n",
       "      <td>No</td>\n",
       "    </tr>\n",
       "    <tr>\n",
       "      <th>2</th>\n",
       "      <td>9237-HQITU</td>\n",
       "      <td>No</td>\n",
       "    </tr>\n",
       "    <tr>\n",
       "      <th>3</th>\n",
       "      <td>9305-CDSKC</td>\n",
       "      <td>Yes</td>\n",
       "    </tr>\n",
       "    <tr>\n",
       "      <th>4</th>\n",
       "      <td>1452-KIOVK</td>\n",
       "      <td>Yes</td>\n",
       "    </tr>\n",
       "  </tbody>\n",
       "</table>\n",
       "</div>"
      ],
      "text/plain": [
       "   customerID MultipleLines\n",
       "0  5575-GNVDE            No\n",
       "1  3668-QPYBK            No\n",
       "2  9237-HQITU            No\n",
       "3  9305-CDSKC           Yes\n",
       "4  1452-KIOVK           Yes"
      ]
     },
     "metadata": {},
     "output_type": "display_data"
    }
   ],
   "source": [
    "# Load the datasets\n",
    "contract_data = pd.read_csv('/datasets/final_provider/contract.csv')\n",
    "personal_data = pd.read_csv('/datasets/final_provider/personal.csv')\n",
    "internet_data = pd.read_csv('/datasets/final_provider/internet.csv')\n",
    "phone_data = pd.read_csv('/datasets/final_provider/phone.csv')\n",
    "\n",
    "# Display each dataset to check their structure\n",
    "print(\"Contract Data Info:\")\n",
    "contract_data.info()\n",
    "display(contract_data.head())\n",
    "\n",
    "print(\"\\nPersonal Data Info:\")\n",
    "personal_data.info()\n",
    "display(personal_data.head())\n",
    "\n",
    "print(\"\\nInternet Data Info:\")\n",
    "internet_data.info()\n",
    "display(internet_data.head())\n",
    "\n",
    "print(\"\\nPhone Data Info:\")\n",
    "phone_data.info()\n",
    "display(phone_data.head())"
   ]
  },
  {
   "cell_type": "markdown",
   "metadata": {},
   "source": [
    "#### Observations:\n",
    "\n",
    "1. **Contract Data**:\n",
    "   - The `TotalCharges` column is stored as an object, which might need to be converted to numeric after handling any missing or non-numeric values.\n",
    "   - The `EndDate` column will be critical for identifying customers who have churned (if it is not \"No\").\n",
    "   \n",
    "\n",
    "2. **Personal Data**:\n",
    "   - Provides demographic information, including whether the customer is a senior citizen, their gender, and their partnership status.\n",
    "   - This dataset contains 7043 entries, matching the contract data, implying they can be merged easily based on `customerID`.\n",
    "   \n",
    "\n",
    "3. **Internet Data**:\n",
    "   - Includes details about customers' internet service and associated security features (e.g., `OnlineSecurity`, `OnlineBackup`).\n",
    "   - Fewer records here (5517) compared to the contract and personal data, suggesting that not all customers use internet services.\n",
    "   \n",
    "\n",
    "4. **Phone Data**:\n",
    "   - Contains information about phone services, specifically whether the customer has multiple phone lines.\n",
    "   - Similar to the internet dataset, it contains fewer records (6361) than the contract or personal data, indicating some customers do not subscribe to phone services.\n",
    "\n",
    "#### Next Steps:\n",
    "\n",
    "1. **Data Merging**: Since each dataset contains a `customerID` column, I can merge them to get a comprehensive view of each customer, combining contract, personal, internet, and phone details. However, some customer IDs are missing within certain datasets. This is likely because the customer may not utilize a particular service. So I will have to consider this when merging data.\n",
    "2. **Handling Missing Values**: Given that some customers may not have internet or phone services, I may encounter missing values after merging, which will need to be addressed.\n",
    "3. **Data Cleaning**: The `TotalCharges` field should be converted to a numeric type. I will investigate any anomalies or missing values in this column before performing this conversion.\n",
    "4. **Churn Definition**: The `EndDate` column indicates churn. If the value is anything other than `\"No\"`, it indicates that the customer has left, which I can use as our target variable for churn prediction."
   ]
  },
  {
   "cell_type": "markdown",
   "metadata": {},
   "source": [
    "## Exploratory Data Analysis"
   ]
  },
  {
   "cell_type": "markdown",
   "metadata": {},
   "source": [
    "### Data Cleaning"
   ]
  },
  {
   "cell_type": "markdown",
   "metadata": {},
   "source": [
    "#### Merge Datasets"
   ]
  },
  {
   "cell_type": "code",
   "execution_count": 3,
   "metadata": {},
   "outputs": [
    {
     "name": "stdout",
     "output_type": "stream",
     "text": [
      "Merged Data Info:\n",
      "<class 'pandas.core.frame.DataFrame'>\n",
      "Int64Index: 7043 entries, 0 to 7042\n",
      "Data columns (total 20 columns):\n",
      " #   Column            Non-Null Count  Dtype  \n",
      "---  ------            --------------  -----  \n",
      " 0   customerID        7043 non-null   object \n",
      " 1   BeginDate         7043 non-null   object \n",
      " 2   EndDate           7043 non-null   object \n",
      " 3   Type              7043 non-null   object \n",
      " 4   PaperlessBilling  7043 non-null   object \n",
      " 5   PaymentMethod     7043 non-null   object \n",
      " 6   MonthlyCharges    7043 non-null   float64\n",
      " 7   TotalCharges      7043 non-null   object \n",
      " 8   gender            7043 non-null   object \n",
      " 9   SeniorCitizen     7043 non-null   int64  \n",
      " 10  Partner           7043 non-null   object \n",
      " 11  Dependents        7043 non-null   object \n",
      " 12  InternetService   5517 non-null   object \n",
      " 13  OnlineSecurity    5517 non-null   object \n",
      " 14  OnlineBackup      5517 non-null   object \n",
      " 15  DeviceProtection  5517 non-null   object \n",
      " 16  TechSupport       5517 non-null   object \n",
      " 17  StreamingTV       5517 non-null   object \n",
      " 18  StreamingMovies   5517 non-null   object \n",
      " 19  MultipleLines     6361 non-null   object \n",
      "dtypes: float64(1), int64(1), object(18)\n",
      "memory usage: 1.1+ MB\n"
     ]
    },
    {
     "data": {
      "text/html": [
       "<div>\n",
       "<style scoped>\n",
       "    .dataframe tbody tr th:only-of-type {\n",
       "        vertical-align: middle;\n",
       "    }\n",
       "\n",
       "    .dataframe tbody tr th {\n",
       "        vertical-align: top;\n",
       "    }\n",
       "\n",
       "    .dataframe thead th {\n",
       "        text-align: right;\n",
       "    }\n",
       "</style>\n",
       "<table border=\"1\" class=\"dataframe\">\n",
       "  <thead>\n",
       "    <tr style=\"text-align: right;\">\n",
       "      <th></th>\n",
       "      <th>customerID</th>\n",
       "      <th>BeginDate</th>\n",
       "      <th>EndDate</th>\n",
       "      <th>Type</th>\n",
       "      <th>PaperlessBilling</th>\n",
       "      <th>PaymentMethod</th>\n",
       "      <th>MonthlyCharges</th>\n",
       "      <th>TotalCharges</th>\n",
       "      <th>gender</th>\n",
       "      <th>SeniorCitizen</th>\n",
       "      <th>Partner</th>\n",
       "      <th>Dependents</th>\n",
       "      <th>InternetService</th>\n",
       "      <th>OnlineSecurity</th>\n",
       "      <th>OnlineBackup</th>\n",
       "      <th>DeviceProtection</th>\n",
       "      <th>TechSupport</th>\n",
       "      <th>StreamingTV</th>\n",
       "      <th>StreamingMovies</th>\n",
       "      <th>MultipleLines</th>\n",
       "    </tr>\n",
       "  </thead>\n",
       "  <tbody>\n",
       "    <tr>\n",
       "      <th>0</th>\n",
       "      <td>7590-VHVEG</td>\n",
       "      <td>2020-01-01</td>\n",
       "      <td>No</td>\n",
       "      <td>Month-to-month</td>\n",
       "      <td>Yes</td>\n",
       "      <td>Electronic check</td>\n",
       "      <td>29.85</td>\n",
       "      <td>29.85</td>\n",
       "      <td>Female</td>\n",
       "      <td>0</td>\n",
       "      <td>Yes</td>\n",
       "      <td>No</td>\n",
       "      <td>DSL</td>\n",
       "      <td>No</td>\n",
       "      <td>Yes</td>\n",
       "      <td>No</td>\n",
       "      <td>No</td>\n",
       "      <td>No</td>\n",
       "      <td>No</td>\n",
       "      <td>NaN</td>\n",
       "    </tr>\n",
       "    <tr>\n",
       "      <th>1</th>\n",
       "      <td>5575-GNVDE</td>\n",
       "      <td>2017-04-01</td>\n",
       "      <td>No</td>\n",
       "      <td>One year</td>\n",
       "      <td>No</td>\n",
       "      <td>Mailed check</td>\n",
       "      <td>56.95</td>\n",
       "      <td>1889.5</td>\n",
       "      <td>Male</td>\n",
       "      <td>0</td>\n",
       "      <td>No</td>\n",
       "      <td>No</td>\n",
       "      <td>DSL</td>\n",
       "      <td>Yes</td>\n",
       "      <td>No</td>\n",
       "      <td>Yes</td>\n",
       "      <td>No</td>\n",
       "      <td>No</td>\n",
       "      <td>No</td>\n",
       "      <td>No</td>\n",
       "    </tr>\n",
       "    <tr>\n",
       "      <th>2</th>\n",
       "      <td>3668-QPYBK</td>\n",
       "      <td>2019-10-01</td>\n",
       "      <td>2019-12-01 00:00:00</td>\n",
       "      <td>Month-to-month</td>\n",
       "      <td>Yes</td>\n",
       "      <td>Mailed check</td>\n",
       "      <td>53.85</td>\n",
       "      <td>108.15</td>\n",
       "      <td>Male</td>\n",
       "      <td>0</td>\n",
       "      <td>No</td>\n",
       "      <td>No</td>\n",
       "      <td>DSL</td>\n",
       "      <td>Yes</td>\n",
       "      <td>Yes</td>\n",
       "      <td>No</td>\n",
       "      <td>No</td>\n",
       "      <td>No</td>\n",
       "      <td>No</td>\n",
       "      <td>No</td>\n",
       "    </tr>\n",
       "    <tr>\n",
       "      <th>3</th>\n",
       "      <td>7795-CFOCW</td>\n",
       "      <td>2016-05-01</td>\n",
       "      <td>No</td>\n",
       "      <td>One year</td>\n",
       "      <td>No</td>\n",
       "      <td>Bank transfer (automatic)</td>\n",
       "      <td>42.30</td>\n",
       "      <td>1840.75</td>\n",
       "      <td>Male</td>\n",
       "      <td>0</td>\n",
       "      <td>No</td>\n",
       "      <td>No</td>\n",
       "      <td>DSL</td>\n",
       "      <td>Yes</td>\n",
       "      <td>No</td>\n",
       "      <td>Yes</td>\n",
       "      <td>Yes</td>\n",
       "      <td>No</td>\n",
       "      <td>No</td>\n",
       "      <td>NaN</td>\n",
       "    </tr>\n",
       "    <tr>\n",
       "      <th>4</th>\n",
       "      <td>9237-HQITU</td>\n",
       "      <td>2019-09-01</td>\n",
       "      <td>2019-11-01 00:00:00</td>\n",
       "      <td>Month-to-month</td>\n",
       "      <td>Yes</td>\n",
       "      <td>Electronic check</td>\n",
       "      <td>70.70</td>\n",
       "      <td>151.65</td>\n",
       "      <td>Female</td>\n",
       "      <td>0</td>\n",
       "      <td>No</td>\n",
       "      <td>No</td>\n",
       "      <td>Fiber optic</td>\n",
       "      <td>No</td>\n",
       "      <td>No</td>\n",
       "      <td>No</td>\n",
       "      <td>No</td>\n",
       "      <td>No</td>\n",
       "      <td>No</td>\n",
       "      <td>No</td>\n",
       "    </tr>\n",
       "  </tbody>\n",
       "</table>\n",
       "</div>"
      ],
      "text/plain": [
       "   customerID   BeginDate              EndDate            Type  \\\n",
       "0  7590-VHVEG  2020-01-01                   No  Month-to-month   \n",
       "1  5575-GNVDE  2017-04-01                   No        One year   \n",
       "2  3668-QPYBK  2019-10-01  2019-12-01 00:00:00  Month-to-month   \n",
       "3  7795-CFOCW  2016-05-01                   No        One year   \n",
       "4  9237-HQITU  2019-09-01  2019-11-01 00:00:00  Month-to-month   \n",
       "\n",
       "  PaperlessBilling              PaymentMethod  MonthlyCharges TotalCharges  \\\n",
       "0              Yes           Electronic check           29.85        29.85   \n",
       "1               No               Mailed check           56.95       1889.5   \n",
       "2              Yes               Mailed check           53.85       108.15   \n",
       "3               No  Bank transfer (automatic)           42.30      1840.75   \n",
       "4              Yes           Electronic check           70.70       151.65   \n",
       "\n",
       "   gender  SeniorCitizen Partner Dependents InternetService OnlineSecurity  \\\n",
       "0  Female              0     Yes         No             DSL             No   \n",
       "1    Male              0      No         No             DSL            Yes   \n",
       "2    Male              0      No         No             DSL            Yes   \n",
       "3    Male              0      No         No             DSL            Yes   \n",
       "4  Female              0      No         No     Fiber optic             No   \n",
       "\n",
       "  OnlineBackup DeviceProtection TechSupport StreamingTV StreamingMovies  \\\n",
       "0          Yes               No          No          No              No   \n",
       "1           No              Yes          No          No              No   \n",
       "2          Yes               No          No          No              No   \n",
       "3           No              Yes         Yes          No              No   \n",
       "4           No               No          No          No              No   \n",
       "\n",
       "  MultipleLines  \n",
       "0           NaN  \n",
       "1            No  \n",
       "2            No  \n",
       "3           NaN  \n",
       "4            No  "
      ]
     },
     "metadata": {},
     "output_type": "display_data"
    }
   ],
   "source": [
    "# Merge contract and personal data\n",
    "merged_data = pd.merge(contract_data, personal_data, on='customerID', how='left')\n",
    "\n",
    "# Merge the internet data (some customers may not have internet services) - use outer join\n",
    "merged_data = pd.merge(merged_data, internet_data, on='customerID', how='outer')\n",
    "\n",
    "# Merge the phone data (some customers may not have phone services) - use outer join\n",
    "merged_data = pd.merge(merged_data, phone_data, on='customerID', how='outer')\n",
    "\n",
    "# Display the structure and first few rows of the merged dataset\n",
    "print(\"Merged Data Info:\")\n",
    "merged_data.info()\n",
    "\n",
    "# Display the first few rows of the merged data\n",
    "display(merged_data.head())"
   ]
  },
  {
   "cell_type": "markdown",
   "metadata": {},
   "source": [
    "**Student Note:**\n",
    "\n",
    "This code use an **outer merge** for merging the `internet_data` and `phone_data` with the rest of the data. This ensures that customers who don’t have internet or phone services are still included in the dataset. Missing values in those columns will indicate that they did not subscribe to those services."
   ]
  },
  {
   "cell_type": "markdown",
   "metadata": {},
   "source": [
    "#### Handle Missing Values"
   ]
  },
  {
   "cell_type": "code",
   "execution_count": 4,
   "metadata": {
    "scrolled": true
   },
   "outputs": [
    {
     "name": "stdout",
     "output_type": "stream",
     "text": [
      "                  Missing Values  Percentage\n",
      "InternetService             1526   21.666903\n",
      "OnlineSecurity              1526   21.666903\n",
      "OnlineBackup                1526   21.666903\n",
      "DeviceProtection            1526   21.666903\n",
      "TechSupport                 1526   21.666903\n",
      "StreamingTV                 1526   21.666903\n",
      "StreamingMovies             1526   21.666903\n",
      "MultipleLines                682    9.683374\n"
     ]
    }
   ],
   "source": [
    "# Checking for missing values\n",
    "missing_values = merged_data.isnull().sum()\n",
    "missing_percent = (merged_data.isnull().sum() / len(merged_data)) * 100\n",
    "\n",
    "# Combine into a dataframe for easier reading\n",
    "missing_data = pd.DataFrame({'Missing Values': missing_values, 'Percentage': missing_percent})\n",
    "\n",
    "# Display columns with missing values\n",
    "print(missing_data[missing_data['Missing Values'] > 0])"
   ]
  },
  {
   "cell_type": "markdown",
   "metadata": {},
   "source": [
    "**Student Note:**\n",
    "\n",
    "Based on the results , here's what we can infer about the missing values:\n",
    "\n",
    "**Significant Missing Values in Service-related Columns**:\n",
    "   - The columns related to internet and phone services (`InternetService`, `OnlineSecurity`, `OnlineBackup`, `DeviceProtection`, `TechSupport`, `StreamingTV`, `StreamingMovies`, and `MultipleLines`) have missing values.\n",
    "   - These columns have approximately **21.67% missing values**, except for `MultipleLines`, which has about **9.68% missing**.\n",
    "\n",
    "**Potential Explanation**:\n",
    "   - The missing values in these columns likely correspond to customers who do not subscribe to specific services.\n",
    "   - For example, if a customer does not subscribe to internet service, fields like `OnlineSecurity`, `DeviceProtection`, and `StreamingTV` might not have values. Similarly, missing values in `MultipleLines` might indicate customers who do not have multiple phone lines.\n",
    "\n",
    "**Handling Strategy**:\n",
    "   - **Filling Missing Values**: Since these missing values represent the absence of certain services, it would make sense to fill them with a placeholder value such as `'No'`, indicating that the customer does not have that service."
   ]
  },
  {
   "cell_type": "code",
   "execution_count": 5,
   "metadata": {},
   "outputs": [
    {
     "name": "stdout",
     "output_type": "stream",
     "text": [
      "Remaining missing values after filling:\n",
      "customerID          0\n",
      "BeginDate           0\n",
      "EndDate             0\n",
      "Type                0\n",
      "PaperlessBilling    0\n",
      "PaymentMethod       0\n",
      "MonthlyCharges      0\n",
      "TotalCharges        0\n",
      "gender              0\n",
      "SeniorCitizen       0\n",
      "Partner             0\n",
      "Dependents          0\n",
      "InternetService     0\n",
      "OnlineSecurity      0\n",
      "OnlineBackup        0\n",
      "DeviceProtection    0\n",
      "TechSupport         0\n",
      "StreamingTV         0\n",
      "StreamingMovies     0\n",
      "MultipleLines       0\n",
      "dtype: int64\n"
     ]
    }
   ],
   "source": [
    "# Fill missing categorical values with 'No' for service-related columns\n",
    "for column in ['InternetService', 'OnlineSecurity', 'OnlineBackup', 'DeviceProtection', \n",
    "               'TechSupport', 'StreamingTV', 'StreamingMovies', 'MultipleLines']:\n",
    "    merged_data[column].fillna('No', inplace=True)\n",
    "\n",
    "# Recheck for any remaining missing values\n",
    "print(\"Remaining missing values after filling:\")\n",
    "print(merged_data.isnull().sum())"
   ]
  },
  {
   "cell_type": "code",
   "execution_count": 6,
   "metadata": {
    "scrolled": false
   },
   "outputs": [
    {
     "name": "stdout",
     "output_type": "stream",
     "text": [
      "Number of missing or non-numeric values in TotalCharges:\n",
      "0\n",
      "\n",
      "Rows with anomalies in 'TotalCharges':\n"
     ]
    },
    {
     "data": {
      "text/html": [
       "<div>\n",
       "<style scoped>\n",
       "    .dataframe tbody tr th:only-of-type {\n",
       "        vertical-align: middle;\n",
       "    }\n",
       "\n",
       "    .dataframe tbody tr th {\n",
       "        vertical-align: top;\n",
       "    }\n",
       "\n",
       "    .dataframe thead th {\n",
       "        text-align: right;\n",
       "    }\n",
       "</style>\n",
       "<table border=\"1\" class=\"dataframe\">\n",
       "  <thead>\n",
       "    <tr style=\"text-align: right;\">\n",
       "      <th></th>\n",
       "      <th>customerID</th>\n",
       "      <th>BeginDate</th>\n",
       "      <th>EndDate</th>\n",
       "      <th>Type</th>\n",
       "      <th>PaperlessBilling</th>\n",
       "      <th>PaymentMethod</th>\n",
       "      <th>MonthlyCharges</th>\n",
       "      <th>TotalCharges</th>\n",
       "      <th>gender</th>\n",
       "      <th>SeniorCitizen</th>\n",
       "      <th>Partner</th>\n",
       "      <th>Dependents</th>\n",
       "      <th>InternetService</th>\n",
       "      <th>OnlineSecurity</th>\n",
       "      <th>OnlineBackup</th>\n",
       "      <th>DeviceProtection</th>\n",
       "      <th>TechSupport</th>\n",
       "      <th>StreamingTV</th>\n",
       "      <th>StreamingMovies</th>\n",
       "      <th>MultipleLines</th>\n",
       "    </tr>\n",
       "  </thead>\n",
       "  <tbody>\n",
       "    <tr>\n",
       "      <th>488</th>\n",
       "      <td>4472-LVYGI</td>\n",
       "      <td>2020-02-01</td>\n",
       "      <td>No</td>\n",
       "      <td>Two year</td>\n",
       "      <td>Yes</td>\n",
       "      <td>Bank transfer (automatic)</td>\n",
       "      <td>52.55</td>\n",
       "      <td></td>\n",
       "      <td>Female</td>\n",
       "      <td>0</td>\n",
       "      <td>Yes</td>\n",
       "      <td>Yes</td>\n",
       "      <td>DSL</td>\n",
       "      <td>Yes</td>\n",
       "      <td>No</td>\n",
       "      <td>Yes</td>\n",
       "      <td>Yes</td>\n",
       "      <td>Yes</td>\n",
       "      <td>No</td>\n",
       "      <td>No</td>\n",
       "    </tr>\n",
       "    <tr>\n",
       "      <th>753</th>\n",
       "      <td>3115-CZMZD</td>\n",
       "      <td>2020-02-01</td>\n",
       "      <td>No</td>\n",
       "      <td>Two year</td>\n",
       "      <td>No</td>\n",
       "      <td>Mailed check</td>\n",
       "      <td>20.25</td>\n",
       "      <td></td>\n",
       "      <td>Male</td>\n",
       "      <td>0</td>\n",
       "      <td>No</td>\n",
       "      <td>Yes</td>\n",
       "      <td>No</td>\n",
       "      <td>No</td>\n",
       "      <td>No</td>\n",
       "      <td>No</td>\n",
       "      <td>No</td>\n",
       "      <td>No</td>\n",
       "      <td>No</td>\n",
       "      <td>No</td>\n",
       "    </tr>\n",
       "    <tr>\n",
       "      <th>936</th>\n",
       "      <td>5709-LVOEQ</td>\n",
       "      <td>2020-02-01</td>\n",
       "      <td>No</td>\n",
       "      <td>Two year</td>\n",
       "      <td>No</td>\n",
       "      <td>Mailed check</td>\n",
       "      <td>80.85</td>\n",
       "      <td></td>\n",
       "      <td>Female</td>\n",
       "      <td>0</td>\n",
       "      <td>Yes</td>\n",
       "      <td>Yes</td>\n",
       "      <td>DSL</td>\n",
       "      <td>Yes</td>\n",
       "      <td>Yes</td>\n",
       "      <td>Yes</td>\n",
       "      <td>No</td>\n",
       "      <td>Yes</td>\n",
       "      <td>Yes</td>\n",
       "      <td>No</td>\n",
       "    </tr>\n",
       "    <tr>\n",
       "      <th>1082</th>\n",
       "      <td>4367-NUYAO</td>\n",
       "      <td>2020-02-01</td>\n",
       "      <td>No</td>\n",
       "      <td>Two year</td>\n",
       "      <td>No</td>\n",
       "      <td>Mailed check</td>\n",
       "      <td>25.75</td>\n",
       "      <td></td>\n",
       "      <td>Male</td>\n",
       "      <td>0</td>\n",
       "      <td>Yes</td>\n",
       "      <td>Yes</td>\n",
       "      <td>No</td>\n",
       "      <td>No</td>\n",
       "      <td>No</td>\n",
       "      <td>No</td>\n",
       "      <td>No</td>\n",
       "      <td>No</td>\n",
       "      <td>No</td>\n",
       "      <td>Yes</td>\n",
       "    </tr>\n",
       "    <tr>\n",
       "      <th>1340</th>\n",
       "      <td>1371-DWPAZ</td>\n",
       "      <td>2020-02-01</td>\n",
       "      <td>No</td>\n",
       "      <td>Two year</td>\n",
       "      <td>No</td>\n",
       "      <td>Credit card (automatic)</td>\n",
       "      <td>56.05</td>\n",
       "      <td></td>\n",
       "      <td>Female</td>\n",
       "      <td>0</td>\n",
       "      <td>Yes</td>\n",
       "      <td>Yes</td>\n",
       "      <td>DSL</td>\n",
       "      <td>Yes</td>\n",
       "      <td>Yes</td>\n",
       "      <td>Yes</td>\n",
       "      <td>Yes</td>\n",
       "      <td>Yes</td>\n",
       "      <td>No</td>\n",
       "      <td>No</td>\n",
       "    </tr>\n",
       "    <tr>\n",
       "      <th>3331</th>\n",
       "      <td>7644-OMVMY</td>\n",
       "      <td>2020-02-01</td>\n",
       "      <td>No</td>\n",
       "      <td>Two year</td>\n",
       "      <td>No</td>\n",
       "      <td>Mailed check</td>\n",
       "      <td>19.85</td>\n",
       "      <td></td>\n",
       "      <td>Male</td>\n",
       "      <td>0</td>\n",
       "      <td>Yes</td>\n",
       "      <td>Yes</td>\n",
       "      <td>No</td>\n",
       "      <td>No</td>\n",
       "      <td>No</td>\n",
       "      <td>No</td>\n",
       "      <td>No</td>\n",
       "      <td>No</td>\n",
       "      <td>No</td>\n",
       "      <td>No</td>\n",
       "    </tr>\n",
       "    <tr>\n",
       "      <th>3826</th>\n",
       "      <td>3213-VVOLG</td>\n",
       "      <td>2020-02-01</td>\n",
       "      <td>No</td>\n",
       "      <td>Two year</td>\n",
       "      <td>No</td>\n",
       "      <td>Mailed check</td>\n",
       "      <td>25.35</td>\n",
       "      <td></td>\n",
       "      <td>Male</td>\n",
       "      <td>0</td>\n",
       "      <td>Yes</td>\n",
       "      <td>Yes</td>\n",
       "      <td>No</td>\n",
       "      <td>No</td>\n",
       "      <td>No</td>\n",
       "      <td>No</td>\n",
       "      <td>No</td>\n",
       "      <td>No</td>\n",
       "      <td>No</td>\n",
       "      <td>Yes</td>\n",
       "    </tr>\n",
       "    <tr>\n",
       "      <th>4380</th>\n",
       "      <td>2520-SGTTA</td>\n",
       "      <td>2020-02-01</td>\n",
       "      <td>No</td>\n",
       "      <td>Two year</td>\n",
       "      <td>No</td>\n",
       "      <td>Mailed check</td>\n",
       "      <td>20.00</td>\n",
       "      <td></td>\n",
       "      <td>Female</td>\n",
       "      <td>0</td>\n",
       "      <td>Yes</td>\n",
       "      <td>Yes</td>\n",
       "      <td>No</td>\n",
       "      <td>No</td>\n",
       "      <td>No</td>\n",
       "      <td>No</td>\n",
       "      <td>No</td>\n",
       "      <td>No</td>\n",
       "      <td>No</td>\n",
       "      <td>No</td>\n",
       "    </tr>\n",
       "    <tr>\n",
       "      <th>5218</th>\n",
       "      <td>2923-ARZLG</td>\n",
       "      <td>2020-02-01</td>\n",
       "      <td>No</td>\n",
       "      <td>One year</td>\n",
       "      <td>Yes</td>\n",
       "      <td>Mailed check</td>\n",
       "      <td>19.70</td>\n",
       "      <td></td>\n",
       "      <td>Male</td>\n",
       "      <td>0</td>\n",
       "      <td>Yes</td>\n",
       "      <td>Yes</td>\n",
       "      <td>No</td>\n",
       "      <td>No</td>\n",
       "      <td>No</td>\n",
       "      <td>No</td>\n",
       "      <td>No</td>\n",
       "      <td>No</td>\n",
       "      <td>No</td>\n",
       "      <td>No</td>\n",
       "    </tr>\n",
       "    <tr>\n",
       "      <th>6670</th>\n",
       "      <td>4075-WKNIU</td>\n",
       "      <td>2020-02-01</td>\n",
       "      <td>No</td>\n",
       "      <td>Two year</td>\n",
       "      <td>No</td>\n",
       "      <td>Mailed check</td>\n",
       "      <td>73.35</td>\n",
       "      <td></td>\n",
       "      <td>Female</td>\n",
       "      <td>0</td>\n",
       "      <td>Yes</td>\n",
       "      <td>Yes</td>\n",
       "      <td>DSL</td>\n",
       "      <td>No</td>\n",
       "      <td>Yes</td>\n",
       "      <td>Yes</td>\n",
       "      <td>Yes</td>\n",
       "      <td>Yes</td>\n",
       "      <td>No</td>\n",
       "      <td>Yes</td>\n",
       "    </tr>\n",
       "    <tr>\n",
       "      <th>6754</th>\n",
       "      <td>2775-SEFEE</td>\n",
       "      <td>2020-02-01</td>\n",
       "      <td>No</td>\n",
       "      <td>Two year</td>\n",
       "      <td>Yes</td>\n",
       "      <td>Bank transfer (automatic)</td>\n",
       "      <td>61.90</td>\n",
       "      <td></td>\n",
       "      <td>Male</td>\n",
       "      <td>0</td>\n",
       "      <td>No</td>\n",
       "      <td>Yes</td>\n",
       "      <td>DSL</td>\n",
       "      <td>Yes</td>\n",
       "      <td>Yes</td>\n",
       "      <td>No</td>\n",
       "      <td>Yes</td>\n",
       "      <td>No</td>\n",
       "      <td>No</td>\n",
       "      <td>Yes</td>\n",
       "    </tr>\n",
       "  </tbody>\n",
       "</table>\n",
       "</div>"
      ],
      "text/plain": [
       "      customerID   BeginDate EndDate      Type PaperlessBilling  \\\n",
       "488   4472-LVYGI  2020-02-01      No  Two year              Yes   \n",
       "753   3115-CZMZD  2020-02-01      No  Two year               No   \n",
       "936   5709-LVOEQ  2020-02-01      No  Two year               No   \n",
       "1082  4367-NUYAO  2020-02-01      No  Two year               No   \n",
       "1340  1371-DWPAZ  2020-02-01      No  Two year               No   \n",
       "3331  7644-OMVMY  2020-02-01      No  Two year               No   \n",
       "3826  3213-VVOLG  2020-02-01      No  Two year               No   \n",
       "4380  2520-SGTTA  2020-02-01      No  Two year               No   \n",
       "5218  2923-ARZLG  2020-02-01      No  One year              Yes   \n",
       "6670  4075-WKNIU  2020-02-01      No  Two year               No   \n",
       "6754  2775-SEFEE  2020-02-01      No  Two year              Yes   \n",
       "\n",
       "                  PaymentMethod  MonthlyCharges TotalCharges  gender  \\\n",
       "488   Bank transfer (automatic)           52.55               Female   \n",
       "753                Mailed check           20.25                 Male   \n",
       "936                Mailed check           80.85               Female   \n",
       "1082               Mailed check           25.75                 Male   \n",
       "1340    Credit card (automatic)           56.05               Female   \n",
       "3331               Mailed check           19.85                 Male   \n",
       "3826               Mailed check           25.35                 Male   \n",
       "4380               Mailed check           20.00               Female   \n",
       "5218               Mailed check           19.70                 Male   \n",
       "6670               Mailed check           73.35               Female   \n",
       "6754  Bank transfer (automatic)           61.90                 Male   \n",
       "\n",
       "      SeniorCitizen Partner Dependents InternetService OnlineSecurity  \\\n",
       "488               0     Yes        Yes             DSL            Yes   \n",
       "753               0      No        Yes              No             No   \n",
       "936               0     Yes        Yes             DSL            Yes   \n",
       "1082              0     Yes        Yes              No             No   \n",
       "1340              0     Yes        Yes             DSL            Yes   \n",
       "3331              0     Yes        Yes              No             No   \n",
       "3826              0     Yes        Yes              No             No   \n",
       "4380              0     Yes        Yes              No             No   \n",
       "5218              0     Yes        Yes              No             No   \n",
       "6670              0     Yes        Yes             DSL             No   \n",
       "6754              0      No        Yes             DSL            Yes   \n",
       "\n",
       "     OnlineBackup DeviceProtection TechSupport StreamingTV StreamingMovies  \\\n",
       "488            No              Yes         Yes         Yes              No   \n",
       "753            No               No          No          No              No   \n",
       "936           Yes              Yes          No         Yes             Yes   \n",
       "1082           No               No          No          No              No   \n",
       "1340          Yes              Yes         Yes         Yes              No   \n",
       "3331           No               No          No          No              No   \n",
       "3826           No               No          No          No              No   \n",
       "4380           No               No          No          No              No   \n",
       "5218           No               No          No          No              No   \n",
       "6670          Yes              Yes         Yes         Yes              No   \n",
       "6754          Yes               No         Yes          No              No   \n",
       "\n",
       "     MultipleLines  \n",
       "488             No  \n",
       "753             No  \n",
       "936             No  \n",
       "1082           Yes  \n",
       "1340            No  \n",
       "3331            No  \n",
       "3826           Yes  \n",
       "4380            No  \n",
       "5218            No  \n",
       "6670           Yes  \n",
       "6754           Yes  "
      ]
     },
     "metadata": {},
     "output_type": "display_data"
    },
    {
     "name": "stdout",
     "output_type": "stream",
     "text": [
      "\n",
      "Summary statistics for 'TotalCharges' column after conversion:\n",
      "count    7043.000000\n",
      "mean     2281.916928\n",
      "std      2265.270398\n",
      "min        18.800000\n",
      "25%       402.225000\n",
      "50%      1397.475000\n",
      "75%      3786.600000\n",
      "max      8684.800000\n",
      "Name: TotalCharges, dtype: float64\n"
     ]
    }
   ],
   "source": [
    "# Investigate anomalies in 'TotalCharges' column\n",
    "print(\"Number of missing or non-numeric values in TotalCharges:\")\n",
    "print(merged_data['TotalCharges'].isnull().sum())\n",
    "\n",
    "# Check for any non-numeric values (before conversion)\n",
    "invalid_total_charges = merged_data[merged_data['TotalCharges'].str.contains(\" \", na=False)]\n",
    "print(\"\\nRows with anomalies in 'TotalCharges':\")\n",
    "display(invalid_total_charges)\n",
    "\n",
    "# Convert 'TotalCharges' to numeric (errors='coerce' will convert non-numeric values to NaN)\n",
    "merged_data['TotalCharges'] = pd.to_numeric(merged_data['TotalCharges'], errors='coerce')\n",
    "\n",
    "# Handle missing values (fill with the median value)\n",
    "median_total_charges = merged_data['TotalCharges'].median()\n",
    "merged_data['TotalCharges'].fillna(median_total_charges, inplace=True)\n",
    "\n",
    "\n",
    "# Verify the conversion and filling\n",
    "print(\"\\nSummary statistics for 'TotalCharges' column after conversion:\")\n",
    "print(merged_data['TotalCharges'].describe())"
   ]
  },
  {
   "cell_type": "markdown",
   "metadata": {},
   "source": [
    "**Student Note:**\n",
    "\n",
    "**Number of Missing or Non-Numeric Values in `TotalCharges`**:\n",
    "   - The result shows **0 missing or non-numeric values** in `TotalCharges` after conversion. This indicates that the anomalies in the `TotalCharges` column were successfully handled, and the column now contains valid numeric values for all entries.\n",
    "\n",
    "**Summary Statistics for `TotalCharges`**:\n",
    "   - **Count**: There are **7032 non-null values** in `TotalCharges`, which matches the total number of records in the dataset (likely after cleaning).\n",
    "   - **Mean (`2281.92`)**: The average `TotalCharges` for customers is about **2281.92**.\n",
    "   - **Median (`1397.48`)**: The median is **1397.48**, which suggests that half of the customers have total charges less than this value.\n",
    "   - **Minimum (`18.80`)**: The lowest `TotalCharges` is **18.80**, which could represent new customers who have been with the company for a very short period or have minimal usage.\n",
    "   - **Maximum (`8684.80`)**: The highest `TotalCharges` is **8684.80**, indicating that some customers have been with the company for a long time or have higher usage/expensive plans.\n",
    "   - **25th Percentile (`402.22`)**: This shows that 25% of customers have `TotalCharges` below **402.22**.\n",
    "   - **75th Percentile (`3786.60`)**: This shows that 75% of customers have `TotalCharges` below **3786.60**.\n",
    "\n",
    "**Insights from Distribution**:\n",
    "   - **Mean vs. Median**: The mean is higher than the median, suggesting a right-skewed distribution. This means there are likely a few customers with significantly higher total charges, which pulls the average up.\n",
    "   - **Range**: The range between the minimum and maximum `TotalCharges` values is large, indicating significant variability in customer billing, which could be due to different plan types, tenure, or usage levels.\n",
    "   \n",
    "**Observations on the Anomalies:**\n",
    "   - All the anomalies have `TotalCharges` as empty or non-numeric before the conversion.\n",
    "   - These customers have a MonthlyCharges value (which means they are being billed monthly), but `TotalCharges` is missing or incorrect.\n",
    "   - In most of these cases, the EndDate is \"No\", meaning these are active customers.\n",
    "   - Given that the contract information is valid as of February 1, 2020, and the anomalies in the `TotalCharges` column belong to customers whose contracts began close to this date, the likely cause of the anomalies is that these customers are new and have not yet accumulated charges. Since their contracts began so recently, their `TotalCharges` would naturally be very low or zero."
   ]
  },
  {
   "cell_type": "code",
   "execution_count": 7,
   "metadata": {},
   "outputs": [
    {
     "name": "stdout",
     "output_type": "stream",
     "text": [
      "\n",
      "Summary statistics for 'TotalCharges' column after filling anomalies with 0:\n",
      "count    7043.000000\n",
      "mean     2281.916928\n",
      "std      2265.270398\n",
      "min        18.800000\n",
      "25%       402.225000\n",
      "50%      1397.475000\n",
      "75%      3786.600000\n",
      "max      8684.800000\n",
      "Name: TotalCharges, dtype: float64\n"
     ]
    }
   ],
   "source": [
    "# Fill remaining anomalies in 'TotalCharges' with 0\n",
    "merged_data['TotalCharges'] = pd.to_numeric(merged_data['TotalCharges'], errors='coerce')\n",
    "\n",
    "# Handle anomalies where 'TotalCharges' is still NaN (fill with 0)\n",
    "merged_data['TotalCharges'].fillna(0, inplace=True)\n",
    "\n",
    "# Verify the update\n",
    "print(\"\\nSummary statistics for 'TotalCharges' column after filling anomalies with 0:\")\n",
    "print(merged_data['TotalCharges'].describe())"
   ]
  },
  {
   "cell_type": "markdown",
   "metadata": {},
   "source": [
    "#### Next Step: Separate Columns for Active/Inactive:\n",
    "\n",
    "I will create a new boolean column (e.g., is_active) that indicates whether the customer is still active (\"No\"/ True) or not (if there's a valid end date/ False).Then, the EndDate column can be converted entirely to datetime64 for those who have churned."
   ]
  },
  {
   "cell_type": "code",
   "execution_count": 8,
   "metadata": {
    "scrolled": false
   },
   "outputs": [
    {
     "name": "stdout",
     "output_type": "stream",
     "text": [
      "Sample of 'is_active' column after conversion to boolean:\n",
      "               EndDate  is_active\n",
      "0                   No       True\n",
      "1                   No       True\n",
      "2  2019-12-01 00:00:00      False\n",
      "3                   No       True\n",
      "4  2019-11-01 00:00:00      False\n",
      "\n",
      "Info on merged_data after conversion:\n",
      "<class 'pandas.core.frame.DataFrame'>\n",
      "Int64Index: 7043 entries, 0 to 7042\n",
      "Data columns (total 21 columns):\n",
      " #   Column            Non-Null Count  Dtype  \n",
      "---  ------            --------------  -----  \n",
      " 0   customerID        7043 non-null   object \n",
      " 1   BeginDate         7043 non-null   object \n",
      " 2   EndDate           7043 non-null   object \n",
      " 3   Type              7043 non-null   object \n",
      " 4   PaperlessBilling  7043 non-null   object \n",
      " 5   PaymentMethod     7043 non-null   object \n",
      " 6   MonthlyCharges    7043 non-null   float64\n",
      " 7   TotalCharges      7043 non-null   float64\n",
      " 8   gender            7043 non-null   object \n",
      " 9   SeniorCitizen     7043 non-null   int64  \n",
      " 10  Partner           7043 non-null   object \n",
      " 11  Dependents        7043 non-null   object \n",
      " 12  InternetService   7043 non-null   object \n",
      " 13  OnlineSecurity    7043 non-null   object \n",
      " 14  OnlineBackup      7043 non-null   object \n",
      " 15  DeviceProtection  7043 non-null   object \n",
      " 16  TechSupport       7043 non-null   object \n",
      " 17  StreamingTV       7043 non-null   object \n",
      " 18  StreamingMovies   7043 non-null   object \n",
      " 19  MultipleLines     7043 non-null   object \n",
      " 20  is_active         7043 non-null   bool   \n",
      "dtypes: bool(1), float64(2), int64(1), object(17)\n",
      "memory usage: 1.1+ MB\n"
     ]
    }
   ],
   "source": [
    "# Create a new 'is_active' column based on the 'EndDate' field\n",
    "merged_data['is_active'] = merged_data['EndDate'].apply(lambda x: 1 if x == 'No' else 0)\n",
    "\n",
    "# Convert 'is_active' column to boolean (True for active, False for inactive)\n",
    "merged_data['is_active'] = merged_data['is_active'].astype(bool)\n",
    "\n",
    "# Display the first few rows to confirm the conversion\n",
    "print(\"Sample of 'is_active' column after conversion to boolean:\")\n",
    "print(merged_data[['EndDate', 'is_active']].head())\n",
    "\n",
    "# Check info to verify the data type change\n",
    "print(\"\\nInfo on merged_data after conversion:\")\n",
    "merged_data.info()"
   ]
  },
  {
   "cell_type": "markdown",
   "metadata": {},
   "source": [
    "#### Convert 'BeginDate' to Datetime "
   ]
  },
  {
   "cell_type": "code",
   "execution_count": 9,
   "metadata": {},
   "outputs": [
    {
     "name": "stdout",
     "output_type": "stream",
     "text": [
      "Converted 'BeginDate column:\n",
      "   BeginDate\n",
      "0 2020-01-01\n",
      "1 2017-04-01\n",
      "2 2019-10-01\n",
      "3 2016-05-01\n",
      "4 2019-09-01\n",
      "\n",
      "Data types after conversion:\n",
      "customerID                  object\n",
      "BeginDate           datetime64[ns]\n",
      "EndDate                     object\n",
      "Type                        object\n",
      "PaperlessBilling            object\n",
      "PaymentMethod               object\n",
      "MonthlyCharges             float64\n",
      "TotalCharges               float64\n",
      "gender                      object\n",
      "SeniorCitizen                int64\n",
      "Partner                     object\n",
      "Dependents                  object\n",
      "InternetService             object\n",
      "OnlineSecurity              object\n",
      "OnlineBackup                object\n",
      "DeviceProtection            object\n",
      "TechSupport                 object\n",
      "StreamingTV                 object\n",
      "StreamingMovies             object\n",
      "MultipleLines               object\n",
      "is_active                     bool\n",
      "dtype: object\n"
     ]
    }
   ],
   "source": [
    "# Convert 'BeginDate' to datetime, handling any errors or missing values\n",
    "merged_data['BeginDate'] = pd.to_datetime(merged_data['BeginDate'], errors='coerce')\n",
    "\n",
    "# Check the result of the conversion\n",
    "print(\"Converted 'BeginDate column:\")\n",
    "print(merged_data[['BeginDate']].head())\n",
    "\n",
    "# Verify the data types\n",
    "print(\"\\nData types after conversion:\")\n",
    "print(merged_data.dtypes)"
   ]
  },
  {
   "cell_type": "markdown",
   "metadata": {},
   "source": [
    "#### Distribution of TotalCharges and MonthlyCharges"
   ]
  },
  {
   "cell_type": "code",
   "execution_count": 10,
   "metadata": {},
   "outputs": [
    {
     "data": {
      "image/png": "[encoded data removed]",
      "text/plain": [
       "<Figure size 1000x600 with 1 Axes>"
      ]
     },
     "metadata": {},
     "output_type": "display_data"
    },
    {
     "data": {
      "image/png": "[encoded data removed]",
      "text/plain": [
       "<Figure size 1000x600 with 1 Axes>"
      ]
     },
     "metadata": {},
     "output_type": "display_data"
    }
   ],
   "source": [
    "# Distribution plot for TotalCharges\n",
    "plt.figure(figsize=(10, 6))\n",
    "sns.histplot(merged_data['TotalCharges'], kde=True, bins=30)\n",
    "plt.title('Distribution of TotalCharges')\n",
    "plt.xlabel('TotalCharges')\n",
    "plt.ylabel('Frequency')\n",
    "plt.show()\n",
    "\n",
    "# Distribution plot for MonthlyCharges\n",
    "plt.figure(figsize=(10, 6))\n",
    "sns.histplot(merged_data['MonthlyCharges'], kde=True, bins=30)\n",
    "plt.title('Distribution of MonthlyCharges')\n",
    "plt.xlabel('MonthlyCharges')\n",
    "plt.ylabel('Frequency')\n",
    "plt.show()"
   ]
  },
  {
   "cell_type": "markdown",
   "metadata": {},
   "source": [
    "#### Observations:\n",
    "\n",
    "1. **TotalCharges Distribution**:\n",
    "   - **Right-skewed**: Most customers have low total charges, with a few having very high values, indicating a large number of newer customers or those with low usage.\n",
    "   - **Spike at zero**: Many customers have minimal or zero total charges, likely representing new or inactive accounts.\n",
    "   \n",
    "\n",
    "2. **MonthlyCharges Distribution**:\n",
    "   - **Bimodal**: The presence of two peaks suggests there are two main service tiers (e.g., basic and premium plans).\n",
    "   - **Low-end spike**: A significant number of customers have lower monthly charges, likely on more basic plans.\n",
    "\n",
    "#### Key Takeaways:\n",
    "- Many customers are new or have low usage, reflected by the high number of low `TotalCharges`.\n",
    "- The two peaks in `MonthlyCharges` might represent distinct customer segments (e.g., low-tier vs. high-tier plans), which could be useful for analyzing churn patterns."
   ]
  },
  {
   "cell_type": "markdown",
   "metadata": {},
   "source": [
    "#### Heatmap Correlation"
   ]
  },
  {
   "cell_type": "code",
   "execution_count": 11,
   "metadata": {},
   "outputs": [
    {
     "data": {
      "image/png": "[encoded data removed]",
      "text/plain": [
       "<Figure size 800x600 with 2 Axes>"
      ]
     },
     "metadata": {},
     "output_type": "display_data"
    }
   ],
   "source": [
    "# Calculate correlation for numerical columns\n",
    "correlation_matrix = merged_data[['MonthlyCharges', 'TotalCharges']].corr()\n",
    "\n",
    "# Create a heatmap\n",
    "plt.figure(figsize=(8, 6))\n",
    "sns.heatmap(correlation_matrix, annot=True, cmap='coolwarm', linewidths=0.5)\n",
    "plt.title('Correlation Heatmap of Monthly and Total Charges')\n",
    "plt.show()"
   ]
  },
  {
   "cell_type": "markdown",
   "metadata": {},
   "source": [
    "#### Observations:\n",
    "\n",
    "The heatmap shows the correlation between `MonthlyCharges` and `TotalCharges`, and here’s what we can infer from the results:\n",
    "\n",
    "**Positive Correlation**:\n",
    "   - The correlation coefficient between `MonthlyCharges` and `TotalCharges` is **0.65**, indicating a **moderate positive correlation**.\n",
    "   - This suggests that as customers' monthly charges increase, their total charges also tend to increase, which makes intuitive sense since higher monthly payments accumulate over time.\n",
    "\n",
    "**Not Perfect Correlation**:\n",
    "   - A correlation of 0.65 is significant but not perfect (1.0 would indicate a perfect linear relationship). This means that while higher `MonthlyCharges` generally lead to higher `TotalCharges`, there are other factors in play—such as the length of time a customer has been with the company (tenure) or potential discounts/offers that may impact the total.\n",
    "\n",
    "**Actionable Insight**:\n",
    "   - **Tenure or plan type** could be influencing the total charges. Customers who have been with the company longer will naturally have higher total charges, and those with higher monthly plans will accumulate charges faster.\n",
    "   - It may be helpful to investigate the impact of tenure and plan type on both churn and total charges."
   ]
  },
  {
   "cell_type": "markdown",
   "metadata": {},
   "source": [
    "#### Churn Analysis"
   ]
  },
  {
   "cell_type": "code",
   "execution_count": 12,
   "metadata": {
    "scrolled": false
   },
   "outputs": [
    {
     "name": "stdout",
     "output_type": "stream",
     "text": [
      "Churn Rate: 26.54%\n"
     ]
    },
    {
     "data": {
      "image/png": "[encoded data removed]",
      "text/plain": [
       "<Figure size 800x600 with 1 Axes>"
      ]
     },
     "metadata": {},
     "output_type": "display_data"
    },
    {
     "data": {
      "image/png": "[encoded data removed]",
      "text/plain": [
       "<Figure size 1000x600 with 1 Axes>"
      ]
     },
     "metadata": {},
     "output_type": "display_data"
    },
    {
     "data": {
      "image/png": "[encoded data removed]",
      "text/plain": [
       "<Figure size 1000x600 with 1 Axes>"
      ]
     },
     "metadata": {},
     "output_type": "display_data"
    },
    {
     "data": {
      "image/png": "[encoded data removed]",
      "text/plain": [
       "<Figure size 1000x600 with 1 Axes>"
      ]
     },
     "metadata": {},
     "output_type": "display_data"
    },
    {
     "data": {
      "image/png": "[encoded data removed]",
      "text/plain": [
       "<Figure size 1000x600 with 1 Axes>"
      ]
     },
     "metadata": {},
     "output_type": "display_data"
    },
    {
     "data": {
      "image/png": "[encoded data removed]",
      "text/plain": [
       "<Figure size 800x600 with 2 Axes>"
      ]
     },
     "metadata": {},
     "output_type": "display_data"
    }
   ],
   "source": [
    "# 1. Churn Rate\n",
    "# Calculate churn rate\n",
    "churn_rate = (1 - merged_data['is_active'].mean()) * 100\n",
    "print(f\"Churn Rate: {churn_rate:.2f}%\")\n",
    "\n",
    "# Plot churn rate\n",
    "plt.figure(figsize=(8, 6))\n",
    "sns.countplot(x='is_active', data=merged_data)\n",
    "plt.title('Churn vs Active Customers')\n",
    "plt.xlabel('Active Status (1 = Active, 0 = Churned)')\n",
    "plt.ylabel('Count')\n",
    "plt.show()\n",
    "\n",
    "# 2. MonthlyCharges vs Churn\n",
    "# Boxplot of MonthlyCharges by churn status\n",
    "plt.figure(figsize=(10, 6))\n",
    "sns.boxplot(x='is_active', y='MonthlyCharges', data=merged_data)\n",
    "plt.title('MonthlyCharges by Churn Status')\n",
    "plt.xlabel('Active Status (1 = Active, 0 = Churned)')\n",
    "plt.ylabel('MonthlyCharges')\n",
    "plt.show()\n",
    "_\n",
    "# 3. TotalCharges vs Churn\n",
    "# Boxplot of TotalCharges by churn status\n",
    "plt.figure(figsize=(10, 6))\n",
    "sns.boxplot(x='is_active', y='TotalCharges', data=merged_data)\n",
    "plt.title('TotalCharges by Churn Status')\n",
    "plt.xlabel('Active Status (1 = Active, 0 = Churned)')\n",
    "plt.ylabel('TotalCharges')\n",
    "plt.show()\n",
    "\n",
    "# 4. Contract Type vs Churn\n",
    "# Contract type vs churn status\n",
    "plt.figure(figsize=(10, 6))\n",
    "sns.countplot(x='Type', hue='is_active', data=merged_data)\n",
    "plt.title('Contract Type vs Churn Status')\n",
    "plt.xlabel('Contract Type')\n",
    "plt.ylabel('Count')\n",
    "plt.legend(title='Active Status', loc='upper right')\n",
    "plt.show()\n",
    "\n",
    "# 5. Payment Method vs Churn\n",
    "# Payment method vs churn status\n",
    "plt.figure(figsize=(10, 6))\n",
    "sns.countplot(x='PaymentMethod', hue='is_active', data=merged_data)\n",
    "plt.title('Payment Method vs Churn Status')\n",
    "plt.xlabel('Payment Method')\n",
    "plt.xticks(rotation=45)\n",
    "plt.ylabel('Count')\n",
    "plt.legend(title='Active Status', loc='upper right')\n",
    "plt.show()\n",
    "\n",
    "# 6. Correlation Heatmap: Numeric Features and Churn\n",
    "# Correlation between numeric features and churn (is_active)\n",
    "plt.figure(figsize=(8, 6))\n",
    "numeric_features = merged_data[['MonthlyCharges', 'TotalCharges', 'is_active']]\n",
    "correlation_matrix = numeric_features.corr()\n",
    "\n",
    "sns.heatmap(correlation_matrix, annot=True, cmap='coolwarm', linewidths=0.5)\n",
    "plt.title('Correlation Heatmap: Numeric Features and Churn')\n",
    "plt.show()"
   ]
  },
  {
   "cell_type": "markdown",
   "metadata": {},
   "source": [
    "#### Observations\n",
    "\n",
    "**High churn rate**: A large portion of customers are churning, indicating retention challenges.\n",
    "   \n",
    "**Higher MonthlyCharges linked to churn**: Customers with higher monthly charges are more likely to churn, suggesting potential dissatisfaction with high-priced plans.\n",
    "\n",
    "**Month-to-month contracts drive churn**: Customers on short-term contracts churn significantly more compared to those on 1-year or 2-year contracts. Longer contracts reduce churn.\n",
    "\n",
    "**Payment method impact**: Customers using electronic checks have higher churn, while those using automatic payment methods churn less.\n",
    "\n",
    "**Weak correlation between TotalCharges and churn**: Total accumulated charges don’t appear to significantly influence churn.\n",
    "\n",
    "#### Key Actions:\n",
    "- Focus on retaining customers with high monthly charges and short-term contracts.\n",
    "- Encourage automatic payments to reduce churn."
   ]
  },
  {
   "cell_type": "markdown",
   "metadata": {},
   "source": [
    "### Tenure Analysis"
   ]
  },
  {
   "cell_type": "code",
   "execution_count": 13,
   "metadata": {},
   "outputs": [
    {
     "data": {
      "image/png": "[encoded data removed]",
      "text/plain": [
       "<Figure size 1000x600 with 1 Axes>"
      ]
     },
     "metadata": {},
     "output_type": "display_data"
    }
   ],
   "source": [
    "# Convert 'BeginDate' to datetime, handling any errors or missing values\n",
    "merged_data['BeginDate'] = pd.to_datetime(merged_data['BeginDate'], errors='coerce')\n",
    "\n",
    "# Create a 'tenure_months' column to calculate the customer's tenure\n",
    "merged_data['tenure_months'] = (pd.to_datetime('2020-02-01') - merged_data['BeginDate']).dt.days // 30\n",
    "\n",
    "# Plot the tenure by churn status\n",
    "plt.figure(figsize=(10, 6))\n",
    "sns.boxplot(x='is_active', y='tenure_months', data=merged_data)\n",
    "plt.title('Tenure by Churn Status')\n",
    "plt.xlabel('Active Status (1 = Active, 0 = Churned)')\n",
    "plt.ylabel('Tenure (months)')\n",
    "plt.show()"
   ]
  },
  {
   "cell_type": "markdown",
   "metadata": {},
   "source": [
    "#### Observations:\n",
    "\n",
    "**Tenure and Churn Relationship**:\n",
    "   - **Lower tenure linked to higher churn**: Customers who have churned (marked as `False` for `is_active`) generally have significantly shorter tenures compared to those who are still active.\n",
    "   - **Active customers have longer tenures**: The median tenure for active customers is much higher than that of churned customers, suggesting that customers who stay longer with the company are less likely to churn.\n",
    "\n",
    "**Outliers in Active Customers**:\n",
    "   - There are a few outliers with high tenure who have churned, which could represent long-term customers who left despite having been with the company for a while. This may warrant further investigation.\n",
    "\n",
    "**Actionable Insight**:\n",
    "   - **Retention efforts** should likely focus on newer customers with lower tenure, as they are more likely to churn. Strategies could include engagement campaigns or offering better long-term contracts to newer customers to encourage loyalty."
   ]
  },
  {
   "cell_type": "markdown",
   "metadata": {},
   "source": [
    "# Work Plan\n",
    "\n",
    "### **List of Clarifying Questions:**\n",
    "1. **Are there any specific customer segments the company is more interested in retaining (e.g., high-value customers)?**\n",
    "   - This will help me tailor the analysis and modeling to prioritize these segments.\n",
    "2. **Should I focus on specific services (e.g., phone or internet) when building the churn prediction model?**\n",
    "   - Knowing whether certain services are more important could guide feature selection.\n",
    "3. **How should we treat month-to-month contracts differently from long-term contracts in the model?**\n",
    "   - Understanding whether the company wants to focus on converting month-to-month customers to long-term contracts could shape the model’s objectives.\n",
    "4. **Is there a need to build separate models for different payment methods or contract types?**\n",
    "   - This might help create more precise strategies for retention.\n",
    "5. **How do we handle the impact of promotions or discounts that could influence churn but are not explicitly recorded in the dataset?**\n",
    "   - This could affect how I model customer behavior and predict churn likelihood.\n",
    "\n",
    "### **Work Plan:**\n",
    "\n",
    "1. **Data Preparation and Feature Engineering**\n",
    "    - Convert necessary columns like `BeginDate` and `EndDate` to appropriate formats, & handle missing values.\n",
    "    - Generate the `is_active` column to mark whether a customer has churned (target variable).\n",
    "    \n",
    "   \n",
    "2. **Exploratory Data Analysis (EDA)**\n",
    "    - Investigate churn distribution across different customer features (e.g., `MonthlyCharges`, `TotalCharges`, `Contract Type`, and `PaymentMethod`).\n",
    "    - Analyze tenure and its relationship with churn to identify at-risk customers, as well as visualize data using histograms, boxplots, and correlation heatmaps to understand the relationships between variables and churn.\n",
    "    \n",
    "\n",
    "3. **Model Development and Feature Selection**\n",
    "   - Select important features for the model, including `MonthlyCharges`, `TotalCharges`, `tenure_months`, `Contract Type`, and `PaymentMethod`.\n",
    "    - Train multiple models (e.g., decision trees, random forests, or logistic regression) to predict churn, then evaluate model performance using accuracy, precision, recall, and AUC-ROC score to find the best model for churn prediction.\n",
    "    \n",
    "\n",
    "4. **Model Testing and Optimization**\n",
    "   - Test the model on a hold-out dataset to validate performance.\n",
    "   - Tune hyperparameters to optimize performance, & ensure that the model is generalizing well to new data and avoid overfitting.\n",
    "   \n",
    "\n",
    "5. **Reporting and Insights**\n",
    "   - Summarize the most important features contributing to churn (e.g., high `MonthlyCharges`, month-to-month contracts, and certain payment methods like electronic checks).\n",
    "   - Provide actionable insights, such as targeting newer customers with low tenure and encouraging them to switch to longer contracts or automatic payment methods and highlight reas for potential business strategies (e.g., discount plans for customers with higher monthly charges or new customer engagement strategies)."
   ]
  },
  {
   "cell_type": "markdown",
   "metadata": {},
   "source": [
    "## Training Models"
   ]
  },
  {
   "cell_type": "markdown",
   "metadata": {},
   "source": [
    "### 1. Prepare the Target Variable (Churn)"
   ]
  },
  {
   "cell_type": "code",
   "execution_count": 14,
   "metadata": {},
   "outputs": [
    {
     "name": "stdout",
     "output_type": "stream",
     "text": [
      "Prepared Data (X) shape: (7043, 23)\n",
      "Target variable (y) shape: (7043,)\n",
      "Class distribution in y:\n",
      "0    5174\n",
      "1    1869\n",
      "Name: Churn, dtype: int64\n"
     ]
    }
   ],
   "source": [
    "# Step 1: Define the target variable (Churn) based on EndDate\n",
    "# Churn = 1 if EndDate is not \"No\", else 0 (i.e., customer has churned if EndDate is a date)\n",
    "merged_data['Churn'] = merged_data['EndDate'].apply(lambda x: 1 if x != \"No\" else 0)\n",
    "\n",
    "# Step 2: Drop any columns that reference the target variable directly (to avoid data leakage)\n",
    "# Drop 'EndDate' and 'is_active' columns AFTER defining the target variable\n",
    "merged_data.drop(columns=['EndDate', 'is_active'], inplace=True)\n",
    "\n",
    "# Step 3: List of categorical columns that need to be one-hot encoded\n",
    "categorical_columns = ['Type', 'PaperlessBilling', 'PaymentMethod', 'gender', 'Partner', 'Dependents',\n",
    "                       'InternetService', 'OnlineSecurity', 'OnlineBackup', 'DeviceProtection',\n",
    "                       'TechSupport', 'StreamingTV', 'StreamingMovies', 'MultipleLines']\n",
    "\n",
    "# Step 4: Apply one-hot encoding to categorical variables\n",
    "X = pd.get_dummies(merged_data.drop(columns=['Churn', 'customerID']), \n",
    "                   columns=categorical_columns, \n",
    "                   drop_first=True)\n",
    "\n",
    "# Step 5: Define the target variable (Churn)\n",
    "y = merged_data['Churn']\n",
    "\n",
    "# Step 6: Display the shape of the prepared data to ensure everything is numeric and properly encoded\n",
    "print(f\"Prepared Data (X) shape: {X.shape}\")\n",
    "print(f\"Target variable (y) shape: {y.shape}\")\n",
    "\n",
    "# Step 7: Check class distribution in the target variable to ensure both classes (0 and 1) are present\n",
    "print(\"Class distribution in y:\")\n",
    "print(y.value_counts())"
   ]
  },
  {
   "cell_type": "markdown",
   "metadata": {},
   "source": [
    "### 2. Split the Data into Train, Validation, and Test Sets"
   ]
  },
  {
   "cell_type": "markdown",
   "metadata": {},
   "source": [
    "I will split the data into 70% training, 15% validation, and 15% test sets. I will use stratify=y to ensure that the class imbalance is maintained across all splits, which is important given that we have an imbalanced dataset."
   ]
  },
  {
   "cell_type": "code",
   "execution_count": 15,
   "metadata": {
    "scrolled": false
   },
   "outputs": [
    {
     "name": "stdout",
     "output_type": "stream",
     "text": [
      "Training set size: (4930, 23)\n",
      "Validation set size: (1056, 23)\n",
      "Test set size: (1057, 23)\n"
     ]
    }
   ],
   "source": [
    "# Split the data into training (70%), validation (15%), and test sets (15%)\n",
    "X_train, X_temp, y_train, y_temp = train_test_split(X, y, test_size=0.3, random_state=42, stratify=y)\n",
    "X_val, X_test, y_val, y_test = train_test_split(X_temp, y_temp, test_size=0.5, random_state=42, stratify=y_temp)\n",
    "\n",
    "# Verify the splits\n",
    "print(f\"Training set size: {X_train.shape}\")\n",
    "print(f\"Validation set size: {X_val.shape}\")\n",
    "print(f\"Test set size: {X_test.shape}\")"
   ]
  },
  {
   "cell_type": "markdown",
   "metadata": {},
   "source": [
    "### Model 0: Logistic Regression"
   ]
  },
  {
   "cell_type": "code",
   "execution_count": 16,
   "metadata": {
    "scrolled": false
   },
   "outputs": [
    {
     "name": "stdout",
     "output_type": "stream",
     "text": [
      "Logistic Regression AUC-ROC: 0.8362\n",
      "Logistic Regression Accuracy: 0.7263\n",
      "              precision    recall  f1-score   support\n",
      "\n",
      "           0       0.91      0.70      0.79       776\n",
      "           1       0.49      0.81      0.61       280\n",
      "\n",
      "    accuracy                           0.73      1056\n",
      "   macro avg       0.70      0.75      0.70      1056\n",
      "weighted avg       0.80      0.73      0.74      1056\n",
      "\n"
     ]
    },
    {
     "name": "stderr",
     "output_type": "stream",
     "text": [
      "/opt/conda/envs/python3/lib/python3.9/site-packages/pandas/core/indexing.py:1676: SettingWithCopyWarning: \n",
      "A value is trying to be set on a copy of a slice from a DataFrame.\n",
      "Try using .loc[row_indexer,col_indexer] = value instead\n",
      "\n",
      "See the caveats in the documentation: https://pandas.pydata.org/pandas-docs/stable/user_guide/indexing.html#returning-a-view-versus-a-copy\n",
      "  self._setitem_single_column(ilocs[0], value, pi)\n"
     ]
    }
   ],
   "source": [
    "# Handle datetime columns (convert to days since reference date) without chained assignments\n",
    "reference_date = pd.to_datetime('2020-01-01')\n",
    "\n",
    "# For each dataset, create a new series for BeginDate and assign it explicitly\n",
    "train_begin_days = (X_train['BeginDate'] - reference_date).dt.days\n",
    "X_train.loc[:, 'BeginDate'] = train_begin_days\n",
    "\n",
    "val_begin_days = (X_val['BeginDate'] - reference_date).dt.days\n",
    "X_val.loc[:, 'BeginDate'] = val_begin_days\n",
    "\n",
    "test_begin_days = (X_test['BeginDate'] - reference_date).dt.days\n",
    "X_test.loc[:, 'BeginDate'] = test_begin_days\n",
    "\n",
    "# Standardize the data\n",
    "scaler = StandardScaler()\n",
    "X_train_scaled = scaler.fit_transform(X_train)\n",
    "X_val_scaled = scaler.transform(X_val)\n",
    "\n",
    "# Train Logistic Regression Model with class_weight='balanced'\n",
    "logreg = LogisticRegression(class_weight='balanced', random_state=42, max_iter=500)\n",
    "logreg.fit(X_train_scaled, y_train.ravel())  # Ensure y_train is 1D\n",
    "\n",
    "# Predict on validation set\n",
    "y_val_pred_logreg = logreg.predict(X_val_scaled)\n",
    "y_val_pred_proba_logreg = logreg.predict_proba(X_val_scaled)[:, 1]\n",
    "\n",
    "# Evaluate Logistic Regression using AUC-ROC and Accuracy\n",
    "auc_roc_logreg = roc_auc_score(y_val, y_val_pred_proba_logreg)\n",
    "accuracy_logreg = accuracy_score(y_val, y_val_pred_logreg)\n",
    "\n",
    "# Print results\n",
    "print(f\"Logistic Regression AUC-ROC: {auc_roc_logreg:.4f}\")\n",
    "print(f\"Logistic Regression Accuracy: {accuracy_logreg:.4f}\")\n",
    "print(classification_report(y_val, y_val_pred_logreg))"
   ]
  },
  {
   "cell_type": "markdown",
   "metadata": {},
   "source": [
    "#### Summary of Logistic Regression Results:\n",
    "\n",
    "The logistic regression model was trained with class balancing to handle the churn prediction task. Key results are:\n",
    "\n",
    "- **AUC-ROC**: 0.8362 – The model performs well in distinguishing between churned and non-churned customers.\n",
    "- **Accuracy**: 72.63% – The model accurately predicted churn status in about 72% of cases.\n",
    "- **Precision**: \n",
    "  - Non-Churned: 0.91\n",
    "  - Churned: 0.49 – The model struggles with precision for predicting churn.\n",
    "- **Recall**: \n",
    "  - Non-Churned: 0.78\n",
    "  - Churned: 0.81 – It successfully identifies most churners.\n",
    "- **F1-Score**: \n",
    "  - Non-Churned: 0.84\n",
    "  - Churned: 0.61 – Performance is balanced but could improve for churners.\n",
    "\n",
    "**Key Insights**: The model has strong recall for churners but low precision, meaning it predicts many false positives for churn. While this is a solid baseline, improvements can be made, particularly by tuning or exploring other models."
   ]
  },
  {
   "cell_type": "markdown",
   "metadata": {},
   "source": [
    "### Model 1: Random Forest"
   ]
  },
  {
   "cell_type": "code",
   "execution_count": 17,
   "metadata": {
    "scrolled": false
   },
   "outputs": [
    {
     "name": "stdout",
     "output_type": "stream",
     "text": [
      "Number of parameter combinations to search: 16\n"
     ]
    },
    {
     "name": "stderr",
     "output_type": "stream",
     "text": [
      "\r",
      "Grid Search Progress:   0%|          | 0/16 [00:00<?, ?it/s]"
     ]
    },
    {
     "name": "stdout",
     "output_type": "stream",
     "text": [
      "Fitting 3 folds for each of 16 candidates, totalling 48 fits\n",
      "[CV] END class_weight=balanced, max_depth=10, min_samples_leaf=1, min_samples_split=2, n_estimators=50, random_state=42; total time=   0.2s\n",
      "[CV] END class_weight=balanced, max_depth=10, min_samples_leaf=1, min_samples_split=2, n_estimators=50, random_state=42; total time=   0.1s\n",
      "[CV] END class_weight=balanced, max_depth=10, min_samples_leaf=1, min_samples_split=2, n_estimators=50, random_state=42; total time=   0.1s\n",
      "[CV] END class_weight=balanced, max_depth=10, min_samples_leaf=1, min_samples_split=2, n_estimators=100, random_state=42; total time=   0.2s\n",
      "[CV] END class_weight=balanced, max_depth=10, min_samples_leaf=1, min_samples_split=2, n_estimators=100, random_state=42; total time=   0.2s\n",
      "[CV] END class_weight=balanced, max_depth=10, min_samples_leaf=1, min_samples_split=2, n_estimators=100, random_state=42; total time=   0.3s\n",
      "[CV] END class_weight=balanced, max_depth=10, min_samples_leaf=1, min_samples_split=5, n_estimators=50, random_state=42; total time=   0.1s\n",
      "[CV] END class_weight=balanced, max_depth=10, min_samples_leaf=1, min_samples_split=5, n_estimators=50, random_state=42; total time=   0.1s\n",
      "[CV] END class_weight=balanced, max_depth=10, min_samples_leaf=1, min_samples_split=5, n_estimators=50, random_state=42; total time=   0.1s\n",
      "[CV] END class_weight=balanced, max_depth=10, min_samples_leaf=1, min_samples_split=5, n_estimators=100, random_state=42; total time=   0.3s\n",
      "[CV] END class_weight=balanced, max_depth=10, min_samples_leaf=1, min_samples_split=5, n_estimators=100, random_state=42; total time=   0.2s\n",
      "[CV] END class_weight=balanced, max_depth=10, min_samples_leaf=1, min_samples_split=5, n_estimators=100, random_state=42; total time=   0.2s\n",
      "[CV] END class_weight=balanced, max_depth=10, min_samples_leaf=2, min_samples_split=2, n_estimators=50, random_state=42; total time=   0.1s\n",
      "[CV] END class_weight=balanced, max_depth=10, min_samples_leaf=2, min_samples_split=2, n_estimators=50, random_state=42; total time=   0.1s\n",
      "[CV] END class_weight=balanced, max_depth=10, min_samples_leaf=2, min_samples_split=2, n_estimators=50, random_state=42; total time=   0.1s\n",
      "[CV] END class_weight=balanced, max_depth=10, min_samples_leaf=2, min_samples_split=2, n_estimators=100, random_state=42; total time=   0.2s\n",
      "[CV] END class_weight=balanced, max_depth=10, min_samples_leaf=2, min_samples_split=2, n_estimators=100, random_state=42; total time=   0.2s\n",
      "[CV] END class_weight=balanced, max_depth=10, min_samples_leaf=2, min_samples_split=2, n_estimators=100, random_state=42; total time=   0.2s\n",
      "[CV] END class_weight=balanced, max_depth=10, min_samples_leaf=2, min_samples_split=5, n_estimators=50, random_state=42; total time=   0.1s\n",
      "[CV] END class_weight=balanced, max_depth=10, min_samples_leaf=2, min_samples_split=5, n_estimators=50, random_state=42; total time=   0.1s\n",
      "[CV] END class_weight=balanced, max_depth=10, min_samples_leaf=2, min_samples_split=5, n_estimators=50, random_state=42; total time=   0.1s\n",
      "[CV] END class_weight=balanced, max_depth=10, min_samples_leaf=2, min_samples_split=5, n_estimators=100, random_state=42; total time=   0.2s\n",
      "[CV] END class_weight=balanced, max_depth=10, min_samples_leaf=2, min_samples_split=5, n_estimators=100, random_state=42; total time=   0.2s\n",
      "[CV] END class_weight=balanced, max_depth=10, min_samples_leaf=2, min_samples_split=5, n_estimators=100, random_state=42; total time=   0.2s\n",
      "[CV] END class_weight=balanced, max_depth=15, min_samples_leaf=1, min_samples_split=2, n_estimators=50, random_state=42; total time=   0.1s\n",
      "[CV] END class_weight=balanced, max_depth=15, min_samples_leaf=1, min_samples_split=2, n_estimators=50, random_state=42; total time=   0.1s\n",
      "[CV] END class_weight=balanced, max_depth=15, min_samples_leaf=1, min_samples_split=2, n_estimators=50, random_state=42; total time=   0.1s\n",
      "[CV] END class_weight=balanced, max_depth=15, min_samples_leaf=1, min_samples_split=2, n_estimators=100, random_state=42; total time=   0.3s\n",
      "[CV] END class_weight=balanced, max_depth=15, min_samples_leaf=1, min_samples_split=2, n_estimators=100, random_state=42; total time=   0.3s\n",
      "[CV] END class_weight=balanced, max_depth=15, min_samples_leaf=1, min_samples_split=2, n_estimators=100, random_state=42; total time=   0.3s\n",
      "[CV] END class_weight=balanced, max_depth=15, min_samples_leaf=1, min_samples_split=5, n_estimators=50, random_state=42; total time=   0.1s\n",
      "[CV] END class_weight=balanced, max_depth=15, min_samples_leaf=1, min_samples_split=5, n_estimators=50, random_state=42; total time=   0.1s\n",
      "[CV] END class_weight=balanced, max_depth=15, min_samples_leaf=1, min_samples_split=5, n_estimators=50, random_state=42; total time=   0.1s\n",
      "[CV] END class_weight=balanced, max_depth=15, min_samples_leaf=1, min_samples_split=5, n_estimators=100, random_state=42; total time=   0.3s\n",
      "[CV] END class_weight=balanced, max_depth=15, min_samples_leaf=1, min_samples_split=5, n_estimators=100, random_state=42; total time=   0.3s\n",
      "[CV] END class_weight=balanced, max_depth=15, min_samples_leaf=1, min_samples_split=5, n_estimators=100, random_state=42; total time=   0.3s\n",
      "[CV] END class_weight=balanced, max_depth=15, min_samples_leaf=2, min_samples_split=2, n_estimators=50, random_state=42; total time=   0.1s\n",
      "[CV] END class_weight=balanced, max_depth=15, min_samples_leaf=2, min_samples_split=2, n_estimators=50, random_state=42; total time=   0.1s\n",
      "[CV] END class_weight=balanced, max_depth=15, min_samples_leaf=2, min_samples_split=2, n_estimators=50, random_state=42; total time=   0.1s\n",
      "[CV] END class_weight=balanced, max_depth=15, min_samples_leaf=2, min_samples_split=2, n_estimators=100, random_state=42; total time=   0.3s\n",
      "[CV] END class_weight=balanced, max_depth=15, min_samples_leaf=2, min_samples_split=2, n_estimators=100, random_state=42; total time=   0.3s\n",
      "[CV] END class_weight=balanced, max_depth=15, min_samples_leaf=2, min_samples_split=2, n_estimators=100, random_state=42; total time=   0.3s\n",
      "[CV] END class_weight=balanced, max_depth=15, min_samples_leaf=2, min_samples_split=5, n_estimators=50, random_state=42; total time=   0.1s\n",
      "[CV] END class_weight=balanced, max_depth=15, min_samples_leaf=2, min_samples_split=5, n_estimators=50, random_state=42; total time=   0.1s\n",
      "[CV] END class_weight=balanced, max_depth=15, min_samples_leaf=2, min_samples_split=5, n_estimators=50, random_state=42; total time=   0.1s\n",
      "[CV] END class_weight=balanced, max_depth=15, min_samples_leaf=2, min_samples_split=5, n_estimators=100, random_state=42; total time=   0.3s\n",
      "[CV] END class_weight=balanced, max_depth=15, min_samples_leaf=2, min_samples_split=5, n_estimators=100, random_state=42; total time=   0.3s\n",
      "[CV] END class_weight=balanced, max_depth=15, min_samples_leaf=2, min_samples_split=5, n_estimators=100, random_state=42; total time=   0.3s\n"
     ]
    },
    {
     "name": "stderr",
     "output_type": "stream",
     "text": [
      "Grid Search Progress: 100%|██████████| 16/16 [00:09<00:00,  1.65it/s]\n"
     ]
    },
    {
     "name": "stdout",
     "output_type": "stream",
     "text": [
      "Best Parameters: {'class_weight': 'balanced', 'max_depth': 15, 'min_samples_leaf': 2, 'min_samples_split': 5, 'n_estimators': 100, 'random_state': 42}\n",
      "Best AUC-ROC Score from GridSearchCV: 0.8826\n",
      "Best Random Forest AUC-ROC on validation set: 0.8827\n",
      "Best Random Forest Accuracy on validation set: 0.8229\n"
     ]
    }
   ],
   "source": [
    "# Define a smaller parameter grid\n",
    "param_grid = {\n",
    "    'n_estimators': [50, 100],              # Reduce the number of estimators to two options\n",
    "    'max_depth': [10, 15],                  # Reduce the number of depth values\n",
    "    'min_samples_split': [2, 5],            # Limit the minimum sample split values\n",
    "    'min_samples_leaf': [1, 2],             # Fewer options for min samples per leaf\n",
    "    'class_weight': ['balanced'],           # To handle class imbalance\n",
    "    'random_state': [42]                    # For reproducibility\n",
    "}\n",
    "\n",
    "# Initialize the RandomForestClassifier\n",
    "rf_model = RandomForestClassifier()\n",
    "\n",
    "# Initialize GridSearchCV\n",
    "grid_search = GridSearchCV(\n",
    "    estimator=rf_model,\n",
    "    param_grid=param_grid,\n",
    "    scoring='roc_auc',\n",
    "    cv=3,\n",
    "    n_jobs=-1,\n",
    "    verbose=2,\n",
    "    error_score='raise'  # Ignore errors during grid search and continue\n",
    ")\n",
    "\n",
    "# Use tqdm to wrap the fitting process and show progress manually\n",
    "n_combinations = len(param_grid['n_estimators']) * len(param_grid['max_depth']) * len(param_grid['min_samples_split']) * len(param_grid['min_samples_leaf'])\n",
    "print(f\"Number of parameter combinations to search: {n_combinations}\")\n",
    "\n",
    "# Show progress using tqdm, though note that we cannot use the callback method directly\n",
    "with tqdm(total=n_combinations, desc=\"Grid Search Progress\") as pbar:\n",
    "    grid_search.fit(X_train_scaled, y_train.ravel())\n",
    "    pbar.update(n_combinations)\n",
    "\n",
    "# Get the best parameters and the best score\n",
    "best_params = grid_search.best_params_\n",
    "best_score = grid_search.best_score_\n",
    "\n",
    "print(f\"Best Parameters: {best_params}\")\n",
    "print(f\"Best AUC-ROC Score from GridSearchCV: {best_score:.4f}\")\n",
    "\n",
    "# Train the best model from GridSearch on the full training data\n",
    "best_rf_model = grid_search.best_estimator_\n",
    "best_rf_model.fit(X_train_scaled, y_train.ravel())\n",
    "\n",
    "# Predict on the validation set\n",
    "y_val_pred_best_rf = best_rf_model.predict(X_val_scaled)\n",
    "y_val_pred_proba_best_rf = best_rf_model.predict_proba(X_val_scaled)[:, 1]\n",
    "\n",
    "# Evaluate the best model using AUC-ROC and accuracy\n",
    "auc_roc_best_rf = roc_auc_score(y_val, y_val_pred_proba_best_rf)\n",
    "accuracy_best_rf = accuracy_score(y_val, y_val_pred_best_rf)\n",
    "\n",
    "print(f\"Best Random Forest AUC-ROC on validation set: {auc_roc_best_rf:.4f}\")\n",
    "print(f\"Best Random Forest Accuracy on validation set: {accuracy_best_rf:.4f}\")"
   ]
  },
  {
   "cell_type": "markdown",
   "metadata": {},
   "source": [
    "#### Summary of Random Forest Results:\n",
    "\n",
    "For the Random Forest model, after conducting hyperparameter tuning using grid search with 16 different parameter combinations, I observed the following results:\n",
    "\n",
    "- **Best Parameters:** The optimal hyperparameters were found with `class_weight='balanced'`, `max_depth=15`, `min_samples_leaf=2`, `min_samples_split=5`, and `n_estimators=100`.\n",
    "- **Performance Metrics:**\n",
    "  - **AUC-ROC on Validation Set:** 0.8827\n",
    "  - **Accuracy on Validation Set:** 0.8229\n",
    "\n",
    "These results show that the Random Forest model performed fairly well & within a reasonable range for binary classification. The accuracy was above 80%, indicating that the model was able to predict churn accurately."
   ]
  },
  {
   "cell_type": "markdown",
   "metadata": {},
   "source": [
    "### Model 2: LightGBM"
   ]
  },
  {
   "cell_type": "code",
   "execution_count": 21,
   "metadata": {
    "scrolled": false
   },
   "outputs": [
    {
     "name": "stdout",
     "output_type": "stream",
     "text": [
      "Fitting 3 folds for each of 20 candidates, totalling 60 fits\n",
      "[LightGBM] [Warning] Unknown parameter: eval_metric\n",
      "[LightGBM] [Warning] Unknown parameter: use_label_encoder\n",
      "[LightGBM] [Warning] lambda_l2 is set=1.0, reg_lambda=0.0 will be ignored. Current value: lambda_l2=1.0\n",
      "[CV] END colsample_bytree=1.0, lambda_l2=1.0, learning_rate=0.05, max_depth=7, min_child_samples=20, n_estimators=100, num_leaves=20, scale_pos_weight=5.0, subsample=0.8; total time=   0.2s\n",
      "[LightGBM] [Warning] Unknown parameter: eval_metric\n",
      "[LightGBM] [Warning] Unknown parameter: use_label_encoder\n",
      "[LightGBM] [Warning] lambda_l2 is set=1.0, reg_lambda=0.0 will be ignored. Current value: lambda_l2=1.0\n",
      "[CV] END colsample_bytree=1.0, lambda_l2=1.0, learning_rate=0.05, max_depth=7, min_child_samples=20, n_estimators=100, num_leaves=20, scale_pos_weight=5.0, subsample=0.8; total time=   0.2s\n",
      "[LightGBM] [Warning] Unknown parameter: eval_metric\n",
      "[LightGBM] [Warning] Unknown parameter: use_label_encoder\n",
      "[LightGBM] [Warning] lambda_l2 is set=1.0, reg_lambda=0.0 will be ignored. Current value: lambda_l2=1.0\n",
      "[CV] END colsample_bytree=1.0, lambda_l2=1.0, learning_rate=0.05, max_depth=7, min_child_samples=20, n_estimators=100, num_leaves=20, scale_pos_weight=5.0, subsample=0.8; total time=   0.3s\n",
      "[LightGBM] [Warning] Unknown parameter: eval_metric\n",
      "[LightGBM] [Warning] Unknown parameter: use_label_encoder\n",
      "[LightGBM] [Warning] lambda_l2 is set=0.5, reg_lambda=0.0 will be ignored. Current value: lambda_l2=0.5\n",
      "[CV] END colsample_bytree=0.8, lambda_l2=0.5, learning_rate=0.05, max_depth=5, min_child_samples=30, n_estimators=200, num_leaves=40, scale_pos_weight=3.0, subsample=0.8; total time=   0.3s\n",
      "[LightGBM] [Warning] Unknown parameter: eval_metric\n",
      "[LightGBM] [Warning] Unknown parameter: use_label_encoder\n",
      "[LightGBM] [Warning] lambda_l2 is set=0.5, reg_lambda=0.0 will be ignored. Current value: lambda_l2=0.5\n",
      "[CV] END colsample_bytree=0.8, lambda_l2=0.5, learning_rate=0.05, max_depth=5, min_child_samples=30, n_estimators=200, num_leaves=40, scale_pos_weight=3.0, subsample=0.8; total time=   0.4s\n",
      "[LightGBM] [Warning] Unknown parameter: eval_metric\n",
      "[LightGBM] [Warning] Unknown parameter: use_label_encoder\n",
      "[LightGBM] [Warning] lambda_l2 is set=0.5, reg_lambda=0.0 will be ignored. Current value: lambda_l2=0.5\n",
      "[CV] END colsample_bytree=0.8, lambda_l2=0.5, learning_rate=0.05, max_depth=5, min_child_samples=30, n_estimators=200, num_leaves=40, scale_pos_weight=3.0, subsample=0.8; total time=   0.4s\n",
      "[LightGBM] [Warning] Unknown parameter: eval_metric\n",
      "[LightGBM] [Warning] Unknown parameter: use_label_encoder\n",
      "[LightGBM] [Warning] lambda_l2 is set=1.0, reg_lambda=0.0 will be ignored. Current value: lambda_l2=1.0\n",
      "[CV] END colsample_bytree=0.8, lambda_l2=1.0, learning_rate=0.01, max_depth=7, min_child_samples=20, n_estimators=200, num_leaves=40, scale_pos_weight=5.0, subsample=0.8; total time=   0.6s\n",
      "[LightGBM] [Warning] Unknown parameter: eval_metric\n",
      "[LightGBM] [Warning] Unknown parameter: use_label_encoder\n",
      "[LightGBM] [Warning] lambda_l2 is set=1.0, reg_lambda=0.0 will be ignored. Current value: lambda_l2=1.0\n",
      "[CV] END colsample_bytree=0.8, lambda_l2=1.0, learning_rate=0.01, max_depth=7, min_child_samples=20, n_estimators=200, num_leaves=40, scale_pos_weight=5.0, subsample=0.8; total time=   0.7s\n",
      "[LightGBM] [Warning] Unknown parameter: eval_metric\n",
      "[LightGBM] [Warning] Unknown parameter: use_label_encoder\n",
      "[LightGBM] [Warning] lambda_l2 is set=1.0, reg_lambda=0.0 will be ignored. Current value: lambda_l2=1.0\n",
      "[CV] END colsample_bytree=0.8, lambda_l2=1.0, learning_rate=0.01, max_depth=7, min_child_samples=20, n_estimators=200, num_leaves=40, scale_pos_weight=5.0, subsample=0.8; total time=   0.6s\n",
      "[LightGBM] [Warning] Unknown parameter: eval_metric\n",
      "[LightGBM] [Warning] Unknown parameter: use_label_encoder\n",
      "[LightGBM] [Warning] lambda_l2 is set=0.5, reg_lambda=0.0 will be ignored. Current value: lambda_l2=0.5\n",
      "[CV] END colsample_bytree=0.8, lambda_l2=0.5, learning_rate=0.1, max_depth=7, min_child_samples=30, n_estimators=150, num_leaves=40, scale_pos_weight=2.0, subsample=0.8; total time=   0.4s\n",
      "[LightGBM] [Warning] Unknown parameter: eval_metric\n",
      "[LightGBM] [Warning] Unknown parameter: use_label_encoder\n",
      "[LightGBM] [Warning] lambda_l2 is set=0.5, reg_lambda=0.0 will be ignored. Current value: lambda_l2=0.5\n",
      "[CV] END colsample_bytree=0.8, lambda_l2=0.5, learning_rate=0.1, max_depth=7, min_child_samples=30, n_estimators=150, num_leaves=40, scale_pos_weight=2.0, subsample=0.8; total time=   0.5s\n",
      "[LightGBM] [Warning] Unknown parameter: eval_metric\n",
      "[LightGBM] [Warning] Unknown parameter: use_label_encoder\n",
      "[LightGBM] [Warning] lambda_l2 is set=0.5, reg_lambda=0.0 will be ignored. Current value: lambda_l2=0.5\n",
      "[CV] END colsample_bytree=0.8, lambda_l2=0.5, learning_rate=0.1, max_depth=7, min_child_samples=30, n_estimators=150, num_leaves=40, scale_pos_weight=2.0, subsample=0.8; total time=   0.4s\n",
      "[LightGBM] [Warning] Unknown parameter: eval_metric\n",
      "[LightGBM] [Warning] Unknown parameter: use_label_encoder\n",
      "[LightGBM] [Warning] lambda_l2 is set=0.5, reg_lambda=0.0 will be ignored. Current value: lambda_l2=0.5\n",
      "[CV] END colsample_bytree=0.8, lambda_l2=0.5, learning_rate=0.1, max_depth=7, min_child_samples=20, n_estimators=200, num_leaves=20, scale_pos_weight=5.0, subsample=1.0; total time=   0.4s\n",
      "[LightGBM] [Warning] Unknown parameter: eval_metric\n",
      "[LightGBM] [Warning] Unknown parameter: use_label_encoder\n",
      "[LightGBM] [Warning] lambda_l2 is set=0.5, reg_lambda=0.0 will be ignored. Current value: lambda_l2=0.5\n",
      "[CV] END colsample_bytree=0.8, lambda_l2=0.5, learning_rate=0.1, max_depth=7, min_child_samples=20, n_estimators=200, num_leaves=20, scale_pos_weight=5.0, subsample=1.0; total time=   0.4s\n",
      "[LightGBM] [Warning] Unknown parameter: eval_metric\n",
      "[LightGBM] [Warning] Unknown parameter: use_label_encoder\n",
      "[LightGBM] [Warning] lambda_l2 is set=0.5, reg_lambda=0.0 will be ignored. Current value: lambda_l2=0.5\n",
      "[CV] END colsample_bytree=0.8, lambda_l2=0.5, learning_rate=0.1, max_depth=7, min_child_samples=20, n_estimators=200, num_leaves=20, scale_pos_weight=5.0, subsample=1.0; total time=   0.3s\n",
      "[LightGBM] [Warning] Unknown parameter: eval_metric\n",
      "[LightGBM] [Warning] Unknown parameter: use_label_encoder\n",
      "[LightGBM] [Warning] lambda_l2 is set=1.0, reg_lambda=0.0 will be ignored. Current value: lambda_l2=1.0\n",
      "[CV] END colsample_bytree=1.0, lambda_l2=1.0, learning_rate=0.05, max_depth=5, min_child_samples=20, n_estimators=150, num_leaves=20, scale_pos_weight=3.0, subsample=0.8; total time=   0.3s\n",
      "[LightGBM] [Warning] Unknown parameter: eval_metric\n",
      "[LightGBM] [Warning] Unknown parameter: use_label_encoder\n",
      "[LightGBM] [Warning] lambda_l2 is set=1.0, reg_lambda=0.0 will be ignored. Current value: lambda_l2=1.0\n",
      "[CV] END colsample_bytree=1.0, lambda_l2=1.0, learning_rate=0.05, max_depth=5, min_child_samples=20, n_estimators=150, num_leaves=20, scale_pos_weight=3.0, subsample=0.8; total time=   0.4s\n",
      "[LightGBM] [Warning] Unknown parameter: eval_metric\n",
      "[LightGBM] [Warning] Unknown parameter: use_label_encoder\n",
      "[LightGBM] [Warning] lambda_l2 is set=1.0, reg_lambda=0.0 will be ignored. Current value: lambda_l2=1.0\n",
      "[CV] END colsample_bytree=1.0, lambda_l2=1.0, learning_rate=0.05, max_depth=5, min_child_samples=20, n_estimators=150, num_leaves=20, scale_pos_weight=3.0, subsample=0.8; total time=   0.3s\n",
      "[LightGBM] [Warning] Unknown parameter: eval_metric\n",
      "[LightGBM] [Warning] Unknown parameter: use_label_encoder\n",
      "[LightGBM] [Warning] lambda_l2 is set=1.0, reg_lambda=0.0 will be ignored. Current value: lambda_l2=1.0\n",
      "[CV] END colsample_bytree=0.8, lambda_l2=1.0, learning_rate=0.1, max_depth=7, min_child_samples=20, n_estimators=100, num_leaves=20, scale_pos_weight=5.0, subsample=0.8; total time=   0.2s\n",
      "[LightGBM] [Warning] Unknown parameter: eval_metric\n",
      "[LightGBM] [Warning] Unknown parameter: use_label_encoder\n",
      "[LightGBM] [Warning] lambda_l2 is set=1.0, reg_lambda=0.0 will be ignored. Current value: lambda_l2=1.0\n",
      "[CV] END colsample_bytree=0.8, lambda_l2=1.0, learning_rate=0.1, max_depth=7, min_child_samples=20, n_estimators=100, num_leaves=20, scale_pos_weight=5.0, subsample=0.8; total time=   0.2s\n",
      "[LightGBM] [Warning] Unknown parameter: eval_metric\n",
      "[LightGBM] [Warning] Unknown parameter: use_label_encoder\n",
      "[LightGBM] [Warning] lambda_l2 is set=1.0, reg_lambda=0.0 will be ignored. Current value: lambda_l2=1.0\n"
     ]
    },
    {
     "name": "stdout",
     "output_type": "stream",
     "text": [
      "[CV] END colsample_bytree=0.8, lambda_l2=1.0, learning_rate=0.1, max_depth=7, min_child_samples=20, n_estimators=100, num_leaves=20, scale_pos_weight=5.0, subsample=0.8; total time=   0.3s\n",
      "[LightGBM] [Warning] Unknown parameter: eval_metric\n",
      "[LightGBM] [Warning] Unknown parameter: use_label_encoder\n",
      "[LightGBM] [Warning] lambda_l2 is set=0.1, reg_lambda=0.0 will be ignored. Current value: lambda_l2=0.1\n",
      "[CV] END colsample_bytree=1.0, lambda_l2=0.1, learning_rate=0.1, max_depth=5, min_child_samples=30, n_estimators=100, num_leaves=40, scale_pos_weight=1.0, subsample=1.0; total time=   0.1s\n",
      "[LightGBM] [Warning] Unknown parameter: eval_metric\n",
      "[LightGBM] [Warning] Unknown parameter: use_label_encoder\n",
      "[LightGBM] [Warning] lambda_l2 is set=0.1, reg_lambda=0.0 will be ignored. Current value: lambda_l2=0.1\n",
      "[CV] END colsample_bytree=1.0, lambda_l2=0.1, learning_rate=0.1, max_depth=5, min_child_samples=30, n_estimators=100, num_leaves=40, scale_pos_weight=1.0, subsample=1.0; total time=   0.2s\n",
      "[LightGBM] [Warning] Unknown parameter: eval_metric\n",
      "[LightGBM] [Warning] Unknown parameter: use_label_encoder\n",
      "[LightGBM] [Warning] lambda_l2 is set=0.1, reg_lambda=0.0 will be ignored. Current value: lambda_l2=0.1\n",
      "[CV] END colsample_bytree=1.0, lambda_l2=0.1, learning_rate=0.1, max_depth=5, min_child_samples=30, n_estimators=100, num_leaves=40, scale_pos_weight=1.0, subsample=1.0; total time=   0.1s\n",
      "[LightGBM] [Warning] Unknown parameter: eval_metric\n",
      "[LightGBM] [Warning] Unknown parameter: use_label_encoder\n",
      "[LightGBM] [Warning] lambda_l2 is set=0.1, reg_lambda=0.0 will be ignored. Current value: lambda_l2=0.1\n",
      "[CV] END colsample_bytree=0.8, lambda_l2=0.1, learning_rate=0.1, max_depth=5, min_child_samples=30, n_estimators=200, num_leaves=20, scale_pos_weight=2.0, subsample=0.8; total time=   0.4s\n",
      "[LightGBM] [Warning] Unknown parameter: eval_metric\n",
      "[LightGBM] [Warning] Unknown parameter: use_label_encoder\n",
      "[LightGBM] [Warning] lambda_l2 is set=0.1, reg_lambda=0.0 will be ignored. Current value: lambda_l2=0.1\n",
      "[CV] END colsample_bytree=0.8, lambda_l2=0.1, learning_rate=0.1, max_depth=5, min_child_samples=30, n_estimators=200, num_leaves=20, scale_pos_weight=2.0, subsample=0.8; total time=   0.3s\n",
      "[LightGBM] [Warning] Unknown parameter: eval_metric\n",
      "[LightGBM] [Warning] Unknown parameter: use_label_encoder\n",
      "[LightGBM] [Warning] lambda_l2 is set=0.1, reg_lambda=0.0 will be ignored. Current value: lambda_l2=0.1\n",
      "[CV] END colsample_bytree=0.8, lambda_l2=0.1, learning_rate=0.1, max_depth=5, min_child_samples=30, n_estimators=200, num_leaves=20, scale_pos_weight=2.0, subsample=0.8; total time=   0.4s\n",
      "[LightGBM] [Warning] Unknown parameter: eval_metric\n",
      "[LightGBM] [Warning] Unknown parameter: use_label_encoder\n",
      "[LightGBM] [Warning] lambda_l2 is set=1.0, reg_lambda=0.0 will be ignored. Current value: lambda_l2=1.0\n",
      "[CV] END colsample_bytree=0.8, lambda_l2=1.0, learning_rate=0.01, max_depth=5, min_child_samples=30, n_estimators=200, num_leaves=20, scale_pos_weight=5.0, subsample=0.8; total time=   0.4s\n",
      "[LightGBM] [Warning] Unknown parameter: eval_metric\n",
      "[LightGBM] [Warning] Unknown parameter: use_label_encoder\n",
      "[LightGBM] [Warning] lambda_l2 is set=1.0, reg_lambda=0.0 will be ignored. Current value: lambda_l2=1.0\n",
      "[CV] END colsample_bytree=0.8, lambda_l2=1.0, learning_rate=0.01, max_depth=5, min_child_samples=30, n_estimators=200, num_leaves=20, scale_pos_weight=5.0, subsample=0.8; total time=   0.3s\n",
      "[LightGBM] [Warning] Unknown parameter: eval_metric\n",
      "[LightGBM] [Warning] Unknown parameter: use_label_encoder\n",
      "[LightGBM] [Warning] lambda_l2 is set=1.0, reg_lambda=0.0 will be ignored. Current value: lambda_l2=1.0\n",
      "[CV] END colsample_bytree=0.8, lambda_l2=1.0, learning_rate=0.01, max_depth=5, min_child_samples=30, n_estimators=200, num_leaves=20, scale_pos_weight=5.0, subsample=0.8; total time=   0.4s\n",
      "[LightGBM] [Warning] Unknown parameter: eval_metric\n",
      "[LightGBM] [Warning] Unknown parameter: use_label_encoder\n",
      "[LightGBM] [Warning] lambda_l2 is set=0.1, reg_lambda=0.0 will be ignored. Current value: lambda_l2=0.1\n",
      "[CV] END colsample_bytree=0.8, lambda_l2=0.1, learning_rate=0.05, max_depth=7, min_child_samples=20, n_estimators=200, num_leaves=40, scale_pos_weight=2.0, subsample=0.8; total time=   0.6s\n",
      "[LightGBM] [Warning] Unknown parameter: eval_metric\n",
      "[LightGBM] [Warning] Unknown parameter: use_label_encoder\n",
      "[LightGBM] [Warning] lambda_l2 is set=0.1, reg_lambda=0.0 will be ignored. Current value: lambda_l2=0.1\n",
      "[CV] END colsample_bytree=0.8, lambda_l2=0.1, learning_rate=0.05, max_depth=7, min_child_samples=20, n_estimators=200, num_leaves=40, scale_pos_weight=2.0, subsample=0.8; total time=   0.6s\n",
      "[LightGBM] [Warning] Unknown parameter: eval_metric\n",
      "[LightGBM] [Warning] Unknown parameter: use_label_encoder\n",
      "[LightGBM] [Warning] lambda_l2 is set=0.1, reg_lambda=0.0 will be ignored. Current value: lambda_l2=0.1\n",
      "[CV] END colsample_bytree=0.8, lambda_l2=0.1, learning_rate=0.05, max_depth=7, min_child_samples=20, n_estimators=200, num_leaves=40, scale_pos_weight=2.0, subsample=0.8; total time=   0.6s\n",
      "[LightGBM] [Warning] Unknown parameter: eval_metric\n",
      "[LightGBM] [Warning] Unknown parameter: use_label_encoder\n",
      "[LightGBM] [Warning] lambda_l2 is set=1.0, reg_lambda=0.0 will be ignored. Current value: lambda_l2=1.0\n",
      "[CV] END colsample_bytree=0.8, lambda_l2=1.0, learning_rate=0.05, max_depth=7, min_child_samples=20, n_estimators=200, num_leaves=40, scale_pos_weight=2.0, subsample=0.8; total time=   0.5s\n",
      "[LightGBM] [Warning] Unknown parameter: eval_metric\n",
      "[LightGBM] [Warning] Unknown parameter: use_label_encoder\n",
      "[LightGBM] [Warning] lambda_l2 is set=1.0, reg_lambda=0.0 will be ignored. Current value: lambda_l2=1.0\n",
      "[CV] END colsample_bytree=0.8, lambda_l2=1.0, learning_rate=0.05, max_depth=7, min_child_samples=20, n_estimators=200, num_leaves=40, scale_pos_weight=2.0, subsample=0.8; total time=   0.6s\n",
      "[LightGBM] [Warning] Unknown parameter: eval_metric\n",
      "[LightGBM] [Warning] Unknown parameter: use_label_encoder\n",
      "[LightGBM] [Warning] lambda_l2 is set=1.0, reg_lambda=0.0 will be ignored. Current value: lambda_l2=1.0\n",
      "[CV] END colsample_bytree=0.8, lambda_l2=1.0, learning_rate=0.05, max_depth=7, min_child_samples=20, n_estimators=200, num_leaves=40, scale_pos_weight=2.0, subsample=0.8; total time=   0.6s\n",
      "[LightGBM] [Warning] Unknown parameter: eval_metric\n",
      "[LightGBM] [Warning] Unknown parameter: use_label_encoder\n",
      "[LightGBM] [Warning] lambda_l2 is set=0.1, reg_lambda=0.0 will be ignored. Current value: lambda_l2=0.1\n",
      "[CV] END colsample_bytree=1.0, lambda_l2=0.1, learning_rate=0.1, max_depth=5, min_child_samples=20, n_estimators=150, num_leaves=20, scale_pos_weight=5.0, subsample=1.0; total time=   0.2s\n",
      "[LightGBM] [Warning] Unknown parameter: eval_metric\n",
      "[LightGBM] [Warning] Unknown parameter: use_label_encoder\n",
      "[LightGBM] [Warning] lambda_l2 is set=0.1, reg_lambda=0.0 will be ignored. Current value: lambda_l2=0.1\n",
      "[CV] END colsample_bytree=1.0, lambda_l2=0.1, learning_rate=0.1, max_depth=5, min_child_samples=20, n_estimators=150, num_leaves=20, scale_pos_weight=5.0, subsample=1.0; total time=   0.3s\n",
      "[LightGBM] [Warning] Unknown parameter: eval_metric\n",
      "[LightGBM] [Warning] Unknown parameter: use_label_encoder\n",
      "[LightGBM] [Warning] lambda_l2 is set=0.1, reg_lambda=0.0 will be ignored. Current value: lambda_l2=0.1\n",
      "[CV] END colsample_bytree=1.0, lambda_l2=0.1, learning_rate=0.1, max_depth=5, min_child_samples=20, n_estimators=150, num_leaves=20, scale_pos_weight=5.0, subsample=1.0; total time=   0.3s\n",
      "[LightGBM] [Warning] Unknown parameter: eval_metric\n",
      "[LightGBM] [Warning] Unknown parameter: use_label_encoder\n",
      "[LightGBM] [Warning] lambda_l2 is set=1.0, reg_lambda=0.0 will be ignored. Current value: lambda_l2=1.0\n",
      "[CV] END colsample_bytree=1.0, lambda_l2=1.0, learning_rate=0.1, max_depth=7, min_child_samples=30, n_estimators=200, num_leaves=20, scale_pos_weight=3.0, subsample=0.8; total time=   0.4s\n",
      "[LightGBM] [Warning] Unknown parameter: eval_metric\n",
      "[LightGBM] [Warning] Unknown parameter: use_label_encoder\n",
      "[LightGBM] [Warning] lambda_l2 is set=1.0, reg_lambda=0.0 will be ignored. Current value: lambda_l2=1.0\n",
      "[CV] END colsample_bytree=1.0, lambda_l2=1.0, learning_rate=0.1, max_depth=7, min_child_samples=30, n_estimators=200, num_leaves=20, scale_pos_weight=3.0, subsample=0.8; total time=   0.4s\n",
      "[LightGBM] [Warning] Unknown parameter: eval_metric\n",
      "[LightGBM] [Warning] Unknown parameter: use_label_encoder\n",
      "[LightGBM] [Warning] lambda_l2 is set=1.0, reg_lambda=0.0 will be ignored. Current value: lambda_l2=1.0\n"
     ]
    },
    {
     "name": "stdout",
     "output_type": "stream",
     "text": [
      "[CV] END colsample_bytree=1.0, lambda_l2=1.0, learning_rate=0.1, max_depth=7, min_child_samples=30, n_estimators=200, num_leaves=20, scale_pos_weight=3.0, subsample=0.8; total time=   0.4s\n",
      "[LightGBM] [Warning] Unknown parameter: eval_metric\n",
      "[LightGBM] [Warning] Unknown parameter: use_label_encoder\n",
      "[LightGBM] [Warning] lambda_l2 is set=1.0, reg_lambda=0.0 will be ignored. Current value: lambda_l2=1.0\n",
      "[CV] END colsample_bytree=1.0, lambda_l2=1.0, learning_rate=0.05, max_depth=7, min_child_samples=20, n_estimators=100, num_leaves=20, scale_pos_weight=2.0, subsample=1.0; total time=   0.3s\n",
      "[LightGBM] [Warning] Unknown parameter: eval_metric\n",
      "[LightGBM] [Warning] Unknown parameter: use_label_encoder\n",
      "[LightGBM] [Warning] lambda_l2 is set=1.0, reg_lambda=0.0 will be ignored. Current value: lambda_l2=1.0\n",
      "[CV] END colsample_bytree=1.0, lambda_l2=1.0, learning_rate=0.05, max_depth=7, min_child_samples=20, n_estimators=100, num_leaves=20, scale_pos_weight=2.0, subsample=1.0; total time=   0.2s\n",
      "[LightGBM] [Warning] Unknown parameter: eval_metric\n",
      "[LightGBM] [Warning] Unknown parameter: use_label_encoder\n",
      "[LightGBM] [Warning] lambda_l2 is set=1.0, reg_lambda=0.0 will be ignored. Current value: lambda_l2=1.0\n",
      "[CV] END colsample_bytree=1.0, lambda_l2=1.0, learning_rate=0.05, max_depth=7, min_child_samples=20, n_estimators=100, num_leaves=20, scale_pos_weight=2.0, subsample=1.0; total time=   0.3s\n",
      "[LightGBM] [Warning] Unknown parameter: eval_metric\n",
      "[LightGBM] [Warning] Unknown parameter: use_label_encoder\n",
      "[LightGBM] [Warning] lambda_l2 is set=1.0, reg_lambda=0.0 will be ignored. Current value: lambda_l2=1.0\n",
      "[CV] END colsample_bytree=1.0, lambda_l2=1.0, learning_rate=0.01, max_depth=5, min_child_samples=20, n_estimators=200, num_leaves=20, scale_pos_weight=5.0, subsample=1.0; total time=   0.4s\n",
      "[LightGBM] [Warning] Unknown parameter: eval_metric\n",
      "[LightGBM] [Warning] Unknown parameter: use_label_encoder\n",
      "[LightGBM] [Warning] lambda_l2 is set=1.0, reg_lambda=0.0 will be ignored. Current value: lambda_l2=1.0\n",
      "[CV] END colsample_bytree=1.0, lambda_l2=1.0, learning_rate=0.01, max_depth=5, min_child_samples=20, n_estimators=200, num_leaves=20, scale_pos_weight=5.0, subsample=1.0; total time=   0.4s\n",
      "[LightGBM] [Warning] Unknown parameter: eval_metric\n",
      "[LightGBM] [Warning] Unknown parameter: use_label_encoder\n",
      "[LightGBM] [Warning] lambda_l2 is set=1.0, reg_lambda=0.0 will be ignored. Current value: lambda_l2=1.0\n",
      "[CV] END colsample_bytree=1.0, lambda_l2=1.0, learning_rate=0.01, max_depth=5, min_child_samples=20, n_estimators=200, num_leaves=20, scale_pos_weight=5.0, subsample=1.0; total time=   0.4s\n",
      "[LightGBM] [Warning] Unknown parameter: eval_metric\n",
      "[LightGBM] [Warning] Unknown parameter: use_label_encoder\n",
      "[LightGBM] [Warning] lambda_l2 is set=0.1, reg_lambda=0.0 will be ignored. Current value: lambda_l2=0.1\n",
      "[CV] END colsample_bytree=0.8, lambda_l2=0.1, learning_rate=0.01, max_depth=7, min_child_samples=20, n_estimators=200, num_leaves=20, scale_pos_weight=2.0, subsample=0.8; total time=   0.4s\n",
      "[LightGBM] [Warning] Unknown parameter: eval_metric\n",
      "[LightGBM] [Warning] Unknown parameter: use_label_encoder\n",
      "[LightGBM] [Warning] lambda_l2 is set=0.1, reg_lambda=0.0 will be ignored. Current value: lambda_l2=0.1\n",
      "[CV] END colsample_bytree=0.8, lambda_l2=0.1, learning_rate=0.01, max_depth=7, min_child_samples=20, n_estimators=200, num_leaves=20, scale_pos_weight=2.0, subsample=0.8; total time=   0.4s\n",
      "[LightGBM] [Warning] Unknown parameter: eval_metric\n",
      "[LightGBM] [Warning] Unknown parameter: use_label_encoder\n",
      "[LightGBM] [Warning] lambda_l2 is set=0.1, reg_lambda=0.0 will be ignored. Current value: lambda_l2=0.1\n",
      "[CV] END colsample_bytree=0.8, lambda_l2=0.1, learning_rate=0.01, max_depth=7, min_child_samples=20, n_estimators=200, num_leaves=20, scale_pos_weight=2.0, subsample=0.8; total time=   0.5s\n",
      "[LightGBM] [Warning] Unknown parameter: eval_metric\n",
      "[LightGBM] [Warning] Unknown parameter: use_label_encoder\n",
      "[LightGBM] [Warning] lambda_l2 is set=1.0, reg_lambda=0.0 will be ignored. Current value: lambda_l2=1.0\n",
      "[CV] END colsample_bytree=0.8, lambda_l2=1.0, learning_rate=0.1, max_depth=7, min_child_samples=30, n_estimators=100, num_leaves=20, scale_pos_weight=3.0, subsample=1.0; total time=   0.2s\n",
      "[LightGBM] [Warning] Unknown parameter: eval_metric\n",
      "[LightGBM] [Warning] Unknown parameter: use_label_encoder\n",
      "[LightGBM] [Warning] lambda_l2 is set=1.0, reg_lambda=0.0 will be ignored. Current value: lambda_l2=1.0\n",
      "[CV] END colsample_bytree=0.8, lambda_l2=1.0, learning_rate=0.1, max_depth=7, min_child_samples=30, n_estimators=100, num_leaves=20, scale_pos_weight=3.0, subsample=1.0; total time=   0.2s\n",
      "[LightGBM] [Warning] Unknown parameter: eval_metric\n",
      "[LightGBM] [Warning] Unknown parameter: use_label_encoder\n",
      "[LightGBM] [Warning] lambda_l2 is set=1.0, reg_lambda=0.0 will be ignored. Current value: lambda_l2=1.0\n",
      "[CV] END colsample_bytree=0.8, lambda_l2=1.0, learning_rate=0.1, max_depth=7, min_child_samples=30, n_estimators=100, num_leaves=20, scale_pos_weight=3.0, subsample=1.0; total time=   0.3s\n",
      "[LightGBM] [Warning] Unknown parameter: eval_metric\n",
      "[LightGBM] [Warning] Unknown parameter: use_label_encoder\n",
      "[LightGBM] [Warning] lambda_l2 is set=1.0, reg_lambda=0.0 will be ignored. Current value: lambda_l2=1.0\n",
      "[CV] END colsample_bytree=1.0, lambda_l2=1.0, learning_rate=0.1, max_depth=7, min_child_samples=20, n_estimators=150, num_leaves=20, scale_pos_weight=3.0, subsample=0.8; total time=   0.3s\n",
      "[LightGBM] [Warning] Unknown parameter: eval_metric\n",
      "[LightGBM] [Warning] Unknown parameter: use_label_encoder\n",
      "[LightGBM] [Warning] lambda_l2 is set=1.0, reg_lambda=0.0 will be ignored. Current value: lambda_l2=1.0\n",
      "[CV] END colsample_bytree=1.0, lambda_l2=1.0, learning_rate=0.1, max_depth=7, min_child_samples=20, n_estimators=150, num_leaves=20, scale_pos_weight=3.0, subsample=0.8; total time=   0.3s\n",
      "[LightGBM] [Warning] Unknown parameter: eval_metric\n",
      "[LightGBM] [Warning] Unknown parameter: use_label_encoder\n",
      "[LightGBM] [Warning] lambda_l2 is set=1.0, reg_lambda=0.0 will be ignored. Current value: lambda_l2=1.0\n",
      "[CV] END colsample_bytree=1.0, lambda_l2=1.0, learning_rate=0.1, max_depth=7, min_child_samples=20, n_estimators=150, num_leaves=20, scale_pos_weight=3.0, subsample=0.8; total time=   0.3s\n",
      "[LightGBM] [Warning] Unknown parameter: eval_metric\n",
      "[LightGBM] [Warning] Unknown parameter: use_label_encoder\n",
      "[LightGBM] [Warning] lambda_l2 is set=0.5, reg_lambda=0.0 will be ignored. Current value: lambda_l2=0.5\n",
      "[CV] END colsample_bytree=0.8, lambda_l2=0.5, learning_rate=0.05, max_depth=5, min_child_samples=20, n_estimators=100, num_leaves=20, scale_pos_weight=1.0, subsample=1.0; total time=   0.2s\n",
      "[LightGBM] [Warning] Unknown parameter: eval_metric\n",
      "[LightGBM] [Warning] Unknown parameter: use_label_encoder\n",
      "[LightGBM] [Warning] lambda_l2 is set=0.5, reg_lambda=0.0 will be ignored. Current value: lambda_l2=0.5\n",
      "[CV] END colsample_bytree=0.8, lambda_l2=0.5, learning_rate=0.05, max_depth=5, min_child_samples=20, n_estimators=100, num_leaves=20, scale_pos_weight=1.0, subsample=1.0; total time=   0.2s\n",
      "[LightGBM] [Warning] Unknown parameter: eval_metric\n",
      "[LightGBM] [Warning] Unknown parameter: use_label_encoder\n",
      "[LightGBM] [Warning] lambda_l2 is set=0.5, reg_lambda=0.0 will be ignored. Current value: lambda_l2=0.5\n",
      "[CV] END colsample_bytree=0.8, lambda_l2=0.5, learning_rate=0.05, max_depth=5, min_child_samples=20, n_estimators=100, num_leaves=20, scale_pos_weight=1.0, subsample=1.0; total time=   0.2s\n",
      "[LightGBM] [Warning] Unknown parameter: eval_metric\n",
      "[LightGBM] [Warning] Unknown parameter: use_label_encoder\n",
      "[LightGBM] [Warning] lambda_l2 is set=1.0, reg_lambda=0.0 will be ignored. Current value: lambda_l2=1.0\n",
      "Best Parameters: {'subsample': 0.8, 'scale_pos_weight': 3.0, 'num_leaves': 20, 'n_estimators': 200, 'min_child_samples': 30, 'max_depth': 7, 'learning_rate': 0.1, 'lambda_l2': 1.0, 'colsample_bytree': 1.0}\n",
      "Best AUC-ROC from RandomizedSearchCV: 0.9239\n",
      "LightGBM AUC-ROC on Validation Set: 0.9311\n",
      "LightGBM Accuracy on Validation Set: 0.8589\n",
      "              precision    recall  f1-score   support\n",
      "\n",
      "           0       0.93      0.87      0.90       776\n",
      "           1       0.70      0.82      0.76       280\n",
      "\n",
      "    accuracy                           0.86      1056\n",
      "   macro avg       0.82      0.85      0.83      1056\n",
      "weighted avg       0.87      0.86      0.86      1056\n",
      "\n"
     ]
    }
   ],
   "source": [
    "# Define the parameter grid with more focus on scale_pos_weight\n",
    "param_dist = {\n",
    "    'learning_rate': [0.01, 0.05, 0.1],           # Learning rates\n",
    "    'n_estimators': [100, 150, 200],              # Number of trees\n",
    "    'max_depth': [5, 7],                          # Depth of each tree\n",
    "    'min_child_samples': [20, 30],                # Minimum child samples\n",
    "    'num_leaves': [20, 40],                       # Number of leaves\n",
    "    'colsample_bytree': [0.8, 1.0],               # Subsampling ratio of columns for each tree\n",
    "    'subsample': [0.8, 1.0],                      # Subsampling ratio of rows\n",
    "    'scale_pos_weight': [1.0, 2.0, 3.0, 5.0],     # Adjusted to fine-tune class imbalance\n",
    "    'lambda_l2': [0.1, 0.5, 1.0]                  # Regularization to prevent overfitting\n",
    "}\n",
    "\n",
    "# Initialize LightGBM with fixed seed for reproducibility\n",
    "lgbm = LGBMClassifier(\n",
    "    use_label_encoder=False, \n",
    "    eval_metric='logloss', \n",
    "    random_state=42\n",
    ")\n",
    "\n",
    "# Initialize RandomizedSearchCV for hyperparameter tuning\n",
    "random_search = RandomizedSearchCV(\n",
    "    lgbm,\n",
    "    param_distributions=param_dist,\n",
    "    scoring='roc_auc',   # Tuning based on AUC-ROC\n",
    "    n_iter=20,           # Increasing the number of parameter settings sampled\n",
    "    cv=3,                # 3-fold cross-validation\n",
    "    verbose=2,\n",
    "    random_state=42,\n",
    "    n_jobs=-1            # Using all available processors\n",
    ")\n",
    "\n",
    "# Fit the model on training data\n",
    "random_search.fit(X_train_scaled, y_train)\n",
    "\n",
    "# Get the best parameters\n",
    "print(f\"Best Parameters: {random_search.best_params_}\")\n",
    "print(f\"Best AUC-ROC from RandomizedSearchCV: {random_search.best_score_:.4f}\")\n",
    "\n",
    "# Predict and evaluate on the validation set\n",
    "y_val_pred_proba = random_search.best_estimator_.predict_proba(X_val_scaled)[:, 1]\n",
    "y_val_pred = random_search.best_estimator_.predict(X_val_scaled)\n",
    "\n",
    "# Evaluate performance on validation set using AUC-ROC and accuracy\n",
    "auc_roc_lgbm_val = roc_auc_score(y_val, y_val_pred_proba)\n",
    "accuracy_lgbm_val = accuracy_score(y_val, y_val_pred)\n",
    "\n",
    "# Print the results on validation set\n",
    "print(f\"LightGBM AUC-ROC on Validation Set: {auc_roc_lgbm_val:.4f}\")\n",
    "print(f\"LightGBM Accuracy on Validation Set: {accuracy_lgbm_val:.4f}\")\n",
    "\n",
    "# Print classification report for detailed metrics\n",
    "print(classification_report(y_val, y_val_pred))"
   ]
  },
  {
   "cell_type": "markdown",
   "metadata": {},
   "source": [
    "#### Summary of LightGBM:\n",
    "\n",
    "**Best Parameters**: \n",
    "  - Subsample: 0.8\n",
    "  - Scale Pos Weight: 3.0 (adjusted to handle class imbalance)\n",
    "  - Num Leaves: 20\n",
    "  - N Estimators: 200\n",
    "  - Min Child Samples: 30\n",
    "  - Max Depth: 7\n",
    "  - Learning Rate: 0.1\n",
    "  - Lambda L2: 1.0 (regularization to prevent overfitting)\n",
    "  - Colsample by Tree: 1.0\n",
    "\n",
    "**Best AUC-ROC from RandomizedSearchCV**: 0.9239\n",
    "\n",
    "**Validation Set Performance**:\n",
    "  - **AUC-ROC**: 0.9311 – This indicates that the model is excellent at distinguishing between churned and non-churned customers.\n",
    "  - **Accuracy**: 0.8589 – The model correctly predicted churn status in nearly 86% of cases.\n",
    "\n",
    "**Classification Metrics**:\n",
    "  - **Precision**:\n",
    "    - Non-Churned: 0.93\n",
    "    - Churned: 0.70\n",
    "  - **Recall**:\n",
    "    - Non-Churned: 0.87\n",
    "    - Churned: 0.82\n",
    "  - **F1-Score**:\n",
    "    - Non-Churned: 0.90\n",
    "    - Churned: 0.76\n",
    "\n",
    "#### Key Insights:\n",
    "  The LightGBM model performed very well with an AUC-ROC of 0.9311, showing strong predictive capability. Both precision and recall are reasonably high for both classes, though there is some room for improvement in identifying churners, as the precision for the churn class is 0.70. However, overall performance is well-balanced, making this a strong model."
   ]
  },
  {
   "cell_type": "markdown",
   "metadata": {},
   "source": [
    "## Choose & Test the Best Model"
   ]
  },
  {
   "cell_type": "markdown",
   "metadata": {},
   "source": [
    "I am selecting **LightGBM** as the final model for the following reasons:\n",
    "\n",
    "- **AUC-ROC Performance**: LightGBM achieved an impressive **AUC-ROC of 0.9311** on the validation set, demonstrating strong ability to distinguish between churned and non-churned customers.\n",
    "  \n",
    "- **Accuracy**: The model achieved a solid **accuracy of 85.89%**, reflecting its overall predictive power and reliability in forecasting churn.\n",
    "  \n",
    "- **Balanced Precision and Recall**: LightGBM shows a good balance between **precision** and **recall**, especially for the minority class (churners), which is crucial for handling class imbalance.\n",
    "  \n",
    "- **Efficiency**: LightGBM is known for its efficiency in handling large datasets and faster training times compared to other boosting methods, making it ideal for scalable production.\n",
    "\n",
    "Given these factors, **LightGBM** stands out as the best model to move forward with for final deployment in this churn prediction task."
   ]
  },
  {
   "cell_type": "markdown",
   "metadata": {},
   "source": [
    "### Evaluate the XGBoost Model on the Test Set"
   ]
  },
  {
   "cell_type": "code",
   "execution_count": 22,
   "metadata": {},
   "outputs": [
    {
     "name": "stdout",
     "output_type": "stream",
     "text": [
      "LightGBM AUC-ROC on Test Set: 0.8306\n",
      "LightGBM Accuracy on Test Set: 0.4541\n",
      "              precision    recall  f1-score   support\n",
      "\n",
      "           0       0.97      0.26      0.42       776\n",
      "           1       0.33      0.98      0.49       281\n",
      "\n",
      "    accuracy                           0.45      1057\n",
      "   macro avg       0.65      0.62      0.45      1057\n",
      "weighted avg       0.80      0.45      0.43      1057\n",
      "\n"
     ]
    },
    {
     "name": "stderr",
     "output_type": "stream",
     "text": [
      "/tmp/ipykernel_748/1768786471.py:2: SettingWithCopyWarning: \n",
      "A value is trying to be set on a copy of a slice from a DataFrame.\n",
      "Try using .loc[row_indexer,col_indexer] = value instead\n",
      "\n",
      "See the caveats in the documentation: https://pandas.pydata.org/pandas-docs/stable/user_guide/indexing.html#returning-a-view-versus-a-copy\n",
      "  X_test['BeginDate'] = pd.to_datetime(X_test['BeginDate'])\n",
      "/opt/conda/envs/python3/lib/python3.9/site-packages/pandas/core/indexing.py:1676: SettingWithCopyWarning: \n",
      "A value is trying to be set on a copy of a slice from a DataFrame.\n",
      "Try using .loc[row_indexer,col_indexer] = value instead\n",
      "\n",
      "See the caveats in the documentation: https://pandas.pydata.org/pandas-docs/stable/user_guide/indexing.html#returning-a-view-versus-a-copy\n",
      "  self._setitem_single_column(ilocs[0], value, pi)\n"
     ]
    }
   ],
   "source": [
    "# Preprocess the test set by handling the 'BeginDate' column\n",
    "X_test['BeginDate'] = pd.to_datetime(X_test['BeginDate'])\n",
    "test_begin_days = (X_test['BeginDate'] - reference_date).dt.days\n",
    "X_test.loc[:, 'BeginDate'] = test_begin_days\n",
    "\n",
    "# Standardize the test set\n",
    "X_test_scaled = scaler.transform(X_test)\n",
    "\n",
    "# Predict on the test set using the best estimator from RandomizedSearchCV\n",
    "y_test_pred_proba = random_search.best_estimator_.predict_proba(X_test_scaled)[:, 1]\n",
    "y_test_pred = random_search.best_estimator_.predict(X_test_scaled)\n",
    "\n",
    "# Evaluate performance on the test set using AUC-ROC and accuracy\n",
    "auc_roc_lgbm_test = roc_auc_score(y_test, y_test_pred_proba)\n",
    "accuracy_lgbm_test = accuracy_score(y_test, y_test_pred)\n",
    "\n",
    "# Print the results for test set\n",
    "print(f\"LightGBM AUC-ROC on Test Set: {auc_roc_lgbm_test:.4f}\")\n",
    "print(f\"LightGBM Accuracy on Test Set: {accuracy_lgbm_test:.4f}\")\n",
    "\n",
    "# Print classification report for detailed metrics on test set\n",
    "print(classification_report(y_test, y_test_pred))"
   ]
  },
  {
   "cell_type": "markdown",
   "metadata": {},
   "source": [
    "#### Summary of LightGBM  Model on the Test Set\n",
    "\n",
    "The **LightGBM** model was evaluated on the test set, and the following results were obtained:\n",
    "\n",
    "- **AUC-ROC**: The model achieved an **AUC-ROC of 0.8306**, indicating decent discriminative ability between churned and non-churned customers.\n",
    "- **Accuracy**: The overall **accuracy on the test set** was **45.41%**.\n",
    "  \n",
    "### Precision, Recall, and F1-Score:\n",
    "- **For Class 0 (Non-Churners)**:\n",
    "  - **Precision**: 0.97\n",
    "  - **Recall**: 0.26\n",
    "  - **F1-Score**: 0.42\n",
    "\n",
    "- **For Class 1 (Churners)**:\n",
    "  - **Precision**: 0.33\n",
    "  - **Recall**: 0.98\n",
    "  - **F1-Score**: 0.49\n",
    "\n",
    "#### Summary:\n",
    "While the model maintains strong recall for churners, capturing most of the churn cases, the overall accuracy and precision for non-churners are suboptimal. This suggests that although the model is effective at identifying churners, it struggles with correctly identifying non-churners, leading to a high number of false positives. Fine-tuning the model further or exploring alternative strategies could help address this imbalance."
   ]
  },
  {
   "cell_type": "markdown",
   "metadata": {},
   "source": [
    "# Solution Report:"
   ]
  },
  {
   "cell_type": "markdown",
   "metadata": {},
   "source": [
    "**1. Steps Performed and Skipped**\n",
    "\n",
    "- **Steps Performed:**\n",
    "  - **Data Preprocessing:** I handled missing values, converted relevant features like `BeginDate` into numeric formats, and dropped irrelevant columns to avoid data leakage. Additionally, I normalized the numerical features for better model performance.\n",
    "  - **Feature Engineering:** I analyzed feature importance and created visualizations showing the distribution of key features such as `TotalCharges`, `BeginDate`, and `MonthlyCharges`. These distributions helped to understand the relationship between features and customer churn.\n",
    "  - **Model Training and Tuning:** Multiple models, including Logistic Regression, Random Forest, and LightGBM, were trained and tuned using RandomizedSearchCV. Hyperparameter tuning was crucial to optimizing the performance of each model, with a particular focus on balancing the class imbalance using `scale_pos_weight`.\n",
    "  - **Feature Importance Analysis:** I visualized the feature importance using LightGBM, identifying `TotalCharges`, `BeginDate`, and `MonthlyCharges` as the most influential features for predicting churn.\n",
    "\n",
    "- **Steps Skipped:**\n",
    "  - **Optional Advanced Feature Creation:** I chose not to create additional interaction features or derived variables from the existing ones, as the existing features provided a solid performance, and the focus was on model tuning.\n",
    "  - **Complex Ensemble Models:** I did not employ stacking or blending methods since the performance of the tuned LightGBM model was satisfactory for the project requirements.\n",
    "\n",
    "**2. Difficulties Encountered and Solutions**\n",
    "\n",
    "- **Class Imbalance:** One of the main challenges was dealing with the class imbalance, as the number of churners (target = 1) was significantly lower than non-churners. To address this, I tuned the `scale_pos_weight` parameter in LightGBM, which helped in improving the recall for churned customers.\n",
    "  \n",
    "- **Computational Intensity:** During hyperparameter tuning, the large number of combinations for parameter search led to longer computation times. We mitigated this by limiting the search space and using `RandomizedSearchCV` instead of `GridSearchCV` to reduce the number of parameter combinations.\n",
    "\n",
    "- **Overfitting:** I encountered slight overfitting during initial model training. This was mitigated by introducing regularization parameters like `lambda_l2` in LightGBM and using subsampling techniques (`colsample_bytree` and `subsample`) to prevent overfitting.\n",
    "\n",
    "**3. Key Steps in Solving the Task**\n",
    "\n",
    "- **Data Preprocessing and Feature Engineering:** Handling missing values, encoding categorical variables, and normalizing numerical variables were essential to ensuring model performance.\n",
    "- **Hyperparameter Tuning:** Tuning parameters like `n_estimators`, `max_depth`, `scale_pos_weight`, and `min_child_samples` for LightGBM played a critical role in boosting model performance, particularly in handling the class imbalance.\n",
    "- **Feature Importance and Business Insights:** Understanding which features were most influential in predicting churn (e.g., `TotalCharges`, `BeginDate`, `MonthlyCharges`) helped in customer segmentation and actionable insights for business strategies.\n",
    "\n",
    "**4. Final Model and Quality Score**\n",
    "\n",
    "- **Final Model:** LightGBM was selected as the final model due to its balance between precision and recall for both churned and non-churned customers. It outperformed other models like Random Forest and Logistic Regression in terms of AUC-ROC and accuracy.\n",
    "  \n",
    "- **Quality Score:**\n",
    "  - **AUC-ROC on Validation Set:** 0.9311\n",
    "  - **Accuracy on Validation Set:** 0.8589\n",
    "  - **AUC-ROC on Test Set:** 0.8306\n",
    "  - **Accuracy on Test Set:** 0.4541\n",
    "  \n",
    "- **Key Features:** The most important features identified were `TotalCharges`, `BeginDate`, and `MonthlyCharges`."
   ]
  }
 ],
 "metadata": {
  "ExecuteTimeLog": [
   {
    "duration": 2610,
    "start_time": "2024-10-03T17:12:50.397Z"
   },
   {
    "duration": 102,
    "start_time": "2024-10-03T17:12:58.428Z"
   },
   {
    "duration": 3,
    "start_time": "2024-10-03T17:14:11.803Z"
   },
   {
    "duration": 46,
    "start_time": "2024-10-03T17:14:27.252Z"
   },
   {
    "duration": 24,
    "start_time": "2024-10-03T17:15:01.614Z"
   },
   {
    "duration": 12,
    "start_time": "2024-10-03T17:15:26.476Z"
   },
   {
    "duration": 26,
    "start_time": "2024-10-03T17:15:44.250Z"
   },
   {
    "duration": 18,
    "start_time": "2024-10-03T17:16:46.672Z"
   },
   {
    "duration": 586,
    "start_time": "2024-10-03T17:17:10.853Z"
   },
   {
    "duration": 311,
    "start_time": "2024-10-03T17:17:43.553Z"
   },
   {
    "duration": 792,
    "start_time": "2024-10-03T17:18:46.716Z"
   },
   {
    "duration": 128,
    "start_time": "2024-10-03T17:20:01.187Z"
   },
   {
    "duration": 36,
    "start_time": "2024-10-03T18:06:44.761Z"
   },
   {
    "duration": 967,
    "start_time": "2024-10-03T18:12:05.719Z"
   },
   {
    "duration": 79,
    "start_time": "2024-10-03T18:12:06.688Z"
   },
   {
    "duration": 35,
    "start_time": "2024-10-03T18:12:06.769Z"
   },
   {
    "duration": 15,
    "start_time": "2024-10-03T18:12:06.824Z"
   },
   {
    "duration": 12,
    "start_time": "2024-10-03T18:12:06.841Z"
   },
   {
    "duration": 26,
    "start_time": "2024-10-03T18:12:06.854Z"
   },
   {
    "duration": 46,
    "start_time": "2024-10-03T18:12:06.882Z"
   },
   {
    "duration": 618,
    "start_time": "2024-10-03T18:12:06.929Z"
   },
   {
    "duration": 242,
    "start_time": "2024-10-03T18:12:07.548Z"
   },
   {
    "duration": 906,
    "start_time": "2024-10-03T18:12:07.792Z"
   },
   {
    "duration": 128,
    "start_time": "2024-10-03T18:12:08.700Z"
   },
   {
    "duration": 160,
    "start_time": "2024-10-03T21:56:43.574Z"
   },
   {
    "duration": 2680,
    "start_time": "2024-10-03T21:56:52.371Z"
   },
   {
    "duration": 113,
    "start_time": "2024-10-03T21:56:55.053Z"
   },
   {
    "duration": 40,
    "start_time": "2024-10-03T21:56:55.168Z"
   },
   {
    "duration": 16,
    "start_time": "2024-10-03T21:56:55.211Z"
   },
   {
    "duration": 12,
    "start_time": "2024-10-03T21:56:55.228Z"
   },
   {
    "duration": 25,
    "start_time": "2024-10-03T21:56:55.241Z"
   },
   {
    "duration": 45,
    "start_time": "2024-10-03T21:56:55.267Z"
   },
   {
    "duration": 604,
    "start_time": "2024-10-03T21:56:55.314Z"
   },
   {
    "duration": 293,
    "start_time": "2024-10-03T21:56:55.919Z"
   },
   {
    "duration": 849,
    "start_time": "2024-10-03T21:56:56.215Z"
   },
   {
    "duration": 128,
    "start_time": "2024-10-03T21:56:57.065Z"
   },
   {
    "duration": 615,
    "start_time": "2024-10-03T21:57:48.529Z"
   },
   {
    "duration": 978,
    "start_time": "2024-10-03T21:57:57.754Z"
   },
   {
    "duration": 77,
    "start_time": "2024-10-03T21:57:58.734Z"
   },
   {
    "duration": 36,
    "start_time": "2024-10-03T21:57:58.813Z"
   },
   {
    "duration": 16,
    "start_time": "2024-10-03T21:57:58.852Z"
   },
   {
    "duration": 36,
    "start_time": "2024-10-03T21:57:58.869Z"
   },
   {
    "duration": 28,
    "start_time": "2024-10-03T21:57:58.907Z"
   },
   {
    "duration": 17,
    "start_time": "2024-10-03T21:57:58.937Z"
   },
   {
    "duration": 570,
    "start_time": "2024-10-03T21:57:58.956Z"
   },
   {
    "duration": 243,
    "start_time": "2024-10-03T21:57:59.528Z"
   },
   {
    "duration": 894,
    "start_time": "2024-10-03T21:57:59.774Z"
   },
   {
    "duration": 134,
    "start_time": "2024-10-03T21:58:00.670Z"
   },
   {
    "duration": 9,
    "start_time": "2024-10-03T22:13:10.304Z"
   },
   {
    "duration": 14,
    "start_time": "2024-10-03T22:20:36.743Z"
   },
   {
    "duration": 1002,
    "start_time": "2024-10-03T22:21:48.277Z"
   },
   {
    "duration": 76,
    "start_time": "2024-10-03T22:21:49.281Z"
   },
   {
    "duration": 48,
    "start_time": "2024-10-03T22:21:49.359Z"
   },
   {
    "duration": 16,
    "start_time": "2024-10-03T22:21:49.409Z"
   },
   {
    "duration": 11,
    "start_time": "2024-10-03T22:21:49.429Z"
   },
   {
    "duration": 24,
    "start_time": "2024-10-03T22:21:49.442Z"
   },
   {
    "duration": 7,
    "start_time": "2024-10-03T22:21:49.467Z"
   },
   {
    "duration": 18,
    "start_time": "2024-10-03T22:21:49.505Z"
   },
   {
    "duration": 11,
    "start_time": "2024-10-03T22:21:49.524Z"
   },
   {
    "duration": 585,
    "start_time": "2024-10-03T22:21:49.536Z"
   },
   {
    "duration": 241,
    "start_time": "2024-10-03T22:21:50.125Z"
   },
   {
    "duration": 904,
    "start_time": "2024-10-03T22:21:50.368Z"
   },
   {
    "duration": 131,
    "start_time": "2024-10-03T22:21:51.274Z"
   },
   {
    "duration": 162,
    "start_time": "2024-10-03T23:51:16.236Z"
   },
   {
    "duration": 2677,
    "start_time": "2024-10-03T23:51:24.055Z"
   },
   {
    "duration": 110,
    "start_time": "2024-10-03T23:51:26.734Z"
   },
   {
    "duration": 37,
    "start_time": "2024-10-03T23:51:26.846Z"
   },
   {
    "duration": 16,
    "start_time": "2024-10-03T23:51:26.886Z"
   },
   {
    "duration": 12,
    "start_time": "2024-10-03T23:51:26.924Z"
   },
   {
    "duration": 25,
    "start_time": "2024-10-03T23:51:26.938Z"
   },
   {
    "duration": 7,
    "start_time": "2024-10-03T23:51:26.964Z"
   },
   {
    "duration": 16,
    "start_time": "2024-10-03T23:51:26.972Z"
   },
   {
    "duration": 38,
    "start_time": "2024-10-03T23:51:26.990Z"
   },
   {
    "duration": 614,
    "start_time": "2024-10-03T23:51:27.030Z"
   },
   {
    "duration": 257,
    "start_time": "2024-10-03T23:51:27.646Z"
   },
   {
    "duration": 827,
    "start_time": "2024-10-03T23:51:27.905Z"
   },
   {
    "duration": 129,
    "start_time": "2024-10-03T23:51:28.734Z"
   },
   {
    "duration": 79,
    "start_time": "2024-10-03T23:53:49.257Z"
   },
   {
    "duration": 3,
    "start_time": "2024-10-04T00:06:37.120Z"
   },
   {
    "duration": 14,
    "start_time": "2024-10-04T00:07:11.985Z"
   },
   {
    "duration": 11,
    "start_time": "2024-10-04T00:30:07.872Z"
   },
   {
    "duration": 632,
    "start_time": "2024-10-04T00:32:59.491Z"
   },
   {
    "duration": 993,
    "start_time": "2024-10-04T00:33:17.514Z"
   },
   {
    "duration": 75,
    "start_time": "2024-10-04T00:33:18.509Z"
   },
   {
    "duration": 49,
    "start_time": "2024-10-04T00:33:18.585Z"
   },
   {
    "duration": 15,
    "start_time": "2024-10-04T00:33:18.636Z"
   },
   {
    "duration": 11,
    "start_time": "2024-10-04T00:33:18.653Z"
   },
   {
    "duration": 25,
    "start_time": "2024-10-04T00:33:18.666Z"
   },
   {
    "duration": 33,
    "start_time": "2024-10-04T00:33:18.692Z"
   },
   {
    "duration": 18,
    "start_time": "2024-10-04T00:33:18.727Z"
   },
   {
    "duration": 8,
    "start_time": "2024-10-04T00:33:18.747Z"
   },
   {
    "duration": 581,
    "start_time": "2024-10-04T00:33:18.757Z"
   },
   {
    "duration": 239,
    "start_time": "2024-10-04T00:33:19.340Z"
   },
   {
    "duration": 898,
    "start_time": "2024-10-04T00:33:19.581Z"
   },
   {
    "duration": 127,
    "start_time": "2024-10-04T00:33:20.481Z"
   },
   {
    "duration": 20,
    "start_time": "2024-10-04T00:33:20.609Z"
   },
   {
    "duration": 11,
    "start_time": "2024-10-04T00:33:20.630Z"
   },
   {
    "duration": 160,
    "start_time": "2024-10-04T00:43:58.784Z"
   },
   {
    "duration": 37,
    "start_time": "2024-10-04T00:46:27.636Z"
   },
   {
    "duration": 4,
    "start_time": "2024-10-04T00:49:47.911Z"
   },
   {
    "duration": 934,
    "start_time": "2024-10-04T01:07:20.001Z"
   },
   {
    "duration": 1011,
    "start_time": "2024-10-04T01:07:50.496Z"
   },
   {
    "duration": 107,
    "start_time": "2024-10-04T01:07:51.510Z"
   },
   {
    "duration": 57,
    "start_time": "2024-10-04T01:07:51.619Z"
   },
   {
    "duration": 16,
    "start_time": "2024-10-04T01:07:51.677Z"
   },
   {
    "duration": 28,
    "start_time": "2024-10-04T01:07:51.696Z"
   },
   {
    "duration": 43,
    "start_time": "2024-10-04T01:07:51.726Z"
   },
   {
    "duration": 8,
    "start_time": "2024-10-04T01:07:51.771Z"
   },
   {
    "duration": 17,
    "start_time": "2024-10-04T01:07:51.780Z"
   },
   {
    "duration": 34,
    "start_time": "2024-10-04T01:07:51.798Z"
   },
   {
    "duration": 644,
    "start_time": "2024-10-04T01:07:51.834Z"
   },
   {
    "duration": 225,
    "start_time": "2024-10-04T01:07:52.480Z"
   },
   {
    "duration": 938,
    "start_time": "2024-10-04T01:07:52.706Z"
   },
   {
    "duration": 137,
    "start_time": "2024-10-04T01:07:53.646Z"
   },
   {
    "duration": 17,
    "start_time": "2024-10-04T01:07:53.786Z"
   },
   {
    "duration": 987,
    "start_time": "2024-10-04T01:07:53.805Z"
   },
   {
    "duration": 0,
    "start_time": "2024-10-04T01:07:54.794Z"
   },
   {
    "duration": 0,
    "start_time": "2024-10-04T01:07:54.795Z"
   },
   {
    "duration": 87,
    "start_time": "2024-10-04T01:16:20.934Z"
   },
   {
    "duration": 976,
    "start_time": "2024-10-04T01:16:28.505Z"
   },
   {
    "duration": 76,
    "start_time": "2024-10-04T01:16:29.484Z"
   },
   {
    "duration": 36,
    "start_time": "2024-10-04T01:16:29.562Z"
   },
   {
    "duration": 34,
    "start_time": "2024-10-04T01:16:29.600Z"
   },
   {
    "duration": 12,
    "start_time": "2024-10-04T01:16:29.636Z"
   },
   {
    "duration": 25,
    "start_time": "2024-10-04T01:16:29.650Z"
   },
   {
    "duration": 7,
    "start_time": "2024-10-04T01:16:29.677Z"
   },
   {
    "duration": 46,
    "start_time": "2024-10-04T01:16:29.685Z"
   },
   {
    "duration": 8,
    "start_time": "2024-10-04T01:16:29.732Z"
   },
   {
    "duration": 601,
    "start_time": "2024-10-04T01:16:29.743Z"
   },
   {
    "duration": 238,
    "start_time": "2024-10-04T01:16:30.346Z"
   },
   {
    "duration": 904,
    "start_time": "2024-10-04T01:16:30.586Z"
   },
   {
    "duration": 132,
    "start_time": "2024-10-04T01:16:31.492Z"
   },
   {
    "duration": 30,
    "start_time": "2024-10-04T01:16:31.626Z"
   },
   {
    "duration": 917,
    "start_time": "2024-10-04T01:16:31.658Z"
   },
   {
    "duration": 0,
    "start_time": "2024-10-04T01:16:32.577Z"
   },
   {
    "duration": 0,
    "start_time": "2024-10-04T01:16:32.578Z"
   },
   {
    "duration": 9,
    "start_time": "2024-10-04T01:18:50.658Z"
   },
   {
    "duration": 191,
    "start_time": "2024-10-04T01:21:24.599Z"
   },
   {
    "duration": 957,
    "start_time": "2024-10-04T01:28:59.698Z"
   },
   {
    "duration": 93,
    "start_time": "2024-10-04T01:29:00.658Z"
   },
   {
    "duration": 36,
    "start_time": "2024-10-04T01:29:00.754Z"
   },
   {
    "duration": 39,
    "start_time": "2024-10-04T01:29:00.792Z"
   },
   {
    "duration": 12,
    "start_time": "2024-10-04T01:29:00.832Z"
   },
   {
    "duration": 24,
    "start_time": "2024-10-04T01:29:00.846Z"
   },
   {
    "duration": 6,
    "start_time": "2024-10-04T01:29:00.871Z"
   },
   {
    "duration": 15,
    "start_time": "2024-10-04T01:29:00.879Z"
   },
   {
    "duration": 7,
    "start_time": "2024-10-04T01:29:00.924Z"
   },
   {
    "duration": 611,
    "start_time": "2024-10-04T01:29:00.933Z"
   },
   {
    "duration": 240,
    "start_time": "2024-10-04T01:29:01.546Z"
   },
   {
    "duration": 900,
    "start_time": "2024-10-04T01:29:01.788Z"
   },
   {
    "duration": 132,
    "start_time": "2024-10-04T01:29:02.690Z"
   },
   {
    "duration": 30,
    "start_time": "2024-10-04T01:29:02.824Z"
   },
   {
    "duration": 9,
    "start_time": "2024-10-04T01:29:02.855Z"
   },
   {
    "duration": 420,
    "start_time": "2024-10-04T01:29:02.866Z"
   },
   {
    "duration": 0,
    "start_time": "2024-10-04T01:29:03.288Z"
   },
   {
    "duration": 489,
    "start_time": "2024-10-04T01:33:38.418Z"
   },
   {
    "duration": 967,
    "start_time": "2024-10-04T01:33:48.501Z"
   },
   {
    "duration": 88,
    "start_time": "2024-10-04T01:33:49.470Z"
   },
   {
    "duration": 36,
    "start_time": "2024-10-04T01:33:49.560Z"
   },
   {
    "duration": 36,
    "start_time": "2024-10-04T01:33:49.598Z"
   },
   {
    "duration": 15,
    "start_time": "2024-10-04T01:33:49.636Z"
   },
   {
    "duration": 26,
    "start_time": "2024-10-04T01:33:49.653Z"
   },
   {
    "duration": 7,
    "start_time": "2024-10-04T01:33:49.682Z"
   },
   {
    "duration": 55,
    "start_time": "2024-10-04T01:33:49.690Z"
   },
   {
    "duration": 8,
    "start_time": "2024-10-04T01:33:49.748Z"
   },
   {
    "duration": 600,
    "start_time": "2024-10-04T01:33:49.757Z"
   },
   {
    "duration": 243,
    "start_time": "2024-10-04T01:33:50.359Z"
   },
   {
    "duration": 904,
    "start_time": "2024-10-04T01:33:50.604Z"
   },
   {
    "duration": 131,
    "start_time": "2024-10-04T01:33:51.510Z"
   },
   {
    "duration": 32,
    "start_time": "2024-10-04T01:33:51.643Z"
   },
   {
    "duration": 9,
    "start_time": "2024-10-04T01:33:51.677Z"
   },
   {
    "duration": 468,
    "start_time": "2024-10-04T01:33:51.687Z"
   },
   {
    "duration": 0,
    "start_time": "2024-10-04T01:33:52.157Z"
   },
   {
    "duration": 10,
    "start_time": "2024-10-04T01:34:34.073Z"
   },
   {
    "duration": 3,
    "start_time": "2024-10-04T01:37:31.410Z"
   },
   {
    "duration": 215,
    "start_time": "2024-10-04T01:41:40.912Z"
   },
   {
    "duration": 970,
    "start_time": "2024-10-04T01:41:48.323Z"
   },
   {
    "duration": 80,
    "start_time": "2024-10-04T01:41:49.295Z"
   },
   {
    "duration": 50,
    "start_time": "2024-10-04T01:41:49.377Z"
   },
   {
    "duration": 15,
    "start_time": "2024-10-04T01:41:49.429Z"
   },
   {
    "duration": 12,
    "start_time": "2024-10-04T01:41:49.446Z"
   },
   {
    "duration": 25,
    "start_time": "2024-10-04T01:41:49.459Z"
   },
   {
    "duration": 6,
    "start_time": "2024-10-04T01:41:49.486Z"
   },
   {
    "duration": 45,
    "start_time": "2024-10-04T01:41:49.494Z"
   },
   {
    "duration": 7,
    "start_time": "2024-10-04T01:41:49.541Z"
   },
   {
    "duration": 588,
    "start_time": "2024-10-04T01:41:49.551Z"
   },
   {
    "duration": 247,
    "start_time": "2024-10-04T01:41:50.141Z"
   },
   {
    "duration": 905,
    "start_time": "2024-10-04T01:41:50.390Z"
   },
   {
    "duration": 132,
    "start_time": "2024-10-04T01:41:51.298Z"
   },
   {
    "duration": 30,
    "start_time": "2024-10-04T01:41:51.432Z"
   },
   {
    "duration": 10,
    "start_time": "2024-10-04T01:41:51.464Z"
   },
   {
    "duration": 521,
    "start_time": "2024-10-04T01:41:51.476Z"
   },
   {
    "duration": 0,
    "start_time": "2024-10-04T01:41:51.999Z"
   },
   {
    "duration": 169,
    "start_time": "2024-10-04T02:10:04.063Z"
   },
   {
    "duration": 2865,
    "start_time": "2024-10-04T02:10:12.281Z"
   },
   {
    "duration": 123,
    "start_time": "2024-10-04T02:10:15.148Z"
   },
   {
    "duration": 59,
    "start_time": "2024-10-04T02:10:15.273Z"
   },
   {
    "duration": 18,
    "start_time": "2024-10-04T02:10:15.335Z"
   },
   {
    "duration": 13,
    "start_time": "2024-10-04T02:10:15.355Z"
   },
   {
    "duration": 29,
    "start_time": "2024-10-04T02:10:15.370Z"
   },
   {
    "duration": 8,
    "start_time": "2024-10-04T02:10:15.431Z"
   },
   {
    "duration": 18,
    "start_time": "2024-10-04T02:10:15.441Z"
   },
   {
    "duration": 8,
    "start_time": "2024-10-04T02:10:15.461Z"
   },
   {
    "duration": 680,
    "start_time": "2024-10-04T02:10:15.472Z"
   },
   {
    "duration": 253,
    "start_time": "2024-10-04T02:10:16.154Z"
   },
   {
    "duration": 875,
    "start_time": "2024-10-04T02:10:16.409Z"
   },
   {
    "duration": 135,
    "start_time": "2024-10-04T02:10:17.285Z"
   },
   {
    "duration": 33,
    "start_time": "2024-10-04T02:10:17.421Z"
   },
   {
    "duration": 10,
    "start_time": "2024-10-04T02:10:17.456Z"
   },
   {
    "duration": 569,
    "start_time": "2024-10-04T02:10:17.467Z"
   },
   {
    "duration": 0,
    "start_time": "2024-10-04T02:10:18.038Z"
   },
   {
    "duration": 3,
    "start_time": "2024-10-04T02:14:10.286Z"
   },
   {
    "duration": 153,
    "start_time": "2024-10-04T02:14:23.181Z"
   },
   {
    "duration": 185,
    "start_time": "2024-10-04T02:14:53.343Z"
   },
   {
    "duration": 92,
    "start_time": "2024-10-04T02:22:19.195Z"
   },
   {
    "duration": 1115,
    "start_time": "2024-10-04T02:22:37.638Z"
   },
   {
    "duration": 82,
    "start_time": "2024-10-04T02:22:38.756Z"
   },
   {
    "duration": 38,
    "start_time": "2024-10-04T02:22:38.840Z"
   },
   {
    "duration": 16,
    "start_time": "2024-10-04T02:22:38.881Z"
   },
   {
    "duration": 37,
    "start_time": "2024-10-04T02:22:38.898Z"
   },
   {
    "duration": 27,
    "start_time": "2024-10-04T02:22:38.937Z"
   },
   {
    "duration": 6,
    "start_time": "2024-10-04T02:22:38.966Z"
   },
   {
    "duration": 18,
    "start_time": "2024-10-04T02:22:38.974Z"
   },
   {
    "duration": 41,
    "start_time": "2024-10-04T02:22:38.994Z"
   },
   {
    "duration": 624,
    "start_time": "2024-10-04T02:22:39.039Z"
   },
   {
    "duration": 229,
    "start_time": "2024-10-04T02:22:39.665Z"
   },
   {
    "duration": 966,
    "start_time": "2024-10-04T02:22:39.896Z"
   },
   {
    "duration": 134,
    "start_time": "2024-10-04T02:22:40.865Z"
   },
   {
    "duration": 41,
    "start_time": "2024-10-04T02:22:41.001Z"
   },
   {
    "duration": 12,
    "start_time": "2024-10-04T02:22:41.044Z"
   },
   {
    "duration": 332,
    "start_time": "2024-10-04T02:22:41.058Z"
   },
   {
    "duration": 0,
    "start_time": "2024-10-04T02:22:41.392Z"
   },
   {
    "duration": 12,
    "start_time": "2024-10-04T02:27:45.997Z"
   },
   {
    "duration": 289,
    "start_time": "2024-10-04T02:32:11.483Z"
   },
   {
    "duration": 1057,
    "start_time": "2024-10-04T02:32:19.105Z"
   },
   {
    "duration": 84,
    "start_time": "2024-10-04T02:32:20.165Z"
   },
   {
    "duration": 38,
    "start_time": "2024-10-04T02:32:20.250Z"
   },
   {
    "duration": 16,
    "start_time": "2024-10-04T02:32:20.291Z"
   },
   {
    "duration": 32,
    "start_time": "2024-10-04T02:32:20.309Z"
   },
   {
    "duration": 27,
    "start_time": "2024-10-04T02:32:20.343Z"
   },
   {
    "duration": 7,
    "start_time": "2024-10-04T02:32:20.372Z"
   },
   {
    "duration": 17,
    "start_time": "2024-10-04T02:32:20.380Z"
   },
   {
    "duration": 9,
    "start_time": "2024-10-04T02:32:20.432Z"
   },
   {
    "duration": 610,
    "start_time": "2024-10-04T02:32:20.443Z"
   },
   {
    "duration": 240,
    "start_time": "2024-10-04T02:32:21.055Z"
   },
   {
    "duration": 942,
    "start_time": "2024-10-04T02:32:21.296Z"
   },
   {
    "duration": 129,
    "start_time": "2024-10-04T02:32:22.241Z"
   },
   {
    "duration": 32,
    "start_time": "2024-10-04T02:32:22.371Z"
   },
   {
    "duration": 26,
    "start_time": "2024-10-04T02:32:22.405Z"
   },
   {
    "duration": 336,
    "start_time": "2024-10-04T02:32:22.433Z"
   },
   {
    "duration": 0,
    "start_time": "2024-10-04T02:32:22.770Z"
   },
   {
    "duration": 496,
    "start_time": "2024-10-04T02:37:37.801Z"
   },
   {
    "duration": 47,
    "start_time": "2024-10-04T02:37:40.056Z"
   },
   {
    "duration": 1052,
    "start_time": "2024-10-04T02:37:49.872Z"
   },
   {
    "duration": 85,
    "start_time": "2024-10-04T02:37:50.928Z"
   },
   {
    "duration": 53,
    "start_time": "2024-10-04T02:37:51.015Z"
   },
   {
    "duration": 18,
    "start_time": "2024-10-04T02:37:51.070Z"
   },
   {
    "duration": 13,
    "start_time": "2024-10-04T02:37:51.091Z"
   },
   {
    "duration": 53,
    "start_time": "2024-10-04T02:37:51.106Z"
   },
   {
    "duration": 7,
    "start_time": "2024-10-04T02:37:51.161Z"
   },
   {
    "duration": 21,
    "start_time": "2024-10-04T02:37:51.170Z"
   },
   {
    "duration": 8,
    "start_time": "2024-10-04T02:37:51.193Z"
   },
   {
    "duration": 663,
    "start_time": "2024-10-04T02:37:51.202Z"
   },
   {
    "duration": 239,
    "start_time": "2024-10-04T02:37:51.867Z"
   },
   {
    "duration": 937,
    "start_time": "2024-10-04T02:37:52.108Z"
   },
   {
    "duration": 130,
    "start_time": "2024-10-04T02:37:53.047Z"
   },
   {
    "duration": 29,
    "start_time": "2024-10-04T02:37:53.180Z"
   },
   {
    "duration": 24,
    "start_time": "2024-10-04T02:37:53.212Z"
   },
   {
    "duration": 335,
    "start_time": "2024-10-04T02:37:53.238Z"
   },
   {
    "duration": 0,
    "start_time": "2024-10-04T02:37:53.575Z"
   },
   {
    "duration": 169,
    "start_time": "2024-10-04T04:56:11.517Z"
   },
   {
    "duration": 2673,
    "start_time": "2024-10-04T04:56:17.749Z"
   },
   {
    "duration": 112,
    "start_time": "2024-10-04T04:56:20.425Z"
   },
   {
    "duration": 37,
    "start_time": "2024-10-04T04:56:20.539Z"
   },
   {
    "duration": 14,
    "start_time": "2024-10-04T04:56:20.579Z"
   },
   {
    "duration": 12,
    "start_time": "2024-10-04T04:56:20.595Z"
   },
   {
    "duration": 27,
    "start_time": "2024-10-04T04:56:20.608Z"
   },
   {
    "duration": 37,
    "start_time": "2024-10-04T04:56:20.637Z"
   },
   {
    "duration": 18,
    "start_time": "2024-10-04T04:56:20.676Z"
   },
   {
    "duration": 9,
    "start_time": "2024-10-04T04:56:20.696Z"
   },
   {
    "duration": 635,
    "start_time": "2024-10-04T04:56:20.709Z"
   },
   {
    "duration": 302,
    "start_time": "2024-10-04T04:56:21.346Z"
   },
   {
    "duration": 837,
    "start_time": "2024-10-04T04:56:21.650Z"
   },
   {
    "duration": 130,
    "start_time": "2024-10-04T04:56:22.489Z"
   },
   {
    "duration": 25,
    "start_time": "2024-10-04T04:56:22.621Z"
   },
   {
    "duration": 23,
    "start_time": "2024-10-04T04:56:22.647Z"
   },
   {
    "duration": 417,
    "start_time": "2024-10-04T04:56:22.671Z"
   },
   {
    "duration": 0,
    "start_time": "2024-10-04T04:56:23.090Z"
   },
   {
    "duration": 443,
    "start_time": "2024-10-04T05:03:08.614Z"
   },
   {
    "duration": 1001,
    "start_time": "2024-10-04T05:03:18.475Z"
   },
   {
    "duration": 78,
    "start_time": "2024-10-04T05:03:19.479Z"
   },
   {
    "duration": 48,
    "start_time": "2024-10-04T05:03:19.558Z"
   },
   {
    "duration": 16,
    "start_time": "2024-10-04T05:03:19.608Z"
   },
   {
    "duration": 12,
    "start_time": "2024-10-04T05:03:19.626Z"
   },
   {
    "duration": 48,
    "start_time": "2024-10-04T05:03:19.640Z"
   },
   {
    "duration": 7,
    "start_time": "2024-10-04T05:03:19.690Z"
   },
   {
    "duration": 16,
    "start_time": "2024-10-04T05:03:19.699Z"
   },
   {
    "duration": 8,
    "start_time": "2024-10-04T05:03:19.717Z"
   },
   {
    "duration": 584,
    "start_time": "2024-10-04T05:03:19.728Z"
   },
   {
    "duration": 228,
    "start_time": "2024-10-04T05:03:20.315Z"
   },
   {
    "duration": 906,
    "start_time": "2024-10-04T05:03:20.545Z"
   },
   {
    "duration": 141,
    "start_time": "2024-10-04T05:03:21.454Z"
   },
   {
    "duration": 4,
    "start_time": "2024-10-04T05:03:21.597Z"
   },
   {
    "duration": 27,
    "start_time": "2024-10-04T05:03:21.603Z"
   },
   {
    "duration": 10,
    "start_time": "2024-10-04T05:03:21.632Z"
   },
   {
    "duration": 341,
    "start_time": "2024-10-04T05:03:21.643Z"
   },
   {
    "duration": 0,
    "start_time": "2024-10-04T05:03:21.986Z"
   },
   {
    "duration": 477,
    "start_time": "2024-10-04T05:07:27.482Z"
   },
   {
    "duration": 1044,
    "start_time": "2024-10-04T05:07:36.903Z"
   },
   {
    "duration": 82,
    "start_time": "2024-10-04T05:07:37.949Z"
   },
   {
    "duration": 51,
    "start_time": "2024-10-04T05:07:38.032Z"
   },
   {
    "duration": 15,
    "start_time": "2024-10-04T05:07:38.087Z"
   },
   {
    "duration": 13,
    "start_time": "2024-10-04T05:07:38.104Z"
   },
   {
    "duration": 55,
    "start_time": "2024-10-04T05:07:38.118Z"
   },
   {
    "duration": 7,
    "start_time": "2024-10-04T05:07:38.175Z"
   },
   {
    "duration": 16,
    "start_time": "2024-10-04T05:07:38.184Z"
   },
   {
    "duration": 9,
    "start_time": "2024-10-04T05:07:38.202Z"
   },
   {
    "duration": 577,
    "start_time": "2024-10-04T05:07:38.214Z"
   },
   {
    "duration": 242,
    "start_time": "2024-10-04T05:07:38.793Z"
   },
   {
    "duration": 904,
    "start_time": "2024-10-04T05:07:39.038Z"
   },
   {
    "duration": 138,
    "start_time": "2024-10-04T05:07:39.944Z"
   },
   {
    "duration": 4,
    "start_time": "2024-10-04T05:07:40.084Z"
   },
   {
    "duration": 22,
    "start_time": "2024-10-04T05:07:40.090Z"
   },
   {
    "duration": 10,
    "start_time": "2024-10-04T05:07:40.114Z"
   },
   {
    "duration": 151,
    "start_time": "2024-10-04T05:07:40.126Z"
   },
   {
    "duration": 495,
    "start_time": "2024-10-04T05:07:40.279Z"
   },
   {
    "duration": 1033,
    "start_time": "2024-10-04T05:34:53.609Z"
   },
   {
    "duration": 82,
    "start_time": "2024-10-04T05:34:54.644Z"
   },
   {
    "duration": 51,
    "start_time": "2024-10-04T05:34:54.727Z"
   },
   {
    "duration": 16,
    "start_time": "2024-10-04T05:34:54.781Z"
   },
   {
    "duration": 12,
    "start_time": "2024-10-04T05:34:54.798Z"
   },
   {
    "duration": 25,
    "start_time": "2024-10-04T05:34:54.813Z"
   },
   {
    "duration": 5,
    "start_time": "2024-10-04T05:34:54.840Z"
   },
   {
    "duration": 16,
    "start_time": "2024-10-04T05:34:54.871Z"
   },
   {
    "duration": 7,
    "start_time": "2024-10-04T05:34:54.889Z"
   },
   {
    "duration": 592,
    "start_time": "2024-10-04T05:34:54.899Z"
   },
   {
    "duration": 242,
    "start_time": "2024-10-04T05:34:55.493Z"
   },
   {
    "duration": 910,
    "start_time": "2024-10-04T05:34:55.737Z"
   },
   {
    "duration": 138,
    "start_time": "2024-10-04T05:34:56.649Z"
   },
   {
    "duration": 23,
    "start_time": "2024-10-04T05:34:56.788Z"
   },
   {
    "duration": 9,
    "start_time": "2024-10-04T05:34:56.812Z"
   },
   {
    "duration": 158,
    "start_time": "2024-10-04T05:34:56.823Z"
   },
   {
    "duration": 513,
    "start_time": "2024-10-04T05:34:56.983Z"
   },
   {
    "duration": 493,
    "start_time": "2024-10-04T05:45:49.230Z"
   },
   {
    "duration": 1022,
    "start_time": "2024-10-04T05:46:01.017Z"
   },
   {
    "duration": 84,
    "start_time": "2024-10-04T05:46:02.041Z"
   },
   {
    "duration": 47,
    "start_time": "2024-10-04T05:46:02.126Z"
   },
   {
    "duration": 16,
    "start_time": "2024-10-04T05:46:02.175Z"
   },
   {
    "duration": 11,
    "start_time": "2024-10-04T05:46:02.193Z"
   },
   {
    "duration": 25,
    "start_time": "2024-10-04T05:46:02.206Z"
   },
   {
    "duration": 39,
    "start_time": "2024-10-04T05:46:02.233Z"
   },
   {
    "duration": 17,
    "start_time": "2024-10-04T05:46:02.274Z"
   },
   {
    "duration": 7,
    "start_time": "2024-10-04T05:46:02.293Z"
   },
   {
    "duration": 583,
    "start_time": "2024-10-04T05:46:02.304Z"
   },
   {
    "duration": 235,
    "start_time": "2024-10-04T05:46:02.889Z"
   },
   {
    "duration": 913,
    "start_time": "2024-10-04T05:46:03.126Z"
   },
   {
    "duration": 135,
    "start_time": "2024-10-04T05:46:04.041Z"
   },
   {
    "duration": 25,
    "start_time": "2024-10-04T05:46:04.178Z"
   },
   {
    "duration": 10,
    "start_time": "2024-10-04T05:46:04.205Z"
   },
   {
    "duration": 155,
    "start_time": "2024-10-04T05:46:04.216Z"
   },
   {
    "duration": 485,
    "start_time": "2024-10-04T05:46:04.373Z"
   },
   {
    "duration": 479,
    "start_time": "2024-10-04T05:50:02.000Z"
   },
   {
    "duration": 991,
    "start_time": "2024-10-04T05:50:08.211Z"
   },
   {
    "duration": 82,
    "start_time": "2024-10-04T05:50:09.204Z"
   },
   {
    "duration": 38,
    "start_time": "2024-10-04T05:50:09.288Z"
   },
   {
    "duration": 17,
    "start_time": "2024-10-04T05:50:09.328Z"
   },
   {
    "duration": 33,
    "start_time": "2024-10-04T05:50:09.347Z"
   },
   {
    "duration": 26,
    "start_time": "2024-10-04T05:50:09.382Z"
   },
   {
    "duration": 7,
    "start_time": "2024-10-04T05:50:09.409Z"
   },
   {
    "duration": 17,
    "start_time": "2024-10-04T05:50:09.417Z"
   },
   {
    "duration": 38,
    "start_time": "2024-10-04T05:50:09.435Z"
   },
   {
    "duration": 618,
    "start_time": "2024-10-04T05:50:09.476Z"
   },
   {
    "duration": 240,
    "start_time": "2024-10-04T05:50:10.096Z"
   },
   {
    "duration": 905,
    "start_time": "2024-10-04T05:50:10.338Z"
   },
   {
    "duration": 136,
    "start_time": "2024-10-04T05:50:11.245Z"
   },
   {
    "duration": 23,
    "start_time": "2024-10-04T05:50:11.383Z"
   },
   {
    "duration": 9,
    "start_time": "2024-10-04T05:50:11.407Z"
   },
   {
    "duration": 153,
    "start_time": "2024-10-04T05:50:11.418Z"
   },
   {
    "duration": 489,
    "start_time": "2024-10-04T05:50:11.573Z"
   },
   {
    "duration": 462,
    "start_time": "2024-10-04T05:51:57.209Z"
   },
   {
    "duration": 1019,
    "start_time": "2024-10-04T05:52:04.179Z"
   },
   {
    "duration": 84,
    "start_time": "2024-10-04T05:52:05.200Z"
   },
   {
    "duration": 37,
    "start_time": "2024-10-04T05:52:05.286Z"
   },
   {
    "duration": 17,
    "start_time": "2024-10-04T05:52:05.325Z"
   },
   {
    "duration": 37,
    "start_time": "2024-10-04T05:52:05.343Z"
   },
   {
    "duration": 27,
    "start_time": "2024-10-04T05:52:05.381Z"
   },
   {
    "duration": 6,
    "start_time": "2024-10-04T05:52:05.409Z"
   },
   {
    "duration": 17,
    "start_time": "2024-10-04T05:52:05.416Z"
   },
   {
    "duration": 38,
    "start_time": "2024-10-04T05:52:05.435Z"
   },
   {
    "duration": 612,
    "start_time": "2024-10-04T05:52:05.476Z"
   },
   {
    "duration": 253,
    "start_time": "2024-10-04T05:52:06.090Z"
   },
   {
    "duration": 910,
    "start_time": "2024-10-04T05:52:06.346Z"
   },
   {
    "duration": 133,
    "start_time": "2024-10-04T05:52:07.258Z"
   },
   {
    "duration": 22,
    "start_time": "2024-10-04T05:52:07.393Z"
   },
   {
    "duration": 9,
    "start_time": "2024-10-04T05:52:07.417Z"
   },
   {
    "duration": 152,
    "start_time": "2024-10-04T05:52:07.427Z"
   },
   {
    "duration": 501,
    "start_time": "2024-10-04T05:52:07.581Z"
   },
   {
    "duration": 474,
    "start_time": "2024-10-04T05:55:13.889Z"
   },
   {
    "duration": 1070,
    "start_time": "2024-10-04T05:55:20.880Z"
   },
   {
    "duration": 81,
    "start_time": "2024-10-04T05:55:21.953Z"
   },
   {
    "duration": 48,
    "start_time": "2024-10-04T05:55:22.036Z"
   },
   {
    "duration": 15,
    "start_time": "2024-10-04T05:55:22.087Z"
   },
   {
    "duration": 11,
    "start_time": "2024-10-04T05:55:22.105Z"
   },
   {
    "duration": 26,
    "start_time": "2024-10-04T05:55:22.118Z"
   },
   {
    "duration": 6,
    "start_time": "2024-10-04T05:55:22.171Z"
   },
   {
    "duration": 16,
    "start_time": "2024-10-04T05:55:22.179Z"
   },
   {
    "duration": 9,
    "start_time": "2024-10-04T05:55:22.197Z"
   },
   {
    "duration": 578,
    "start_time": "2024-10-04T05:55:22.208Z"
   },
   {
    "duration": 244,
    "start_time": "2024-10-04T05:55:22.787Z"
   },
   {
    "duration": 911,
    "start_time": "2024-10-04T05:55:23.033Z"
   },
   {
    "duration": 133,
    "start_time": "2024-10-04T05:55:23.946Z"
   },
   {
    "duration": 24,
    "start_time": "2024-10-04T05:55:24.081Z"
   },
   {
    "duration": 9,
    "start_time": "2024-10-04T05:55:24.106Z"
   },
   {
    "duration": 154,
    "start_time": "2024-10-04T05:55:24.117Z"
   },
   {
    "duration": 499,
    "start_time": "2024-10-04T05:55:24.274Z"
   },
   {
    "duration": 478,
    "start_time": "2024-10-04T05:56:09.185Z"
   },
   {
    "duration": 999,
    "start_time": "2024-10-04T05:56:17.187Z"
   },
   {
    "duration": 85,
    "start_time": "2024-10-04T05:56:18.188Z"
   },
   {
    "duration": 37,
    "start_time": "2024-10-04T05:56:18.275Z"
   },
   {
    "duration": 16,
    "start_time": "2024-10-04T05:56:18.314Z"
   },
   {
    "duration": 12,
    "start_time": "2024-10-04T05:56:18.332Z"
   },
   {
    "duration": 27,
    "start_time": "2024-10-04T05:56:18.371Z"
   },
   {
    "duration": 7,
    "start_time": "2024-10-04T05:56:18.400Z"
   },
   {
    "duration": 18,
    "start_time": "2024-10-04T05:56:18.408Z"
   },
   {
    "duration": 8,
    "start_time": "2024-10-04T05:56:18.429Z"
   },
   {
    "duration": 623,
    "start_time": "2024-10-04T05:56:18.472Z"
   },
   {
    "duration": 226,
    "start_time": "2024-10-04T05:56:19.096Z"
   },
   {
    "duration": 906,
    "start_time": "2024-10-04T05:56:19.325Z"
   },
   {
    "duration": 128,
    "start_time": "2024-10-04T05:56:20.233Z"
   },
   {
    "duration": 28,
    "start_time": "2024-10-04T05:56:20.363Z"
   },
   {
    "duration": 9,
    "start_time": "2024-10-04T05:56:20.393Z"
   },
   {
    "duration": 167,
    "start_time": "2024-10-04T05:56:20.404Z"
   },
   {
    "duration": 479,
    "start_time": "2024-10-04T05:56:20.573Z"
   },
   {
    "duration": 3,
    "start_time": "2024-10-04T06:05:22.287Z"
   },
   {
    "duration": 411,
    "start_time": "2024-10-04T06:28:57.476Z"
   },
   {
    "duration": 1039,
    "start_time": "2024-10-04T06:29:03.687Z"
   },
   {
    "duration": 82,
    "start_time": "2024-10-04T06:29:04.728Z"
   },
   {
    "duration": 61,
    "start_time": "2024-10-04T06:29:04.812Z"
   },
   {
    "duration": 16,
    "start_time": "2024-10-04T06:29:04.875Z"
   },
   {
    "duration": 13,
    "start_time": "2024-10-04T06:29:04.893Z"
   },
   {
    "duration": 26,
    "start_time": "2024-10-04T06:29:04.908Z"
   },
   {
    "duration": 35,
    "start_time": "2024-10-04T06:29:04.935Z"
   },
   {
    "duration": 16,
    "start_time": "2024-10-04T06:29:04.972Z"
   },
   {
    "duration": 34,
    "start_time": "2024-10-04T06:29:04.990Z"
   },
   {
    "duration": 561,
    "start_time": "2024-10-04T06:29:05.027Z"
   },
   {
    "duration": 231,
    "start_time": "2024-10-04T06:29:05.590Z"
   },
   {
    "duration": 924,
    "start_time": "2024-10-04T06:29:05.823Z"
   },
   {
    "duration": 138,
    "start_time": "2024-10-04T06:29:06.748Z"
   },
   {
    "duration": 25,
    "start_time": "2024-10-04T06:29:06.888Z"
   },
   {
    "duration": 10,
    "start_time": "2024-10-04T06:29:06.915Z"
   },
   {
    "duration": 157,
    "start_time": "2024-10-04T06:29:06.926Z"
   },
   {
    "duration": 510,
    "start_time": "2024-10-04T06:29:07.086Z"
   },
   {
    "duration": 3,
    "start_time": "2024-10-04T06:40:17.964Z"
   },
   {
    "duration": 125466,
    "start_time": "2024-10-04T06:41:27.916Z"
   },
   {
    "duration": 12,
    "start_time": "2024-10-04T06:44:20.962Z"
   },
   {
    "duration": 419,
    "start_time": "2024-10-04T06:45:09.001Z"
   },
   {
    "duration": 1030,
    "start_time": "2024-10-04T06:45:16.526Z"
   },
   {
    "duration": 83,
    "start_time": "2024-10-04T06:45:17.558Z"
   },
   {
    "duration": 57,
    "start_time": "2024-10-04T06:45:17.642Z"
   },
   {
    "duration": 16,
    "start_time": "2024-10-04T06:45:17.703Z"
   },
   {
    "duration": 13,
    "start_time": "2024-10-04T06:45:17.721Z"
   },
   {
    "duration": 46,
    "start_time": "2024-10-04T06:45:17.736Z"
   },
   {
    "duration": 6,
    "start_time": "2024-10-04T06:45:17.784Z"
   },
   {
    "duration": 17,
    "start_time": "2024-10-04T06:45:17.793Z"
   },
   {
    "duration": 8,
    "start_time": "2024-10-04T06:45:17.811Z"
   },
   {
    "duration": 580,
    "start_time": "2024-10-04T06:45:17.822Z"
   },
   {
    "duration": 229,
    "start_time": "2024-10-04T06:45:18.404Z"
   },
   {
    "duration": 907,
    "start_time": "2024-10-04T06:45:18.635Z"
   },
   {
    "duration": 129,
    "start_time": "2024-10-04T06:45:19.544Z"
   },
   {
    "duration": 22,
    "start_time": "2024-10-04T06:45:19.675Z"
   },
   {
    "duration": 9,
    "start_time": "2024-10-04T06:45:19.699Z"
   },
   {
    "duration": 161,
    "start_time": "2024-10-04T06:45:19.710Z"
   },
   {
    "duration": 433,
    "start_time": "2024-10-04T06:45:19.872Z"
   },
   {
    "duration": 290,
    "start_time": "2024-10-04T06:48:58.382Z"
   },
   {
    "duration": 1015,
    "start_time": "2024-10-04T06:49:06.166Z"
   },
   {
    "duration": 81,
    "start_time": "2024-10-04T06:49:07.184Z"
   },
   {
    "duration": 39,
    "start_time": "2024-10-04T06:49:07.270Z"
   },
   {
    "duration": 16,
    "start_time": "2024-10-04T06:49:07.311Z"
   },
   {
    "duration": 13,
    "start_time": "2024-10-04T06:49:07.328Z"
   },
   {
    "duration": 50,
    "start_time": "2024-10-04T06:49:07.342Z"
   },
   {
    "duration": 6,
    "start_time": "2024-10-04T06:49:07.394Z"
   },
   {
    "duration": 17,
    "start_time": "2024-10-04T06:49:07.401Z"
   },
   {
    "duration": 7,
    "start_time": "2024-10-04T06:49:07.420Z"
   },
   {
    "duration": 609,
    "start_time": "2024-10-04T06:49:07.430Z"
   },
   {
    "duration": 239,
    "start_time": "2024-10-04T06:49:08.041Z"
   },
   {
    "duration": 872,
    "start_time": "2024-10-04T06:49:08.282Z"
   },
   {
    "duration": 135,
    "start_time": "2024-10-04T06:49:09.156Z"
   },
   {
    "duration": 23,
    "start_time": "2024-10-04T06:49:09.293Z"
   },
   {
    "duration": 9,
    "start_time": "2024-10-04T06:49:09.318Z"
   },
   {
    "duration": 142,
    "start_time": "2024-10-04T06:49:09.329Z"
   },
   {
    "duration": 635,
    "start_time": "2024-10-04T06:49:09.474Z"
   },
   {
    "duration": 10038,
    "start_time": "2024-10-04T06:56:24.581Z"
   },
   {
    "duration": 62,
    "start_time": "2024-10-04T07:27:31.235Z"
   },
   {
    "duration": 1824,
    "start_time": "2024-10-04T07:28:05.853Z"
   },
   {
    "duration": 1113,
    "start_time": "2024-10-04T07:28:35.987Z"
   },
   {
    "duration": 91,
    "start_time": "2024-10-04T07:28:37.102Z"
   },
   {
    "duration": 39,
    "start_time": "2024-10-04T07:28:37.195Z"
   },
   {
    "duration": 37,
    "start_time": "2024-10-04T07:28:37.236Z"
   },
   {
    "duration": 12,
    "start_time": "2024-10-04T07:28:37.276Z"
   },
   {
    "duration": 26,
    "start_time": "2024-10-04T07:28:37.289Z"
   },
   {
    "duration": 6,
    "start_time": "2024-10-04T07:28:37.317Z"
   },
   {
    "duration": 47,
    "start_time": "2024-10-04T07:28:37.325Z"
   },
   {
    "duration": 10,
    "start_time": "2024-10-04T07:28:37.373Z"
   },
   {
    "duration": 613,
    "start_time": "2024-10-04T07:28:37.385Z"
   },
   {
    "duration": 235,
    "start_time": "2024-10-04T07:28:38.000Z"
   },
   {
    "duration": 908,
    "start_time": "2024-10-04T07:28:38.237Z"
   },
   {
    "duration": 134,
    "start_time": "2024-10-04T07:28:39.147Z"
   },
   {
    "duration": 23,
    "start_time": "2024-10-04T07:28:39.284Z"
   },
   {
    "duration": 10,
    "start_time": "2024-10-04T07:28:39.308Z"
   },
   {
    "duration": 156,
    "start_time": "2024-10-04T07:28:39.319Z"
   },
   {
    "duration": 10131,
    "start_time": "2024-10-04T07:28:39.477Z"
   },
   {
    "duration": 1675,
    "start_time": "2024-10-04T07:28:49.610Z"
   },
   {
    "duration": 3,
    "start_time": "2024-10-04T07:52:27.311Z"
   },
   {
    "duration": 609,
    "start_time": "2024-10-04T07:53:07.350Z"
   },
   {
    "duration": 4,
    "start_time": "2024-10-04T07:56:34.924Z"
   },
   {
    "duration": 1106,
    "start_time": "2024-10-04T07:59:54.486Z"
   },
   {
    "duration": 85,
    "start_time": "2024-10-04T07:59:55.594Z"
   },
   {
    "duration": 40,
    "start_time": "2024-10-04T07:59:55.680Z"
   },
   {
    "duration": 17,
    "start_time": "2024-10-04T07:59:55.721Z"
   },
   {
    "duration": 33,
    "start_time": "2024-10-04T07:59:55.741Z"
   },
   {
    "duration": 27,
    "start_time": "2024-10-04T07:59:55.776Z"
   },
   {
    "duration": 7,
    "start_time": "2024-10-04T07:59:55.804Z"
   },
   {
    "duration": 17,
    "start_time": "2024-10-04T07:59:55.813Z"
   },
   {
    "duration": 43,
    "start_time": "2024-10-04T07:59:55.832Z"
   },
   {
    "duration": 612,
    "start_time": "2024-10-04T07:59:55.877Z"
   },
   {
    "duration": 247,
    "start_time": "2024-10-04T07:59:56.491Z"
   },
   {
    "duration": 917,
    "start_time": "2024-10-04T07:59:56.741Z"
   },
   {
    "duration": 133,
    "start_time": "2024-10-04T07:59:57.660Z"
   },
   {
    "duration": 23,
    "start_time": "2024-10-04T07:59:57.796Z"
   },
   {
    "duration": 11,
    "start_time": "2024-10-04T07:59:57.821Z"
   },
   {
    "duration": 149,
    "start_time": "2024-10-04T07:59:57.833Z"
   },
   {
    "duration": 10193,
    "start_time": "2024-10-04T07:59:57.983Z"
   },
   {
    "duration": 615,
    "start_time": "2024-10-04T08:00:08.178Z"
   },
   {
    "duration": 89990,
    "start_time": "2024-10-04T08:00:08.795Z"
   },
   {
    "duration": 1084,
    "start_time": "2024-10-04T08:03:07.012Z"
   },
   {
    "duration": 80,
    "start_time": "2024-10-04T08:03:08.098Z"
   },
   {
    "duration": 43,
    "start_time": "2024-10-04T08:03:08.179Z"
   },
   {
    "duration": 18,
    "start_time": "2024-10-04T08:03:08.224Z"
   },
   {
    "duration": 37,
    "start_time": "2024-10-04T08:03:08.244Z"
   },
   {
    "duration": 26,
    "start_time": "2024-10-04T08:03:08.283Z"
   },
   {
    "duration": 6,
    "start_time": "2024-10-04T08:03:08.311Z"
   },
   {
    "duration": 17,
    "start_time": "2024-10-04T08:03:08.318Z"
   },
   {
    "duration": 37,
    "start_time": "2024-10-04T08:03:08.337Z"
   },
   {
    "duration": 616,
    "start_time": "2024-10-04T08:03:08.377Z"
   },
   {
    "duration": 236,
    "start_time": "2024-10-04T08:03:08.995Z"
   },
   {
    "duration": 914,
    "start_time": "2024-10-04T08:03:09.232Z"
   },
   {
    "duration": 135,
    "start_time": "2024-10-04T08:03:10.148Z"
   },
   {
    "duration": 24,
    "start_time": "2024-10-04T08:03:10.287Z"
   },
   {
    "duration": 9,
    "start_time": "2024-10-04T08:03:10.313Z"
   },
   {
    "duration": 148,
    "start_time": "2024-10-04T08:03:10.324Z"
   },
   {
    "duration": 10138,
    "start_time": "2024-10-04T08:03:10.474Z"
   },
   {
    "duration": 615,
    "start_time": "2024-10-04T08:03:20.613Z"
   },
   {
    "duration": 90165,
    "start_time": "2024-10-04T08:03:21.230Z"
   },
   {
    "duration": 92255,
    "start_time": "2024-10-04T08:38:09.140Z"
   },
   {
    "duration": 1031,
    "start_time": "2024-10-04T08:44:31.107Z"
   },
   {
    "duration": 76,
    "start_time": "2024-10-04T08:44:32.140Z"
   },
   {
    "duration": 36,
    "start_time": "2024-10-04T08:44:32.218Z"
   },
   {
    "duration": 16,
    "start_time": "2024-10-04T08:44:32.271Z"
   },
   {
    "duration": 12,
    "start_time": "2024-10-04T08:44:32.289Z"
   },
   {
    "duration": 27,
    "start_time": "2024-10-04T08:44:32.302Z"
   },
   {
    "duration": 6,
    "start_time": "2024-10-04T08:44:32.330Z"
   },
   {
    "duration": 47,
    "start_time": "2024-10-04T08:44:32.339Z"
   },
   {
    "duration": 8,
    "start_time": "2024-10-04T08:44:32.388Z"
   },
   {
    "duration": 589,
    "start_time": "2024-10-04T08:44:32.398Z"
   },
   {
    "duration": 242,
    "start_time": "2024-10-04T08:44:32.989Z"
   },
   {
    "duration": 895,
    "start_time": "2024-10-04T08:44:33.233Z"
   },
   {
    "duration": 129,
    "start_time": "2024-10-04T08:44:34.130Z"
   },
   {
    "duration": 27,
    "start_time": "2024-10-04T08:44:34.262Z"
   },
   {
    "duration": 10,
    "start_time": "2024-10-04T08:44:34.291Z"
   },
   {
    "duration": 170,
    "start_time": "2024-10-04T08:44:34.303Z"
   },
   {
    "duration": 10074,
    "start_time": "2024-10-04T08:44:34.475Z"
   },
   {
    "duration": 95320,
    "start_time": "2024-10-04T08:44:44.551Z"
   },
   {
    "duration": 1699,
    "start_time": "2024-10-04T09:12:16.172Z"
   },
   {
    "duration": 1107,
    "start_time": "2024-10-04T09:16:16.191Z"
   },
   {
    "duration": 78,
    "start_time": "2024-10-04T09:16:17.300Z"
   },
   {
    "duration": 36,
    "start_time": "2024-10-04T09:16:17.380Z"
   },
   {
    "duration": 16,
    "start_time": "2024-10-04T09:16:17.419Z"
   },
   {
    "duration": 37,
    "start_time": "2024-10-04T09:16:17.436Z"
   },
   {
    "duration": 26,
    "start_time": "2024-10-04T09:16:17.475Z"
   },
   {
    "duration": 6,
    "start_time": "2024-10-04T09:16:17.503Z"
   },
   {
    "duration": 17,
    "start_time": "2024-10-04T09:16:17.510Z"
   },
   {
    "duration": 41,
    "start_time": "2024-10-04T09:16:17.528Z"
   },
   {
    "duration": 614,
    "start_time": "2024-10-04T09:16:17.572Z"
   },
   {
    "duration": 235,
    "start_time": "2024-10-04T09:16:18.188Z"
   },
   {
    "duration": 915,
    "start_time": "2024-10-04T09:16:18.425Z"
   },
   {
    "duration": 131,
    "start_time": "2024-10-04T09:16:19.342Z"
   },
   {
    "duration": 23,
    "start_time": "2024-10-04T09:16:19.475Z"
   },
   {
    "duration": 10,
    "start_time": "2024-10-04T09:16:19.500Z"
   },
   {
    "duration": 81,
    "start_time": "2024-10-04T09:16:19.512Z"
   },
   {
    "duration": 10147,
    "start_time": "2024-10-04T09:16:19.595Z"
   },
   {
    "duration": 1025,
    "start_time": "2024-10-04T09:19:51.870Z"
   },
   {
    "duration": 82,
    "start_time": "2024-10-04T09:19:52.898Z"
   },
   {
    "duration": 37,
    "start_time": "2024-10-04T09:19:52.982Z"
   },
   {
    "duration": 15,
    "start_time": "2024-10-04T09:19:53.022Z"
   },
   {
    "duration": 34,
    "start_time": "2024-10-04T09:19:53.039Z"
   },
   {
    "duration": 26,
    "start_time": "2024-10-04T09:19:53.075Z"
   },
   {
    "duration": 6,
    "start_time": "2024-10-04T09:19:53.103Z"
   },
   {
    "duration": 17,
    "start_time": "2024-10-04T09:19:53.111Z"
   },
   {
    "duration": 41,
    "start_time": "2024-10-04T09:19:53.129Z"
   },
   {
    "duration": 614,
    "start_time": "2024-10-04T09:19:53.174Z"
   },
   {
    "duration": 233,
    "start_time": "2024-10-04T09:19:53.790Z"
   },
   {
    "duration": 903,
    "start_time": "2024-10-04T09:19:54.025Z"
   },
   {
    "duration": 129,
    "start_time": "2024-10-04T09:19:54.929Z"
   },
   {
    "duration": 27,
    "start_time": "2024-10-04T09:19:55.060Z"
   },
   {
    "duration": 9,
    "start_time": "2024-10-04T09:19:55.088Z"
   },
   {
    "duration": 95,
    "start_time": "2024-10-04T09:19:55.099Z"
   },
   {
    "duration": 10059,
    "start_time": "2024-10-04T09:19:55.271Z"
   },
   {
    "duration": 50545,
    "start_time": "2024-10-04T09:20:05.332Z"
   },
   {
    "duration": 473,
    "start_time": "2024-10-04T09:47:53.722Z"
   },
   {
    "duration": 1098,
    "start_time": "2024-10-04T09:48:05.087Z"
   },
   {
    "duration": 83,
    "start_time": "2024-10-04T09:48:06.188Z"
   },
   {
    "duration": 37,
    "start_time": "2024-10-04T09:48:06.272Z"
   },
   {
    "duration": 17,
    "start_time": "2024-10-04T09:48:06.312Z"
   },
   {
    "duration": 40,
    "start_time": "2024-10-04T09:48:06.332Z"
   },
   {
    "duration": 26,
    "start_time": "2024-10-04T09:48:06.374Z"
   },
   {
    "duration": 6,
    "start_time": "2024-10-04T09:48:06.402Z"
   },
   {
    "duration": 17,
    "start_time": "2024-10-04T09:48:06.409Z"
   },
   {
    "duration": 9,
    "start_time": "2024-10-04T09:48:06.428Z"
   },
   {
    "duration": 624,
    "start_time": "2024-10-04T09:48:06.472Z"
   },
   {
    "duration": 240,
    "start_time": "2024-10-04T09:48:07.097Z"
   },
   {
    "duration": 904,
    "start_time": "2024-10-04T09:48:07.339Z"
   },
   {
    "duration": 131,
    "start_time": "2024-10-04T09:48:08.245Z"
   },
   {
    "duration": 23,
    "start_time": "2024-10-04T09:48:08.378Z"
   },
   {
    "duration": 9,
    "start_time": "2024-10-04T09:48:08.402Z"
   },
   {
    "duration": 159,
    "start_time": "2024-10-04T09:48:08.412Z"
   },
   {
    "duration": 10162,
    "start_time": "2024-10-04T09:48:08.575Z"
   },
   {
    "duration": 50959,
    "start_time": "2024-10-04T09:48:18.739Z"
   },
   {
    "duration": 532,
    "start_time": "2024-10-04T09:49:09.701Z"
   },
   {
    "duration": 28,
    "start_time": "2024-10-04T09:53:08.862Z"
   },
   {
    "duration": 29,
    "start_time": "2024-10-04T09:54:39.226Z"
   },
   {
    "duration": 1063,
    "start_time": "2024-10-04T09:54:47.515Z"
   },
   {
    "duration": 76,
    "start_time": "2024-10-04T09:54:48.581Z"
   },
   {
    "duration": 37,
    "start_time": "2024-10-04T09:54:48.671Z"
   },
   {
    "duration": 16,
    "start_time": "2024-10-04T09:54:48.710Z"
   },
   {
    "duration": 14,
    "start_time": "2024-10-04T09:54:48.727Z"
   },
   {
    "duration": 49,
    "start_time": "2024-10-04T09:54:48.743Z"
   },
   {
    "duration": 6,
    "start_time": "2024-10-04T09:54:48.793Z"
   },
   {
    "duration": 17,
    "start_time": "2024-10-04T09:54:48.801Z"
   },
   {
    "duration": 8,
    "start_time": "2024-10-04T09:54:48.820Z"
   },
   {
    "duration": 636,
    "start_time": "2024-10-04T09:54:48.830Z"
   },
   {
    "duration": 238,
    "start_time": "2024-10-04T09:54:49.469Z"
   },
   {
    "duration": 899,
    "start_time": "2024-10-04T09:54:49.710Z"
   },
   {
    "duration": 129,
    "start_time": "2024-10-04T09:54:50.611Z"
   },
   {
    "duration": 31,
    "start_time": "2024-10-04T09:54:50.742Z"
   },
   {
    "duration": 9,
    "start_time": "2024-10-04T09:54:50.775Z"
   },
   {
    "duration": 97,
    "start_time": "2024-10-04T09:54:50.785Z"
   },
   {
    "duration": 10090,
    "start_time": "2024-10-04T09:54:50.886Z"
   },
   {
    "duration": 50321,
    "start_time": "2024-10-04T09:55:00.978Z"
   },
   {
    "duration": 87,
    "start_time": "2024-10-04T09:55:51.301Z"
   },
   {
    "duration": 1023,
    "start_time": "2024-10-04T10:04:40.454Z"
   },
   {
    "duration": 77,
    "start_time": "2024-10-04T10:04:41.480Z"
   },
   {
    "duration": 45,
    "start_time": "2024-10-04T10:04:41.559Z"
   },
   {
    "duration": 17,
    "start_time": "2024-10-04T10:04:41.605Z"
   },
   {
    "duration": 12,
    "start_time": "2024-10-04T10:04:41.624Z"
   },
   {
    "duration": 51,
    "start_time": "2024-10-04T10:04:41.637Z"
   },
   {
    "duration": 7,
    "start_time": "2024-10-04T10:04:41.689Z"
   },
   {
    "duration": 16,
    "start_time": "2024-10-04T10:04:41.697Z"
   },
   {
    "duration": 9,
    "start_time": "2024-10-04T10:04:41.715Z"
   },
   {
    "duration": 587,
    "start_time": "2024-10-04T10:04:41.726Z"
   },
   {
    "duration": 218,
    "start_time": "2024-10-04T10:04:42.315Z"
   },
   {
    "duration": 904,
    "start_time": "2024-10-04T10:04:42.535Z"
   },
   {
    "duration": 128,
    "start_time": "2024-10-04T10:04:43.442Z"
   },
   {
    "duration": 23,
    "start_time": "2024-10-04T10:04:43.573Z"
   },
   {
    "duration": 10,
    "start_time": "2024-10-04T10:04:43.597Z"
   },
   {
    "duration": 87,
    "start_time": "2024-10-04T10:04:43.608Z"
   },
   {
    "duration": 10098,
    "start_time": "2024-10-04T10:04:43.771Z"
   },
   {
    "duration": 175323,
    "start_time": "2024-10-04T10:04:53.870Z"
   },
   {
    "duration": 0,
    "start_time": "2024-10-04T10:07:49.194Z"
   },
   {
    "duration": 987,
    "start_time": "2024-10-04T10:11:44.733Z"
   },
   {
    "duration": 82,
    "start_time": "2024-10-04T10:11:45.722Z"
   },
   {
    "duration": 37,
    "start_time": "2024-10-04T10:11:45.806Z"
   },
   {
    "duration": 35,
    "start_time": "2024-10-04T10:11:45.845Z"
   },
   {
    "duration": 12,
    "start_time": "2024-10-04T10:11:45.881Z"
   },
   {
    "duration": 26,
    "start_time": "2024-10-04T10:11:45.895Z"
   },
   {
    "duration": 6,
    "start_time": "2024-10-04T10:11:45.922Z"
   },
   {
    "duration": 50,
    "start_time": "2024-10-04T10:11:45.930Z"
   },
   {
    "duration": 9,
    "start_time": "2024-10-04T10:11:45.982Z"
   },
   {
    "duration": 602,
    "start_time": "2024-10-04T10:11:45.993Z"
   },
   {
    "duration": 243,
    "start_time": "2024-10-04T10:11:46.597Z"
   },
   {
    "duration": 900,
    "start_time": "2024-10-04T10:11:46.842Z"
   },
   {
    "duration": 127,
    "start_time": "2024-10-04T10:11:47.744Z"
   },
   {
    "duration": 22,
    "start_time": "2024-10-04T10:11:47.873Z"
   },
   {
    "duration": 10,
    "start_time": "2024-10-04T10:11:47.897Z"
   },
   {
    "duration": 164,
    "start_time": "2024-10-04T10:11:47.908Z"
   },
   {
    "duration": 10130,
    "start_time": "2024-10-04T10:11:48.075Z"
   },
   {
    "duration": 176194,
    "start_time": "2024-10-04T10:11:58.208Z"
   },
   {
    "duration": 0,
    "start_time": "2024-10-04T10:14:54.404Z"
   },
   {
    "duration": 1043,
    "start_time": "2024-10-04T10:19:07.511Z"
   },
   {
    "duration": 77,
    "start_time": "2024-10-04T10:19:08.557Z"
   },
   {
    "duration": 49,
    "start_time": "2024-10-04T10:19:08.636Z"
   },
   {
    "duration": 15,
    "start_time": "2024-10-04T10:19:08.686Z"
   },
   {
    "duration": 13,
    "start_time": "2024-10-04T10:19:08.703Z"
   },
   {
    "duration": 53,
    "start_time": "2024-10-04T10:19:08.717Z"
   },
   {
    "duration": 6,
    "start_time": "2024-10-04T10:19:08.772Z"
   },
   {
    "duration": 17,
    "start_time": "2024-10-04T10:19:08.779Z"
   },
   {
    "duration": 7,
    "start_time": "2024-10-04T10:19:08.797Z"
   },
   {
    "duration": 581,
    "start_time": "2024-10-04T10:19:08.806Z"
   },
   {
    "duration": 244,
    "start_time": "2024-10-04T10:19:09.389Z"
   },
   {
    "duration": 904,
    "start_time": "2024-10-04T10:19:09.634Z"
   },
   {
    "duration": 134,
    "start_time": "2024-10-04T10:19:10.540Z"
   },
   {
    "duration": 21,
    "start_time": "2024-10-04T10:19:10.677Z"
   },
   {
    "duration": 9,
    "start_time": "2024-10-04T10:19:10.700Z"
   },
   {
    "duration": 161,
    "start_time": "2024-10-04T10:19:10.710Z"
   },
   {
    "duration": 10071,
    "start_time": "2024-10-04T10:19:10.873Z"
   },
   {
    "duration": 88831,
    "start_time": "2024-10-04T10:19:20.945Z"
   },
   {
    "duration": 21,
    "start_time": "2024-10-04T10:20:49.778Z"
   },
   {
    "duration": 28,
    "start_time": "2024-10-04T10:28:36.772Z"
   },
   {
    "duration": 11686,
    "start_time": "2024-10-04T10:31:01.284Z"
   },
   {
    "duration": 16,
    "start_time": "2024-10-04T10:32:02.380Z"
   },
   {
    "duration": 1029,
    "start_time": "2024-10-04T10:32:13.063Z"
   },
   {
    "duration": 84,
    "start_time": "2024-10-04T10:32:14.094Z"
   },
   {
    "duration": 37,
    "start_time": "2024-10-04T10:32:14.181Z"
   },
   {
    "duration": 16,
    "start_time": "2024-10-04T10:32:14.221Z"
   },
   {
    "duration": 33,
    "start_time": "2024-10-04T10:32:14.239Z"
   },
   {
    "duration": 25,
    "start_time": "2024-10-04T10:32:14.274Z"
   },
   {
    "duration": 6,
    "start_time": "2024-10-04T10:32:14.301Z"
   },
   {
    "duration": 16,
    "start_time": "2024-10-04T10:32:14.309Z"
   },
   {
    "duration": 7,
    "start_time": "2024-10-04T10:32:14.327Z"
   },
   {
    "duration": 618,
    "start_time": "2024-10-04T10:32:14.371Z"
   },
   {
    "duration": 243,
    "start_time": "2024-10-04T10:32:14.990Z"
   },
   {
    "duration": 902,
    "start_time": "2024-10-04T10:32:15.235Z"
   },
   {
    "duration": 127,
    "start_time": "2024-10-04T10:32:16.139Z"
   },
   {
    "duration": 25,
    "start_time": "2024-10-04T10:32:16.270Z"
   },
   {
    "duration": 10,
    "start_time": "2024-10-04T10:32:16.296Z"
   },
   {
    "duration": 164,
    "start_time": "2024-10-04T10:32:16.307Z"
   },
   {
    "duration": 10240,
    "start_time": "2024-10-04T10:32:16.473Z"
   },
   {
    "duration": 14266,
    "start_time": "2024-10-04T10:32:26.715Z"
   },
   {
    "duration": 277,
    "start_time": "2024-10-04T10:32:40.982Z"
   },
   {
    "duration": 22,
    "start_time": "2024-10-04T10:35:58.677Z"
   },
   {
    "duration": 22,
    "start_time": "2024-10-04T10:36:58.806Z"
   },
   {
    "duration": 1086,
    "start_time": "2024-10-04T10:37:06.604Z"
   },
   {
    "duration": 85,
    "start_time": "2024-10-04T10:37:07.692Z"
   },
   {
    "duration": 36,
    "start_time": "2024-10-04T10:37:07.778Z"
   },
   {
    "duration": 16,
    "start_time": "2024-10-04T10:37:07.816Z"
   },
   {
    "duration": 37,
    "start_time": "2024-10-04T10:37:07.834Z"
   },
   {
    "duration": 25,
    "start_time": "2024-10-04T10:37:07.872Z"
   },
   {
    "duration": 6,
    "start_time": "2024-10-04T10:37:07.899Z"
   },
   {
    "duration": 16,
    "start_time": "2024-10-04T10:37:07.907Z"
   },
   {
    "duration": 7,
    "start_time": "2024-10-04T10:37:07.925Z"
   },
   {
    "duration": 652,
    "start_time": "2024-10-04T10:37:07.935Z"
   },
   {
    "duration": 241,
    "start_time": "2024-10-04T10:37:08.589Z"
   },
   {
    "duration": 906,
    "start_time": "2024-10-04T10:37:08.832Z"
   },
   {
    "duration": 128,
    "start_time": "2024-10-04T10:37:09.739Z"
   },
   {
    "duration": 22,
    "start_time": "2024-10-04T10:37:09.870Z"
   },
   {
    "duration": 9,
    "start_time": "2024-10-04T10:37:09.894Z"
   },
   {
    "duration": 167,
    "start_time": "2024-10-04T10:37:09.904Z"
   },
   {
    "duration": 10064,
    "start_time": "2024-10-04T10:37:10.072Z"
   },
   {
    "duration": 246,
    "start_time": "2024-10-04T10:37:20.138Z"
   },
   {
    "duration": 0,
    "start_time": "2024-10-04T10:37:20.386Z"
   },
   {
    "duration": 3,
    "start_time": "2024-10-04T10:38:42.584Z"
   },
   {
    "duration": 1098,
    "start_time": "2024-10-04T10:38:49.388Z"
   },
   {
    "duration": 87,
    "start_time": "2024-10-04T10:38:50.488Z"
   },
   {
    "duration": 37,
    "start_time": "2024-10-04T10:38:50.577Z"
   },
   {
    "duration": 15,
    "start_time": "2024-10-04T10:38:50.616Z"
   },
   {
    "duration": 37,
    "start_time": "2024-10-04T10:38:50.633Z"
   },
   {
    "duration": 26,
    "start_time": "2024-10-04T10:38:50.672Z"
   },
   {
    "duration": 7,
    "start_time": "2024-10-04T10:38:50.699Z"
   },
   {
    "duration": 16,
    "start_time": "2024-10-04T10:38:50.707Z"
   },
   {
    "duration": 8,
    "start_time": "2024-10-04T10:38:50.725Z"
   },
   {
    "duration": 659,
    "start_time": "2024-10-04T10:38:50.735Z"
   },
   {
    "duration": 253,
    "start_time": "2024-10-04T10:38:51.396Z"
   },
   {
    "duration": 895,
    "start_time": "2024-10-04T10:38:51.650Z"
   },
   {
    "duration": 130,
    "start_time": "2024-10-04T10:38:52.547Z"
   },
   {
    "duration": 23,
    "start_time": "2024-10-04T10:38:52.679Z"
   },
   {
    "duration": 9,
    "start_time": "2024-10-04T10:38:52.704Z"
   },
   {
    "duration": 157,
    "start_time": "2024-10-04T10:38:52.714Z"
   },
   {
    "duration": 10166,
    "start_time": "2024-10-04T10:38:52.874Z"
   },
   {
    "duration": 24252,
    "start_time": "2024-10-04T10:39:03.042Z"
   },
   {
    "duration": 20,
    "start_time": "2024-10-04T10:39:27.371Z"
   },
   {
    "duration": 1028,
    "start_time": "2024-10-04T10:47:33.673Z"
   },
   {
    "duration": 80,
    "start_time": "2024-10-04T10:47:34.703Z"
   },
   {
    "duration": 39,
    "start_time": "2024-10-04T10:47:34.785Z"
   },
   {
    "duration": 15,
    "start_time": "2024-10-04T10:47:34.828Z"
   },
   {
    "duration": 35,
    "start_time": "2024-10-04T10:47:34.845Z"
   },
   {
    "duration": 27,
    "start_time": "2024-10-04T10:47:34.882Z"
   },
   {
    "duration": 6,
    "start_time": "2024-10-04T10:47:34.910Z"
   },
   {
    "duration": 16,
    "start_time": "2024-10-04T10:47:34.918Z"
   },
   {
    "duration": 37,
    "start_time": "2024-10-04T10:47:34.936Z"
   },
   {
    "duration": 612,
    "start_time": "2024-10-04T10:47:34.976Z"
   },
   {
    "duration": 243,
    "start_time": "2024-10-04T10:47:35.590Z"
   },
   {
    "duration": 910,
    "start_time": "2024-10-04T10:47:35.835Z"
   },
   {
    "duration": 142,
    "start_time": "2024-10-04T10:47:36.747Z"
   },
   {
    "duration": 24,
    "start_time": "2024-10-04T10:47:36.891Z"
   },
   {
    "duration": 9,
    "start_time": "2024-10-04T10:47:36.918Z"
   },
   {
    "duration": 154,
    "start_time": "2024-10-04T10:47:36.928Z"
   },
   {
    "duration": 10109,
    "start_time": "2024-10-04T10:47:37.087Z"
   },
   {
    "duration": 21491,
    "start_time": "2024-10-04T10:47:47.200Z"
   },
   {
    "duration": 90,
    "start_time": "2024-10-04T10:48:08.693Z"
   },
   {
    "duration": 21841,
    "start_time": "2024-10-04T10:59:23.449Z"
   },
   {
    "duration": 21980,
    "start_time": "2024-10-04T11:09:00.981Z"
   },
   {
    "duration": 1438,
    "start_time": "2024-10-04T11:11:55.399Z"
   },
   {
    "duration": 1046,
    "start_time": "2024-10-04T11:12:11.946Z"
   },
   {
    "duration": 77,
    "start_time": "2024-10-04T11:12:12.994Z"
   },
   {
    "duration": 36,
    "start_time": "2024-10-04T11:12:13.073Z"
   },
   {
    "duration": 16,
    "start_time": "2024-10-04T11:12:13.111Z"
   },
   {
    "duration": 13,
    "start_time": "2024-10-04T11:12:13.129Z"
   },
   {
    "duration": 50,
    "start_time": "2024-10-04T11:12:13.143Z"
   },
   {
    "duration": 6,
    "start_time": "2024-10-04T11:12:13.194Z"
   },
   {
    "duration": 19,
    "start_time": "2024-10-04T11:12:13.202Z"
   },
   {
    "duration": 7,
    "start_time": "2024-10-04T11:12:13.222Z"
   },
   {
    "duration": 592,
    "start_time": "2024-10-04T11:12:13.232Z"
   },
   {
    "duration": 212,
    "start_time": "2024-10-04T11:12:13.827Z"
   },
   {
    "duration": 890,
    "start_time": "2024-10-04T11:12:14.041Z"
   },
   {
    "duration": 128,
    "start_time": "2024-10-04T11:12:14.933Z"
   },
   {
    "duration": 27,
    "start_time": "2024-10-04T11:12:15.063Z"
   },
   {
    "duration": 9,
    "start_time": "2024-10-04T11:12:15.092Z"
   },
   {
    "duration": 165,
    "start_time": "2024-10-04T11:12:15.104Z"
   },
   {
    "duration": 10091,
    "start_time": "2024-10-04T11:12:15.271Z"
   },
   {
    "duration": 22170,
    "start_time": "2024-10-04T11:12:25.364Z"
   },
   {
    "duration": 1300,
    "start_time": "2024-10-04T11:12:47.536Z"
   },
   {
    "duration": 42,
    "start_time": "2024-10-04T11:12:48.839Z"
   },
   {
    "duration": 3,
    "start_time": "2024-10-04T11:17:44.753Z"
   },
   {
    "duration": 1051,
    "start_time": "2024-10-04T11:19:02.037Z"
   },
   {
    "duration": 81,
    "start_time": "2024-10-04T11:19:03.090Z"
   },
   {
    "duration": 36,
    "start_time": "2024-10-04T11:19:03.173Z"
   },
   {
    "duration": 16,
    "start_time": "2024-10-04T11:19:03.211Z"
   },
   {
    "duration": 12,
    "start_time": "2024-10-04T11:19:03.228Z"
   },
   {
    "duration": 51,
    "start_time": "2024-10-04T11:19:03.241Z"
   },
   {
    "duration": 7,
    "start_time": "2024-10-04T11:19:03.293Z"
   },
   {
    "duration": 15,
    "start_time": "2024-10-04T11:19:03.302Z"
   },
   {
    "duration": 9,
    "start_time": "2024-10-04T11:19:03.319Z"
   },
   {
    "duration": 571,
    "start_time": "2024-10-04T11:19:03.331Z"
   },
   {
    "duration": 228,
    "start_time": "2024-10-04T11:19:03.903Z"
   },
   {
    "duration": 916,
    "start_time": "2024-10-04T11:19:04.133Z"
   },
   {
    "duration": 131,
    "start_time": "2024-10-04T11:19:05.051Z"
   },
   {
    "duration": 23,
    "start_time": "2024-10-04T11:19:05.184Z"
   },
   {
    "duration": 9,
    "start_time": "2024-10-04T11:19:05.209Z"
   },
   {
    "duration": 151,
    "start_time": "2024-10-04T11:19:05.220Z"
   },
   {
    "duration": 10106,
    "start_time": "2024-10-04T11:19:05.373Z"
   },
   {
    "duration": 24854,
    "start_time": "2024-10-04T11:19:15.481Z"
   },
   {
    "duration": 1315,
    "start_time": "2024-10-04T11:19:40.337Z"
   },
   {
    "duration": 28,
    "start_time": "2024-10-04T11:19:41.654Z"
   },
   {
    "duration": 22009,
    "start_time": "2024-10-04T11:21:20.073Z"
   },
   {
    "duration": 25,
    "start_time": "2024-10-04T11:22:52.469Z"
   }
  ],
  "kernelspec": {
   "display_name": "Python 3 (ipykernel)",
   "language": "python",
   "name": "python3"
  },
  "language_info": {
   "codemirror_mode": {
    "name": "ipython",
    "version": 3
   },
   "file_extension": ".py",
   "mimetype": "text/x-python",
   "name": "python",
   "nbconvert_exporter": "python",
   "pygments_lexer": "ipython3",
   "version": "3.9.19"
  },
  "toc": {
   "base_numbering": 1,
   "nav_menu": {},
   "number_sections": true,
   "sideBar": true,
   "skip_h1_title": true,
   "title_cell": "Table of Contents",
   "title_sidebar": "Contents",
   "toc_cell": false,
   "toc_position": {},
   "toc_section_display": true,
   "toc_window_display": false
  }
 },
 "nbformat": 4,
 "nbformat_minor": 2
}
